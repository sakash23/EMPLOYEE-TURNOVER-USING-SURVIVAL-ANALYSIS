{
 "cells": [
  {
   "cell_type": "markdown",
   "id": "38fdc8a6",
   "metadata": {},
   "source": [
    "# EMPLOYEE TURNOVER USING SURVIVAL ANALYSIS"
   ]
  },
  {
   "cell_type": "markdown",
   "id": "e0f92dd6",
   "metadata": {},
   "source": [
    "# Importing Libraries"
   ]
  },
  {
   "cell_type": "code",
   "execution_count": 1,
   "id": "7d284895",
   "metadata": {},
   "outputs": [
    {
     "name": "stdout",
     "output_type": "stream",
     "text": [
      "Requirement already satisfied: sklearn in c:\\users\\akash sharma\\appdata\\local\\programs\\python\\python39\\lib\\site-packages (0.0)\n",
      "Requirement already satisfied: scikit-learn in c:\\users\\akash sharma\\appdata\\local\\programs\\python\\python39\\lib\\site-packages (from sklearn) (1.1.2)\n",
      "Requirement already satisfied: scipy>=1.3.2 in c:\\users\\akash sharma\\appdata\\local\\programs\\python\\python39\\lib\\site-packages (from scikit-learn->sklearn) (1.9.1)\n",
      "Requirement already satisfied: joblib>=1.0.0 in c:\\users\\akash sharma\\appdata\\local\\programs\\python\\python39\\lib\\site-packages (from scikit-learn->sklearn) (1.1.0)\n",
      "Requirement already satisfied: numpy>=1.17.3 in c:\\users\\akash sharma\\appdata\\local\\programs\\python\\python39\\lib\\site-packages (from scikit-learn->sklearn) (1.23.2)\n",
      "Requirement already satisfied: threadpoolctl>=2.0.0 in c:\\users\\akash sharma\\appdata\\local\\programs\\python\\python39\\lib\\site-packages (from scikit-learn->sklearn) (3.1.0)\n",
      "Note: you may need to restart the kernel to use updated packages.\n"
     ]
    },
    {
     "name": "stderr",
     "output_type": "stream",
     "text": [
      "WARNING: You are using pip version 20.2.3; however, version 22.2.2 is available.\n",
      "You should consider upgrading via the 'c:\\users\\akash sharma\\appdata\\local\\programs\\python\\python39\\python.exe -m pip install --upgrade pip' command.\n"
     ]
    }
   ],
   "source": [
    "pip install sklearn"
   ]
  },
  {
   "cell_type": "code",
   "execution_count": 2,
   "id": "0607aa3f",
   "metadata": {},
   "outputs": [
    {
     "name": "stdout",
     "output_type": "stream",
     "text": [
      "Requirement already satisfied: openpyxl in c:\\users\\akash sharma\\appdata\\local\\programs\\python\\python39\\lib\\site-packages (3.0.10)\n",
      "Requirement already satisfied: et-xmlfile in c:\\users\\akash sharma\\appdata\\local\\programs\\python\\python39\\lib\\site-packages (from openpyxl) (1.1.0)\n",
      "Note: you may need to restart the kernel to use updated packages.\n"
     ]
    },
    {
     "name": "stderr",
     "output_type": "stream",
     "text": [
      "WARNING: You are using pip version 20.2.3; however, version 22.2.2 is available.\n",
      "You should consider upgrading via the 'c:\\users\\akash sharma\\appdata\\local\\programs\\python\\python39\\python.exe -m pip install --upgrade pip' command.\n"
     ]
    }
   ],
   "source": [
    "pip install openpyxl"
   ]
  },
  {
   "cell_type": "code",
   "execution_count": 3,
   "id": "0b8ded1d",
   "metadata": {
    "scrolled": false
   },
   "outputs": [
    {
     "name": "stdout",
     "output_type": "stream",
     "text": [
      "Requirement already satisfied: pandas-profiling in c:\\users\\akash sharma\\appdata\\local\\programs\\python\\python39\\lib\\site-packages (3.2.0)\n",
      "Requirement already satisfied: seaborn>=0.10.1 in c:\\users\\akash sharma\\appdata\\local\\programs\\python\\python39\\lib\\site-packages (from pandas-profiling) (0.12.0)\n",
      "Requirement already satisfied: numpy>=1.16.0 in c:\\users\\akash sharma\\appdata\\local\\programs\\python\\python39\\lib\\site-packages (from pandas-profiling) (1.23.2)\n",
      "Requirement already satisfied: missingno>=0.4.2 in c:\\users\\akash sharma\\appdata\\local\\programs\\python\\python39\\lib\\site-packages (from pandas-profiling) (0.5.1)\n",
      "Requirement already satisfied: phik>=0.11.1 in c:\\users\\akash sharma\\appdata\\local\\programs\\python\\python39\\lib\\site-packages (from pandas-profiling) (0.12.2)\n",
      "Requirement already satisfied: pandas!=1.0.0,!=1.0.1,!=1.0.2,!=1.1.0,>=0.25.3 in c:\\users\\akash sharma\\appdata\\local\\programs\\python\\python39\\lib\\site-packages (from pandas-profiling) (1.4.3)\n",
      "Requirement already satisfied: tangled-up-in-unicode==0.2.0 in c:\\users\\akash sharma\\appdata\\local\\programs\\python\\python39\\lib\\site-packages (from pandas-profiling) (0.2.0)\n",
      "Requirement already satisfied: tqdm>=4.48.2 in c:\\users\\akash sharma\\appdata\\local\\programs\\python\\python39\\lib\\site-packages (from pandas-profiling) (4.64.1)\n",
      "Requirement already satisfied: pydantic>=1.8.1 in c:\\users\\akash sharma\\appdata\\local\\programs\\python\\python39\\lib\\site-packages (from pandas-profiling) (1.10.2)\n",
      "Requirement already satisfied: matplotlib>=3.2.0 in c:\\users\\akash sharma\\appdata\\local\\programs\\python\\python39\\lib\\site-packages (from pandas-profiling) (3.5.3)\n",
      "Requirement already satisfied: htmlmin>=0.1.12 in c:\\users\\akash sharma\\appdata\\local\\programs\\python\\python39\\lib\\site-packages (from pandas-profiling) (0.1.12)\n",
      "Requirement already satisfied: multimethod>=1.4 in c:\\users\\akash sharma\\appdata\\local\\programs\\python\\python39\\lib\\site-packages (from pandas-profiling) (1.8)\n",
      "Requirement already satisfied: jinja2>=2.11.1 in c:\\users\\akash sharma\\appdata\\local\\programs\\python\\python39\\lib\\site-packages (from pandas-profiling) (3.1.2)\n",
      "Requirement already satisfied: markupsafe~=2.1.1 in c:\\users\\akash sharma\\appdata\\local\\programs\\python\\python39\\lib\\site-packages (from pandas-profiling) (2.1.1)\n",
      "Requirement already satisfied: PyYAML>=5.0.0 in c:\\users\\akash sharma\\appdata\\local\\programs\\python\\python39\\lib\\site-packages (from pandas-profiling) (6.0)\n",
      "Requirement already satisfied: joblib~=1.1.0 in c:\\users\\akash sharma\\appdata\\local\\programs\\python\\python39\\lib\\site-packages (from pandas-profiling) (1.1.0)\n",
      "Requirement already satisfied: visions[type_image_path]==0.7.4 in c:\\users\\akash sharma\\appdata\\local\\programs\\python\\python39\\lib\\site-packages (from pandas-profiling) (0.7.4)\n",
      "Requirement already satisfied: requests>=2.24.0 in c:\\users\\akash sharma\\appdata\\local\\programs\\python\\python39\\lib\\site-packages (from pandas-profiling) (2.28.1)\n",
      "Requirement already satisfied: scipy>=1.4.1 in c:\\users\\akash sharma\\appdata\\local\\programs\\python\\python39\\lib\\site-packages (from pandas-profiling) (1.9.1)\n",
      "Requirement already satisfied: pytz>=2020.1 in c:\\users\\akash sharma\\appdata\\local\\programs\\python\\python39\\lib\\site-packages (from pandas!=1.0.0,!=1.0.1,!=1.0.2,!=1.1.0,>=0.25.3->pandas-profiling) (2022.2.1)\n",
      "Requirement already satisfied: python-dateutil>=2.8.1 in c:\\users\\akash sharma\\appdata\\local\\programs\\python\\python39\\lib\\site-packages (from pandas!=1.0.0,!=1.0.1,!=1.0.2,!=1.1.0,>=0.25.3->pandas-profiling) (2.8.2)\n",
      "Requirement already satisfied: colorama; platform_system == \"Windows\" in c:\\users\\akash sharma\\appdata\\local\\programs\\python\\python39\\lib\\site-packages (from tqdm>=4.48.2->pandas-profiling) (0.4.5)\n",
      "Requirement already satisfied: typing-extensions>=4.1.0 in c:\\users\\akash sharma\\appdata\\local\\programs\\python\\python39\\lib\\site-packages (from pydantic>=1.8.1->pandas-profiling) (4.3.0)\n",
      "Requirement already satisfied: pillow>=6.2.0 in c:\\users\\akash sharma\\appdata\\local\\programs\\python\\python39\\lib\\site-packages (from matplotlib>=3.2.0->pandas-profiling) (9.2.0)\n",
      "Requirement already satisfied: packaging>=20.0 in c:\\users\\akash sharma\\appdata\\local\\programs\\python\\python39\\lib\\site-packages (from matplotlib>=3.2.0->pandas-profiling) (21.3)\n",
      "Requirement already satisfied: kiwisolver>=1.0.1 in c:\\users\\akash sharma\\appdata\\local\\programs\\python\\python39\\lib\\site-packages (from matplotlib>=3.2.0->pandas-profiling) (1.4.4)\n",
      "Requirement already satisfied: fonttools>=4.22.0 in c:\\users\\akash sharma\\appdata\\local\\programs\\python\\python39\\lib\\site-packages (from matplotlib>=3.2.0->pandas-profiling) (4.37.1)\n",
      "Requirement already satisfied: pyparsing>=2.2.1 in c:\\users\\akash sharma\\appdata\\local\\programs\\python\\python39\\lib\\site-packages (from matplotlib>=3.2.0->pandas-profiling) (3.0.9)\n",
      "Requirement already satisfied: cycler>=0.10 in c:\\users\\akash sharma\\appdata\\local\\programs\\python\\python39\\lib\\site-packages (from matplotlib>=3.2.0->pandas-profiling) (0.11.0)\n",
      "Requirement already satisfied: attrs>=19.3.0 in c:\\users\\akash sharma\\appdata\\local\\programs\\python\\python39\\lib\\site-packages (from visions[type_image_path]==0.7.4->pandas-profiling) (21.4.0)\n",
      "Requirement already satisfied: networkx>=2.4 in c:\\users\\akash sharma\\appdata\\local\\programs\\python\\python39\\lib\\site-packages (from visions[type_image_path]==0.7.4->pandas-profiling) (2.8.6)\n",
      "Requirement already satisfied: imagehash; extra == \"type_image_path\" in c:\\users\\akash sharma\\appdata\\local\\programs\\python\\python39\\lib\\site-packages (from visions[type_image_path]==0.7.4->pandas-profiling) (4.3.0)\n",
      "Requirement already satisfied: certifi>=2017.4.17 in c:\\users\\akash sharma\\appdata\\local\\programs\\python\\python39\\lib\\site-packages (from requests>=2.24.0->pandas-profiling) (2022.6.15)\n",
      "Requirement already satisfied: urllib3<1.27,>=1.21.1 in c:\\users\\akash sharma\\appdata\\local\\programs\\python\\python39\\lib\\site-packages (from requests>=2.24.0->pandas-profiling) (1.26.12)\n",
      "Requirement already satisfied: charset-normalizer<3,>=2 in c:\\users\\akash sharma\\appdata\\local\\programs\\python\\python39\\lib\\site-packages (from requests>=2.24.0->pandas-profiling) (2.1.1)\n",
      "Requirement already satisfied: idna<4,>=2.5 in c:\\users\\akash sharma\\appdata\\local\\programs\\python\\python39\\lib\\site-packages (from requests>=2.24.0->pandas-profiling) (3.3)\n",
      "Requirement already satisfied: six>=1.5 in c:\\users\\akash sharma\\appdata\\local\\programs\\python\\python39\\lib\\site-packages (from python-dateutil>=2.8.1->pandas!=1.0.0,!=1.0.1,!=1.0.2,!=1.1.0,>=0.25.3->pandas-profiling) (1.16.0)\n",
      "Requirement already satisfied: PyWavelets in c:\\users\\akash sharma\\appdata\\local\\programs\\python\\python39\\lib\\site-packages (from imagehash; extra == \"type_image_path\"->visions[type_image_path]==0.7.4->pandas-profiling) (1.3.0)\n"
     ]
    },
    {
     "name": "stderr",
     "output_type": "stream",
     "text": [
      "WARNING: You are using pip version 20.2.3; however, version 22.2.2 is available.\n",
      "You should consider upgrading via the 'c:\\users\\akash sharma\\appdata\\local\\programs\\python\\python39\\python.exe -m pip install --upgrade pip' command.\n"
     ]
    }
   ],
   "source": [
    "!pip install pandas-profiling\n"
   ]
  },
  {
   "cell_type": "markdown",
   "id": "1e959dea",
   "metadata": {},
   "source": [
    "#Before installing pandas profiling module, you should have install Microsoft visual studio 2019 in your desktop > Modify > Workloads > Desktop development with C++ then download and install all the files that it will suggest ,otherwise you will be getting an error.\n",
    "Use this link : https://visualstudio.microsoft.com/downloads/ (Download the community version)"
   ]
  },
  {
   "cell_type": "code",
   "execution_count": 4,
   "id": "f122f610",
   "metadata": {},
   "outputs": [
    {
     "name": "stdout",
     "output_type": "stream",
     "text": [
      "Requirement already satisfied: seaborn in c:\\users\\akash sharma\\appdata\\local\\programs\\python\\python39\\lib\\site-packages (0.12.0)\n",
      "Requirement already satisfied: pandas>=0.25 in c:\\users\\akash sharma\\appdata\\local\\programs\\python\\python39\\lib\\site-packages (from seaborn) (1.4.3)\n",
      "Requirement already satisfied: numpy>=1.17 in c:\\users\\akash sharma\\appdata\\local\\programs\\python\\python39\\lib\\site-packages (from seaborn) (1.23.2)\n",
      "Requirement already satisfied: matplotlib>=3.1 in c:\\users\\akash sharma\\appdata\\local\\programs\\python\\python39\\lib\\site-packages (from seaborn) (3.5.3)\n",
      "Requirement already satisfied: python-dateutil>=2.8.1 in c:\\users\\akash sharma\\appdata\\local\\programs\\python\\python39\\lib\\site-packages (from pandas>=0.25->seaborn) (2.8.2)\n",
      "Requirement already satisfied: pytz>=2020.1 in c:\\users\\akash sharma\\appdata\\local\\programs\\python\\python39\\lib\\site-packages (from pandas>=0.25->seaborn) (2022.2.1)\n",
      "Requirement already satisfied: cycler>=0.10 in c:\\users\\akash sharma\\appdata\\local\\programs\\python\\python39\\lib\\site-packages (from matplotlib>=3.1->seaborn) (0.11.0)\n",
      "Requirement already satisfied: kiwisolver>=1.0.1 in c:\\users\\akash sharma\\appdata\\local\\programs\\python\\python39\\lib\\site-packages (from matplotlib>=3.1->seaborn) (1.4.4)\n",
      "Requirement already satisfied: pillow>=6.2.0 in c:\\users\\akash sharma\\appdata\\local\\programs\\python\\python39\\lib\\site-packages (from matplotlib>=3.1->seaborn) (9.2.0)\n",
      "Requirement already satisfied: fonttools>=4.22.0 in c:\\users\\akash sharma\\appdata\\local\\programs\\python\\python39\\lib\\site-packages (from matplotlib>=3.1->seaborn) (4.37.1)\n",
      "Requirement already satisfied: pyparsing>=2.2.1 in c:\\users\\akash sharma\\appdata\\local\\programs\\python\\python39\\lib\\site-packages (from matplotlib>=3.1->seaborn) (3.0.9)\n",
      "Requirement already satisfied: packaging>=20.0 in c:\\users\\akash sharma\\appdata\\local\\programs\\python\\python39\\lib\\site-packages (from matplotlib>=3.1->seaborn) (21.3)\n",
      "Requirement already satisfied: six>=1.5 in c:\\users\\akash sharma\\appdata\\local\\programs\\python\\python39\\lib\\site-packages (from python-dateutil>=2.8.1->pandas>=0.25->seaborn) (1.16.0)\n",
      "Note: you may need to restart the kernel to use updated packages.\n"
     ]
    },
    {
     "name": "stderr",
     "output_type": "stream",
     "text": [
      "WARNING: You are using pip version 20.2.3; however, version 22.2.2 is available.\n",
      "You should consider upgrading via the 'c:\\users\\akash sharma\\appdata\\local\\programs\\python\\python39\\python.exe -m pip install --upgrade pip' command.\n"
     ]
    }
   ],
   "source": [
    "pip install seaborn\n"
   ]
  },
  {
   "cell_type": "code",
   "execution_count": 5,
   "id": "c05fec66",
   "metadata": {},
   "outputs": [
    {
     "name": "stdout",
     "output_type": "stream",
     "text": [
      "Requirement already satisfied: lifelines in c:\\users\\akash sharma\\appdata\\local\\programs\\python\\python39\\lib\\site-packages (0.27.1)\n",
      "Requirement already satisfied: matplotlib>=3.0 in c:\\users\\akash sharma\\appdata\\local\\programs\\python\\python39\\lib\\site-packages (from lifelines) (3.5.3)\n",
      "Requirement already satisfied: pandas>=1.0.0 in c:\\users\\akash sharma\\appdata\\local\\programs\\python\\python39\\lib\\site-packages (from lifelines) (1.4.3)\n",
      "Requirement already satisfied: scipy>=1.2.0 in c:\\users\\akash sharma\\appdata\\local\\programs\\python\\python39\\lib\\site-packages (from lifelines) (1.9.1)\n",
      "Requirement already satisfied: formulaic>=0.2.2 in c:\\users\\akash sharma\\appdata\\local\\programs\\python\\python39\\lib\\site-packages (from lifelines) (0.5.0)\n",
      "Requirement already satisfied: autograd-gamma>=0.3 in c:\\users\\akash sharma\\appdata\\local\\programs\\python\\python39\\lib\\site-packages (from lifelines) (0.5.0)\n",
      "Requirement already satisfied: numpy>=1.14.0 in c:\\users\\akash sharma\\appdata\\local\\programs\\python\\python39\\lib\\site-packages (from lifelines) (1.23.2)\n",
      "Requirement already satisfied: autograd>=1.3 in c:\\users\\akash sharma\\appdata\\local\\programs\\python\\python39\\lib\\site-packages (from lifelines) (1.4)\n",
      "Requirement already satisfied: pyparsing>=2.2.1 in c:\\users\\akash sharma\\appdata\\local\\programs\\python\\python39\\lib\\site-packages (from matplotlib>=3.0->lifelines) (3.0.9)\n",
      "Requirement already satisfied: python-dateutil>=2.7 in c:\\users\\akash sharma\\appdata\\local\\programs\\python\\python39\\lib\\site-packages (from matplotlib>=3.0->lifelines) (2.8.2)\n",
      "Requirement already satisfied: cycler>=0.10 in c:\\users\\akash sharma\\appdata\\local\\programs\\python\\python39\\lib\\site-packages (from matplotlib>=3.0->lifelines) (0.11.0)\n",
      "Requirement already satisfied: packaging>=20.0 in c:\\users\\akash sharma\\appdata\\local\\programs\\python\\python39\\lib\\site-packages (from matplotlib>=3.0->lifelines) (21.3)\n",
      "Requirement already satisfied: kiwisolver>=1.0.1 in c:\\users\\akash sharma\\appdata\\local\\programs\\python\\python39\\lib\\site-packages (from matplotlib>=3.0->lifelines) (1.4.4)\n",
      "Requirement already satisfied: fonttools>=4.22.0 in c:\\users\\akash sharma\\appdata\\local\\programs\\python\\python39\\lib\\site-packages (from matplotlib>=3.0->lifelines) (4.37.1)\n",
      "Requirement already satisfied: pillow>=6.2.0 in c:\\users\\akash sharma\\appdata\\local\\programs\\python\\python39\\lib\\site-packages (from matplotlib>=3.0->lifelines) (9.2.0)\n",
      "Requirement already satisfied: pytz>=2020.1 in c:\\users\\akash sharma\\appdata\\local\\programs\\python\\python39\\lib\\site-packages (from pandas>=1.0.0->lifelines) (2022.2.1)\n",
      "Requirement already satisfied: interface-meta>=1.2.0 in c:\\users\\akash sharma\\appdata\\local\\programs\\python\\python39\\lib\\site-packages (from formulaic>=0.2.2->lifelines) (1.3.0)\n",
      "Requirement already satisfied: astor>=0.8 in c:\\users\\akash sharma\\appdata\\local\\programs\\python\\python39\\lib\\site-packages (from formulaic>=0.2.2->lifelines) (0.8.1)\n",
      "Requirement already satisfied: typing-extensions>=4.2.0 in c:\\users\\akash sharma\\appdata\\local\\programs\\python\\python39\\lib\\site-packages (from formulaic>=0.2.2->lifelines) (4.3.0)\n",
      "Requirement already satisfied: wrapt>=1.0 in c:\\users\\akash sharma\\appdata\\local\\programs\\python\\python39\\lib\\site-packages (from formulaic>=0.2.2->lifelines) (1.14.1)\n",
      "Requirement already satisfied: future>=0.15.2 in c:\\users\\akash sharma\\appdata\\local\\programs\\python\\python39\\lib\\site-packages (from autograd>=1.3->lifelines) (0.18.2)\n",
      "Requirement already satisfied: six>=1.5 in c:\\users\\akash sharma\\appdata\\local\\programs\\python\\python39\\lib\\site-packages (from python-dateutil>=2.7->matplotlib>=3.0->lifelines) (1.16.0)\n",
      "Note: you may need to restart the kernel to use updated packages.\n"
     ]
    },
    {
     "name": "stderr",
     "output_type": "stream",
     "text": [
      "WARNING: You are using pip version 20.2.3; however, version 22.2.2 is available.\n",
      "You should consider upgrading via the 'c:\\users\\akash sharma\\appdata\\local\\programs\\python\\python39\\python.exe -m pip install --upgrade pip' command.\n"
     ]
    }
   ],
   "source": [
    "pip install lifelines"
   ]
  },
  {
   "cell_type": "code",
   "execution_count": 6,
   "id": "a93e36b4",
   "metadata": {},
   "outputs": [
    {
     "name": "stderr",
     "output_type": "stream",
     "text": [
      "c:\\users\\akash sharma\\appdata\\local\\programs\\python\\python39\\lib\\site-packages\\tqdm\\auto.py:22: TqdmWarning: IProgress not found. Please update jupyter and ipywidgets. See https://ipywidgets.readthedocs.io/en/stable/user_install.html\n",
      "  from .autonotebook import tqdm as notebook_tqdm\n"
     ]
    }
   ],
   "source": [
    "import numpy as np\n",
    "import pandas as pd\n",
    "import matplotlib.pyplot as plt\n",
    "import seaborn as sns\n",
    "import pandas_profiling\n",
    "import statistics\n",
    "\n",
    "from lifelines import CoxPHFitter\n",
    "from lifelines import KaplanMeierFitter\n",
    "\n",
    "\n",
    "from sklearn.model_selection import train_test_split\n",
    "from sklearn.linear_model import LinearRegression\n",
    "from sklearn.linear_model import Ridge\n",
    "from sklearn.linear_model import Lasso\n",
    "from sklearn.model_selection import GridSearchCV\n",
    "\n",
    "import warnings\n",
    "warnings.filterwarnings('ignore')\n",
    "\n"
   ]
  },
  {
   "cell_type": "markdown",
   "id": "d63d9615",
   "metadata": {},
   "source": [
    "# Importing the data file"
   ]
  },
  {
   "cell_type": "code",
   "execution_count": 7,
   "id": "28b24c50",
   "metadata": {},
   "outputs": [
    {
     "data": {
      "text/html": [
       "<div>\n",
       "<style scoped>\n",
       "    .dataframe tbody tr th:only-of-type {\n",
       "        vertical-align: middle;\n",
       "    }\n",
       "\n",
       "    .dataframe tbody tr th {\n",
       "        vertical-align: top;\n",
       "    }\n",
       "\n",
       "    .dataframe thead th {\n",
       "        text-align: right;\n",
       "    }\n",
       "</style>\n",
       "<table border=\"1\" class=\"dataframe\">\n",
       "  <thead>\n",
       "    <tr style=\"text-align: right;\">\n",
       "      <th></th>\n",
       "      <th>stag</th>\n",
       "      <th>event</th>\n",
       "      <th>gender</th>\n",
       "      <th>age</th>\n",
       "      <th>industry</th>\n",
       "      <th>profession</th>\n",
       "      <th>traffic</th>\n",
       "      <th>coach</th>\n",
       "      <th>head_gender</th>\n",
       "      <th>greywage</th>\n",
       "      <th>way</th>\n",
       "      <th>extraversion</th>\n",
       "      <th>independ</th>\n",
       "      <th>selfcontrol</th>\n",
       "      <th>anxiety</th>\n",
       "      <th>novator</th>\n",
       "      <th>Joining date</th>\n",
       "    </tr>\n",
       "  </thead>\n",
       "  <tbody>\n",
       "    <tr>\n",
       "      <th>0</th>\n",
       "      <td>7.030801</td>\n",
       "      <td>1</td>\n",
       "      <td>m</td>\n",
       "      <td>35.0</td>\n",
       "      <td>Banks</td>\n",
       "      <td>HR</td>\n",
       "      <td>rabrecNErab</td>\n",
       "      <td>no</td>\n",
       "      <td>f</td>\n",
       "      <td>white</td>\n",
       "      <td>bus</td>\n",
       "      <td>6.2</td>\n",
       "      <td>4.1</td>\n",
       "      <td>5.7</td>\n",
       "      <td>7.1</td>\n",
       "      <td>8.3</td>\n",
       "      <td>2012-11-15</td>\n",
       "    </tr>\n",
       "    <tr>\n",
       "      <th>1</th>\n",
       "      <td>22.965092</td>\n",
       "      <td>1</td>\n",
       "      <td>m</td>\n",
       "      <td>33.0</td>\n",
       "      <td>Banks</td>\n",
       "      <td>HR</td>\n",
       "      <td>empjs</td>\n",
       "      <td>no</td>\n",
       "      <td>m</td>\n",
       "      <td>white</td>\n",
       "      <td>bus</td>\n",
       "      <td>6.2</td>\n",
       "      <td>4.1</td>\n",
       "      <td>5.7</td>\n",
       "      <td>7.1</td>\n",
       "      <td>8.3</td>\n",
       "      <td>2012-09-27</td>\n",
       "    </tr>\n",
       "    <tr>\n",
       "      <th>2</th>\n",
       "      <td>15.934292</td>\n",
       "      <td>1</td>\n",
       "      <td>f</td>\n",
       "      <td>35.0</td>\n",
       "      <td>PowerGeneration</td>\n",
       "      <td>HR</td>\n",
       "      <td>rabrecNErab</td>\n",
       "      <td>no</td>\n",
       "      <td>m</td>\n",
       "      <td>white</td>\n",
       "      <td>bus</td>\n",
       "      <td>6.2</td>\n",
       "      <td>6.2</td>\n",
       "      <td>2.6</td>\n",
       "      <td>4.8</td>\n",
       "      <td>8.3</td>\n",
       "      <td>2012-09-24</td>\n",
       "    </tr>\n",
       "    <tr>\n",
       "      <th>3</th>\n",
       "      <td>15.934292</td>\n",
       "      <td>1</td>\n",
       "      <td>f</td>\n",
       "      <td>35.0</td>\n",
       "      <td>PowerGeneration</td>\n",
       "      <td>HR</td>\n",
       "      <td>rabrecNErab</td>\n",
       "      <td>no</td>\n",
       "      <td>m</td>\n",
       "      <td>white</td>\n",
       "      <td>bus</td>\n",
       "      <td>5.4</td>\n",
       "      <td>7.6</td>\n",
       "      <td>4.9</td>\n",
       "      <td>2.5</td>\n",
       "      <td>6.7</td>\n",
       "      <td>2013-12-08</td>\n",
       "    </tr>\n",
       "    <tr>\n",
       "      <th>4</th>\n",
       "      <td>8.410678</td>\n",
       "      <td>1</td>\n",
       "      <td>m</td>\n",
       "      <td>32.0</td>\n",
       "      <td>Retail</td>\n",
       "      <td>Commercial</td>\n",
       "      <td>youjs</td>\n",
       "      <td>yes</td>\n",
       "      <td>f</td>\n",
       "      <td>white</td>\n",
       "      <td>bus</td>\n",
       "      <td>3.0</td>\n",
       "      <td>4.1</td>\n",
       "      <td>8.0</td>\n",
       "      <td>7.1</td>\n",
       "      <td>3.7</td>\n",
       "      <td>2013-08-10</td>\n",
       "    </tr>\n",
       "  </tbody>\n",
       "</table>\n",
       "</div>"
      ],
      "text/plain": [
       "        stag  event gender   age         industry  profession      traffic  \\\n",
       "0   7.030801      1      m  35.0            Banks          HR  rabrecNErab   \n",
       "1  22.965092      1      m  33.0            Banks          HR        empjs   \n",
       "2  15.934292      1      f  35.0  PowerGeneration          HR  rabrecNErab   \n",
       "3  15.934292      1      f  35.0  PowerGeneration          HR  rabrecNErab   \n",
       "4   8.410678      1      m  32.0           Retail  Commercial        youjs   \n",
       "\n",
       "  coach head_gender greywage  way  extraversion  independ  selfcontrol  \\\n",
       "0    no           f    white  bus           6.2       4.1          5.7   \n",
       "1    no           m    white  bus           6.2       4.1          5.7   \n",
       "2    no           m    white  bus           6.2       6.2          2.6   \n",
       "3    no           m    white  bus           5.4       7.6          4.9   \n",
       "4   yes           f    white  bus           3.0       4.1          8.0   \n",
       "\n",
       "   anxiety  novator Joining date  \n",
       "0      7.1      8.3   2012-11-15  \n",
       "1      7.1      8.3   2012-09-27  \n",
       "2      4.8      8.3   2012-09-24  \n",
       "3      2.5      6.7   2013-12-08  \n",
       "4      7.1      3.7   2013-08-10  "
      ]
     },
     "execution_count": 7,
     "metadata": {},
     "output_type": "execute_result"
    }
   ],
   "source": [
    "df=pd.read_excel(\"turnover-Dataset.xlsx\")\n",
    "df.head(5)"
   ]
  },
  {
   "cell_type": "code",
   "execution_count": 8,
   "id": "64e0782e",
   "metadata": {},
   "outputs": [],
   "source": [
    "df['Joining date']=df['Joining date'].astype(str)"
   ]
  },
  {
   "cell_type": "code",
   "execution_count": 9,
   "id": "37f74593",
   "metadata": {},
   "outputs": [],
   "source": [
    "df[['Unnamed: 17','Unnamed: 18','Unnamed: 19']]=df['Joining date'].str.split('-',expand=True)"
   ]
  },
  {
   "cell_type": "code",
   "execution_count": 10,
   "id": "20073d3a",
   "metadata": {},
   "outputs": [],
   "source": [
    "df.rename(columns={'Unnamed: 17' : 'Year','Unnamed: 18' : 'Month','Unnamed: 19' : 'Date'},inplace=True)"
   ]
  },
  {
   "cell_type": "code",
   "execution_count": 11,
   "id": "9c615bc8",
   "metadata": {},
   "outputs": [
    {
     "data": {
      "text/plain": [
       "stag            float64\n",
       "event             int64\n",
       "gender           object\n",
       "age             float64\n",
       "industry         object\n",
       "profession       object\n",
       "traffic          object\n",
       "coach            object\n",
       "head_gender      object\n",
       "greywage         object\n",
       "way              object\n",
       "extraversion    float64\n",
       "independ        float64\n",
       "selfcontrol     float64\n",
       "anxiety         float64\n",
       "novator         float64\n",
       "Joining date     object\n",
       "Year             object\n",
       "Month            object\n",
       "Date             object\n",
       "dtype: object"
      ]
     },
     "execution_count": 11,
     "metadata": {},
     "output_type": "execute_result"
    }
   ],
   "source": [
    "df.dtypes"
   ]
  },
  {
   "cell_type": "code",
   "execution_count": 12,
   "id": "7e00c255",
   "metadata": {},
   "outputs": [],
   "source": [
    "df['Year']=df['Year'].astype(int)\n",
    "df['Month']=df['Month'].astype(int)\n",
    "df['Date']=df['Date'].astype(int)"
   ]
  },
  {
   "cell_type": "code",
   "execution_count": 13,
   "id": "b50772a6",
   "metadata": {},
   "outputs": [
    {
     "data": {
      "text/plain": [
       "stag            float64\n",
       "event             int64\n",
       "gender           object\n",
       "age             float64\n",
       "industry         object\n",
       "profession       object\n",
       "traffic          object\n",
       "coach            object\n",
       "head_gender      object\n",
       "greywage         object\n",
       "way              object\n",
       "extraversion    float64\n",
       "independ        float64\n",
       "selfcontrol     float64\n",
       "anxiety         float64\n",
       "novator         float64\n",
       "Joining date     object\n",
       "Year              int32\n",
       "Month             int32\n",
       "Date              int32\n",
       "dtype: object"
      ]
     },
     "execution_count": 13,
     "metadata": {},
     "output_type": "execute_result"
    }
   ],
   "source": [
    "df.dtypes"
   ]
  },
  {
   "cell_type": "markdown",
   "id": "acc0f94b",
   "metadata": {},
   "source": [
    "# Data Description\n",
    "\n",
    "- stag : The duration of stay (in weeks) of an employee in a job.<br>\n",
    "\n",
    "- event : 0 - The employee is not terminated from the job.<br>\n",
    "     1 - The employee is terminated from the job.<br>\n",
    "          \n",
    "- gender : The gender of the employee.<br>\n",
    "\n",
    "- age : The age of the employee.It varies from 18yrs - 58yrs.<br>\n",
    "\n",
    "- industry : The name of the industry in which the employee works.<br>\n",
    "Retail           - 289<br>\n",
    "manufacture      - 145<br>\n",
    "IT               - 122<br>\n",
    "Banks            - 114<br>\n",
    "etc              -  94<br>\n",
    "Consult          -  74<br>\n",
    "State            -  55<br>\n",
    "Building         -  41<br>\n",
    "transport        -  38<br>\n",
    "PowerGeneration  -  38<br>\n",
    "Telecom          -  36<br>\n",
    "Mining           -  24<br>\n",
    "Pharma           -  20<br>\n",
    "Agriculture      -  15<br>\n",
    "RealEstate       -  13<br>\n",
    "HoReCa          -  11<br>\n",
    "    \n",
    "- profession : The name of the profession that the employee does<br>\n",
    "HR                  - 757<br>\n",
    "IT                  -  74<br>\n",
    "Sales               -  66<br>\n",
    "etc                 -  37<br>\n",
    "Marketing           -  31<br>\n",
    "BusinessDevelopment -  27<br>\n",
    "Consult             -  25<br>\n",
    "Commercial          -  23<br>\n",
    "manage              -  22<br>\n",
    "Finanñe             -  17<br>\n",
    "Engineer            -  15<br>\n",
    "Teaching            -  12<br>\n",
    "Accounting          -  10<br>\n",
    "Law                 -   7<br>\n",
    "PR                  -   6<br>\n",
    "\n",
    "- traffic : Different sources from where the employees get their job.<br>\n",
    "youjs        - 318<br>\n",
    "empjs        - 248<br>\n",
    "rabrecNErab  - 211<br>\n",
    "friends      - 118<br>\n",
    "referal      -  95<br>\n",
    "KA           -  67<br>\n",
    "recNErab     -  39<br>\n",
    "advert       -  33<br>\n",
    "\n",
    "- coach\t: Whether the employee has a coach during/before their job period.<br>\n",
    "no        - 683<br>\n",
    "my head   - 314<br>\n",
    "yes       - 132<br>\n",
    "\n",
    "- head_gender : Gender of the head manager provided to each employee.<br>\n",
    "m   - 584<br>\n",
    "f   - 545<br>\n",
    "\n",
    "- greywage : Type of wages i.e white(without any black money) and grey(with black money)<br>\n",
    "white   - 1002<br>\n",
    "grey    -  127<br>\n",
    "\n",
    "- way : The mode of transportation of employee.<br>\n",
    "bus   -  681<br>\n",
    "car   -  331<br>\n",
    "foot  -  117<br>\n",
    "\n",
    "- extraversion : The extraversion rating of employee out of 10. <br>\n",
    "\n",
    "- independ : The independ rating of employee out of 10.<br>\n",
    "\n",
    "- selfcontrol : The selfcontrol rating of employee out of 10.<br>\n",
    "\n",
    "- anxiety : The anxiety rating of employee out of 10.<br>\n",
    "\n",
    "- novator : The novator rating of employee out of 10.<br>\n",
    "\n",
    "- Joining date  : The date of joining of employees.The data is of 2 years from 17/1/2012 to 17/1/2014.<br>\n",
    "\n",
    "- Year : The year of joining.\n",
    "\n",
    "- Month : The month of joining.\n",
    "\n",
    "- Date : The date of joining.\n",
    "\n",
    "- Variable type  :<br> \n",
    " Numeric : stag, age, extraversion, independ,\n",
    "  selfcontrol, anxiety, novator, Year, Month, Date (10)<br>\n",
    "  \n",
    " Categorical :  event, gender, industry, profession, traffic,\n",
    "  coach, head_gender, greywage, way (9)<br> \n",
    "  \n",
    " DateTime : Joining date(1)\n",
    "   \n",
    "- Target Variable : stag  "
   ]
  },
  {
   "cell_type": "code",
   "execution_count": 14,
   "id": "13d143b6",
   "metadata": {},
   "outputs": [
    {
     "data": {
      "text/plain": [
       "(1129, 20)"
      ]
     },
     "execution_count": 14,
     "metadata": {},
     "output_type": "execute_result"
    }
   ],
   "source": [
    "df.shape"
   ]
  },
  {
   "cell_type": "markdown",
   "id": "3db39761",
   "metadata": {},
   "source": [
    "# Data Exploration"
   ]
  },
  {
   "cell_type": "code",
   "execution_count": 15,
   "id": "2b5a175c",
   "metadata": {},
   "outputs": [
    {
     "data": {
      "text/plain": [
       "1    571\n",
       "0    558\n",
       "Name: event, dtype: int64"
      ]
     },
     "execution_count": 15,
     "metadata": {},
     "output_type": "execute_result"
    }
   ],
   "source": [
    "df.event.value_counts()"
   ]
  },
  {
   "cell_type": "markdown",
   "id": "70545934",
   "metadata": {},
   "source": [
    "###  There are 571 employees terminated and 558 employees stayed in the job. We have 571 non-censored data and 558 censored data. "
   ]
  },
  {
   "cell_type": "code",
   "execution_count": 16,
   "id": "8b5aac49",
   "metadata": {},
   "outputs": [
    {
     "data": {
      "text/plain": [
       "1    0.505757\n",
       "0    0.494243\n",
       "Name: event, dtype: float64"
      ]
     },
     "execution_count": 16,
     "metadata": {},
     "output_type": "execute_result"
    }
   ],
   "source": [
    "df.event.value_counts(normalize=True)"
   ]
  },
  {
   "cell_type": "markdown",
   "id": "db80f257",
   "metadata": {},
   "source": [
    "### 49%  of the employee stayed in the job and 51%  of the employee terminated from the job."
   ]
  },
  {
   "cell_type": "code",
   "execution_count": 17,
   "id": "0ac0a110",
   "metadata": {},
   "outputs": [
    {
     "data": {
      "text/html": [
       "<div>\n",
       "<style scoped>\n",
       "    .dataframe tbody tr th:only-of-type {\n",
       "        vertical-align: middle;\n",
       "    }\n",
       "\n",
       "    .dataframe tbody tr th {\n",
       "        vertical-align: top;\n",
       "    }\n",
       "\n",
       "    .dataframe thead th {\n",
       "        text-align: right;\n",
       "    }\n",
       "</style>\n",
       "<table border=\"1\" class=\"dataframe\">\n",
       "  <thead>\n",
       "    <tr style=\"text-align: right;\">\n",
       "      <th></th>\n",
       "      <th>stag</th>\n",
       "      <th>age</th>\n",
       "      <th>extraversion</th>\n",
       "      <th>independ</th>\n",
       "      <th>selfcontrol</th>\n",
       "      <th>anxiety</th>\n",
       "      <th>novator</th>\n",
       "      <th>Year</th>\n",
       "      <th>Month</th>\n",
       "      <th>Date</th>\n",
       "    </tr>\n",
       "    <tr>\n",
       "      <th>event</th>\n",
       "      <th></th>\n",
       "      <th></th>\n",
       "      <th></th>\n",
       "      <th></th>\n",
       "      <th></th>\n",
       "      <th></th>\n",
       "      <th></th>\n",
       "      <th></th>\n",
       "      <th></th>\n",
       "      <th></th>\n",
       "    </tr>\n",
       "  </thead>\n",
       "  <tbody>\n",
       "    <tr>\n",
       "      <th>0</th>\n",
       "      <td>38.294819</td>\n",
       "      <td>31.411829</td>\n",
       "      <td>5.563441</td>\n",
       "      <td>5.388710</td>\n",
       "      <td>5.677419</td>\n",
       "      <td>5.774910</td>\n",
       "      <td>5.866487</td>\n",
       "      <td>2012.562724</td>\n",
       "      <td>6.496416</td>\n",
       "      <td>15.534050</td>\n",
       "    </tr>\n",
       "    <tr>\n",
       "      <th>1</th>\n",
       "      <td>34.998191</td>\n",
       "      <td>30.729952</td>\n",
       "      <td>5.620665</td>\n",
       "      <td>5.565324</td>\n",
       "      <td>5.518914</td>\n",
       "      <td>5.558844</td>\n",
       "      <td>5.892469</td>\n",
       "      <td>2012.572680</td>\n",
       "      <td>6.465849</td>\n",
       "      <td>15.910683</td>\n",
       "    </tr>\n",
       "  </tbody>\n",
       "</table>\n",
       "</div>"
      ],
      "text/plain": [
       "            stag        age  extraversion  independ  selfcontrol   anxiety  \\\n",
       "event                                                                        \n",
       "0      38.294819  31.411829      5.563441  5.388710     5.677419  5.774910   \n",
       "1      34.998191  30.729952      5.620665  5.565324     5.518914  5.558844   \n",
       "\n",
       "        novator         Year     Month       Date  \n",
       "event                                              \n",
       "0      5.866487  2012.562724  6.496416  15.534050  \n",
       "1      5.892469  2012.572680  6.465849  15.910683  "
      ]
     },
     "execution_count": 17,
     "metadata": {},
     "output_type": "execute_result"
    }
   ],
   "source": [
    "df.groupby('event').mean()"
   ]
  },
  {
   "cell_type": "code",
   "execution_count": 18,
   "id": "5e3cdb70",
   "metadata": {},
   "outputs": [
    {
     "data": {
      "text/plain": [
       "23.000000    42\n",
       "24.000000    37\n",
       "26.000000    35\n",
       "22.000000    33\n",
       "25.000000    32\n",
       "27.000000    31\n",
       "29.000000    30\n",
       "34.000000    29\n",
       "36.000000    27\n",
       "31.000000    26\n",
       "37.000000    21\n",
       "32.000000    21\n",
       "38.000000    21\n",
       "33.000000    18\n",
       "30.000000    18\n",
       "28.000000    18\n",
       "35.000000    16\n",
       "41.000000    15\n",
       "21.000000    14\n",
       "39.000000    13\n",
       "40.000000    12\n",
       "42.000000    12\n",
       "44.000000     9\n",
       "30.400333     7\n",
       "45.000000     7\n",
       "19.000000     7\n",
       "48.000000     3\n",
       "18.000000     3\n",
       "47.000000     3\n",
       "46.000000     2\n",
       "54.000000     2\n",
       "49.000000     2\n",
       "43.000000     2\n",
       "52.000000     1\n",
       "51.000000     1\n",
       "58.000000     1\n",
       "Name: age, dtype: int64"
      ]
     },
     "execution_count": 18,
     "metadata": {},
     "output_type": "execute_result"
    }
   ],
   "source": [
    "dt=df.groupby(by='event')\n",
    "dr=dt.get_group(1)\n",
    "dr['age'].value_counts()"
   ]
  },
  {
   "cell_type": "code",
   "execution_count": 19,
   "id": "bfdf693e",
   "metadata": {
    "scrolled": true
   },
   "outputs": [],
   "source": [
    "#pandas_profiling.ProfileReport(df)"
   ]
  },
  {
   "cell_type": "markdown",
   "id": "bb767059",
   "metadata": {},
   "source": [
    "### Joining Date is not useful as we already have the information in other columns.So we will remove it.\n",
    "###  There is no missing and duplicate value in our data."
   ]
  },
  {
   "cell_type": "code",
   "execution_count": 20,
   "id": "5b8d718d",
   "metadata": {},
   "outputs": [],
   "source": [
    "df.drop(['extraversion','novator','profession','Joining date'],axis=1,inplace=True)"
   ]
  },
  {
   "cell_type": "code",
   "execution_count": 21,
   "id": "c944cfef",
   "metadata": {},
   "outputs": [
    {
     "data": {
      "text/plain": [
       "stag           float64\n",
       "event            int64\n",
       "gender          object\n",
       "age            float64\n",
       "industry        object\n",
       "traffic         object\n",
       "coach           object\n",
       "head_gender     object\n",
       "greywage        object\n",
       "way             object\n",
       "independ       float64\n",
       "selfcontrol    float64\n",
       "anxiety        float64\n",
       "Year             int32\n",
       "Month            int32\n",
       "Date             int32\n",
       "dtype: object"
      ]
     },
     "execution_count": 21,
     "metadata": {},
     "output_type": "execute_result"
    }
   ],
   "source": [
    "df.dtypes"
   ]
  },
  {
   "cell_type": "code",
   "execution_count": 22,
   "id": "bf574829",
   "metadata": {},
   "outputs": [
    {
     "data": {
      "text/plain": [
       "Index(['stag', 'event', 'gender', 'age', 'industry', 'traffic', 'coach',\n",
       "       'head_gender', 'greywage', 'way', 'independ', 'selfcontrol', 'anxiety',\n",
       "       'Year', 'Month', 'Date'],\n",
       "      dtype='object')"
      ]
     },
     "execution_count": 22,
     "metadata": {},
     "output_type": "execute_result"
    }
   ],
   "source": [
    "df.columns"
   ]
  },
  {
   "cell_type": "code",
   "execution_count": 23,
   "id": "947c74f4",
   "metadata": {},
   "outputs": [
    {
     "data": {
      "text/html": [
       "<div>\n",
       "<style scoped>\n",
       "    .dataframe tbody tr th:only-of-type {\n",
       "        vertical-align: middle;\n",
       "    }\n",
       "\n",
       "    .dataframe tbody tr th {\n",
       "        vertical-align: top;\n",
       "    }\n",
       "\n",
       "    .dataframe thead th {\n",
       "        text-align: right;\n",
       "    }\n",
       "</style>\n",
       "<table border=\"1\" class=\"dataframe\">\n",
       "  <thead>\n",
       "    <tr style=\"text-align: right;\">\n",
       "      <th></th>\n",
       "      <th>stag</th>\n",
       "      <th>event</th>\n",
       "      <th>age</th>\n",
       "      <th>independ</th>\n",
       "      <th>selfcontrol</th>\n",
       "      <th>anxiety</th>\n",
       "      <th>Year</th>\n",
       "      <th>Month</th>\n",
       "      <th>Date</th>\n",
       "    </tr>\n",
       "  </thead>\n",
       "  <tbody>\n",
       "    <tr>\n",
       "      <th>count</th>\n",
       "      <td>1129.000000</td>\n",
       "      <td>1129.000000</td>\n",
       "      <td>1129.000000</td>\n",
       "      <td>1129.000000</td>\n",
       "      <td>1129.000000</td>\n",
       "      <td>1129.000000</td>\n",
       "      <td>1129.000000</td>\n",
       "      <td>1129.000000</td>\n",
       "      <td>1129.000000</td>\n",
       "    </tr>\n",
       "    <tr>\n",
       "      <th>mean</th>\n",
       "      <td>36.627526</td>\n",
       "      <td>0.505757</td>\n",
       "      <td>31.066965</td>\n",
       "      <td>5.478034</td>\n",
       "      <td>5.597254</td>\n",
       "      <td>5.665633</td>\n",
       "      <td>2012.567759</td>\n",
       "      <td>6.480957</td>\n",
       "      <td>15.724535</td>\n",
       "    </tr>\n",
       "    <tr>\n",
       "      <th>std</th>\n",
       "      <td>34.096597</td>\n",
       "      <td>0.500188</td>\n",
       "      <td>6.996147</td>\n",
       "      <td>1.703312</td>\n",
       "      <td>1.980101</td>\n",
       "      <td>1.709176</td>\n",
       "      <td>0.541755</td>\n",
       "      <td>3.452289</td>\n",
       "      <td>8.760674</td>\n",
       "    </tr>\n",
       "    <tr>\n",
       "      <th>min</th>\n",
       "      <td>0.394251</td>\n",
       "      <td>0.000000</td>\n",
       "      <td>18.000000</td>\n",
       "      <td>1.000000</td>\n",
       "      <td>1.000000</td>\n",
       "      <td>1.700000</td>\n",
       "      <td>2012.000000</td>\n",
       "      <td>1.000000</td>\n",
       "      <td>1.000000</td>\n",
       "    </tr>\n",
       "    <tr>\n",
       "      <th>25%</th>\n",
       "      <td>11.728953</td>\n",
       "      <td>0.000000</td>\n",
       "      <td>26.000000</td>\n",
       "      <td>4.100000</td>\n",
       "      <td>4.100000</td>\n",
       "      <td>4.800000</td>\n",
       "      <td>2012.000000</td>\n",
       "      <td>3.000000</td>\n",
       "      <td>8.000000</td>\n",
       "    </tr>\n",
       "    <tr>\n",
       "      <th>50%</th>\n",
       "      <td>24.344969</td>\n",
       "      <td>1.000000</td>\n",
       "      <td>30.000000</td>\n",
       "      <td>5.500000</td>\n",
       "      <td>5.700000</td>\n",
       "      <td>5.600000</td>\n",
       "      <td>2013.000000</td>\n",
       "      <td>6.000000</td>\n",
       "      <td>16.000000</td>\n",
       "    </tr>\n",
       "    <tr>\n",
       "      <th>75%</th>\n",
       "      <td>51.318275</td>\n",
       "      <td>1.000000</td>\n",
       "      <td>36.000000</td>\n",
       "      <td>6.900000</td>\n",
       "      <td>7.200000</td>\n",
       "      <td>7.100000</td>\n",
       "      <td>2013.000000</td>\n",
       "      <td>10.000000</td>\n",
       "      <td>23.000000</td>\n",
       "    </tr>\n",
       "    <tr>\n",
       "      <th>max</th>\n",
       "      <td>179.449692</td>\n",
       "      <td>1.000000</td>\n",
       "      <td>58.000000</td>\n",
       "      <td>10.000000</td>\n",
       "      <td>10.000000</td>\n",
       "      <td>10.000000</td>\n",
       "      <td>2014.000000</td>\n",
       "      <td>12.000000</td>\n",
       "      <td>31.000000</td>\n",
       "    </tr>\n",
       "  </tbody>\n",
       "</table>\n",
       "</div>"
      ],
      "text/plain": [
       "              stag        event          age     independ  selfcontrol  \\\n",
       "count  1129.000000  1129.000000  1129.000000  1129.000000  1129.000000   \n",
       "mean     36.627526     0.505757    31.066965     5.478034     5.597254   \n",
       "std      34.096597     0.500188     6.996147     1.703312     1.980101   \n",
       "min       0.394251     0.000000    18.000000     1.000000     1.000000   \n",
       "25%      11.728953     0.000000    26.000000     4.100000     4.100000   \n",
       "50%      24.344969     1.000000    30.000000     5.500000     5.700000   \n",
       "75%      51.318275     1.000000    36.000000     6.900000     7.200000   \n",
       "max     179.449692     1.000000    58.000000    10.000000    10.000000   \n",
       "\n",
       "           anxiety         Year        Month         Date  \n",
       "count  1129.000000  1129.000000  1129.000000  1129.000000  \n",
       "mean      5.665633  2012.567759     6.480957    15.724535  \n",
       "std       1.709176     0.541755     3.452289     8.760674  \n",
       "min       1.700000  2012.000000     1.000000     1.000000  \n",
       "25%       4.800000  2012.000000     3.000000     8.000000  \n",
       "50%       5.600000  2013.000000     6.000000    16.000000  \n",
       "75%       7.100000  2013.000000    10.000000    23.000000  \n",
       "max      10.000000  2014.000000    12.000000    31.000000  "
      ]
     },
     "execution_count": 23,
     "metadata": {},
     "output_type": "execute_result"
    }
   ],
   "source": [
    "df.describe()"
   ]
  },
  {
   "cell_type": "code",
   "execution_count": 24,
   "id": "49132de6",
   "metadata": {},
   "outputs": [
    {
     "data": {
      "text/plain": [
       "(1129, 16)"
      ]
     },
     "execution_count": 24,
     "metadata": {},
     "output_type": "execute_result"
    }
   ],
   "source": [
    "df.shape"
   ]
  },
  {
   "cell_type": "code",
   "execution_count": 25,
   "id": "0f1bcc32",
   "metadata": {},
   "outputs": [
    {
     "data": {
      "image/png": "[encoded data removed]",
      "text/plain": [
       "<Figure size 1440x1080 with 9 Axes>"
      ]
     },
     "metadata": {
      "needs_background": "light"
     },
     "output_type": "display_data"
    }
   ],
   "source": [
    "num_bins = 14\n",
    "df.hist(bins=num_bins, figsize=(20,15))\n",
    "plt.show()"
   ]
  },
  {
   "cell_type": "markdown",
   "id": "549fd87d",
   "metadata": {},
   "source": [
    "# Data Visualization"
   ]
  },
  {
   "cell_type": "markdown",
   "id": "bcfa8b3f",
   "metadata": {},
   "source": [
    "## Gender"
   ]
  },
  {
   "cell_type": "code",
   "execution_count": 26,
   "id": "7771d4ed",
   "metadata": {},
   "outputs": [
    {
     "data": {
      "text/plain": [
       "f    853\n",
       "m    276\n",
       "Name: gender, dtype: int64"
      ]
     },
     "execution_count": 26,
     "metadata": {},
     "output_type": "execute_result"
    }
   ],
   "source": [
    "df['gender'].value_counts()"
   ]
  },
  {
   "cell_type": "code",
   "execution_count": 27,
   "id": "5a160f0e",
   "metadata": {},
   "outputs": [
    {
     "data": {
      "text/html": [
       "<div>\n",
       "<style scoped>\n",
       "    .dataframe tbody tr th:only-of-type {\n",
       "        vertical-align: middle;\n",
       "    }\n",
       "\n",
       "    .dataframe tbody tr th {\n",
       "        vertical-align: top;\n",
       "    }\n",
       "\n",
       "    .dataframe thead th {\n",
       "        text-align: right;\n",
       "    }\n",
       "</style>\n",
       "<table border=\"1\" class=\"dataframe\">\n",
       "  <thead>\n",
       "    <tr style=\"text-align: right;\">\n",
       "      <th></th>\n",
       "      <th>event</th>\n",
       "    </tr>\n",
       "    <tr>\n",
       "      <th>gender</th>\n",
       "      <th></th>\n",
       "    </tr>\n",
       "  </thead>\n",
       "  <tbody>\n",
       "    <tr>\n",
       "      <th>m</th>\n",
       "      <td>0.489130</td>\n",
       "    </tr>\n",
       "    <tr>\n",
       "      <th>f</th>\n",
       "      <td>0.511137</td>\n",
       "    </tr>\n",
       "  </tbody>\n",
       "</table>\n",
       "</div>"
      ],
      "text/plain": [
       "           event\n",
       "gender          \n",
       "m       0.489130\n",
       "f       0.511137"
      ]
     },
     "execution_count": 27,
     "metadata": {},
     "output_type": "execute_result"
    }
   ],
   "source": [
    "df[['gender' , 'event']].groupby('gender').mean().sort_values(by='event')"
   ]
  },
  {
   "cell_type": "markdown",
   "id": "1d4bcd7a",
   "metadata": {},
   "source": [
    "### The % of female employee terminated  is slightly more than males."
   ]
  },
  {
   "cell_type": "code",
   "execution_count": 28,
   "id": "413f3847",
   "metadata": {},
   "outputs": [
    {
     "data": {
      "text/html": [
       "<div>\n",
       "<style scoped>\n",
       "    .dataframe tbody tr th:only-of-type {\n",
       "        vertical-align: middle;\n",
       "    }\n",
       "\n",
       "    .dataframe tbody tr th {\n",
       "        vertical-align: top;\n",
       "    }\n",
       "\n",
       "    .dataframe thead th {\n",
       "        text-align: right;\n",
       "    }\n",
       "</style>\n",
       "<table border=\"1\" class=\"dataframe\">\n",
       "  <thead>\n",
       "    <tr style=\"text-align: right;\">\n",
       "      <th>event</th>\n",
       "      <th>0</th>\n",
       "      <th>1</th>\n",
       "      <th>All</th>\n",
       "    </tr>\n",
       "    <tr>\n",
       "      <th>gender</th>\n",
       "      <th></th>\n",
       "      <th></th>\n",
       "      <th></th>\n",
       "    </tr>\n",
       "  </thead>\n",
       "  <tbody>\n",
       "    <tr>\n",
       "      <th>f</th>\n",
       "      <td>0.369353</td>\n",
       "      <td>0.386182</td>\n",
       "      <td>0.755536</td>\n",
       "    </tr>\n",
       "    <tr>\n",
       "      <th>m</th>\n",
       "      <td>0.124889</td>\n",
       "      <td>0.119575</td>\n",
       "      <td>0.244464</td>\n",
       "    </tr>\n",
       "    <tr>\n",
       "      <th>All</th>\n",
       "      <td>0.494243</td>\n",
       "      <td>0.505757</td>\n",
       "      <td>1.000000</td>\n",
       "    </tr>\n",
       "  </tbody>\n",
       "</table>\n",
       "</div>"
      ],
      "text/plain": [
       "event          0         1       All\n",
       "gender                              \n",
       "f       0.369353  0.386182  0.755536\n",
       "m       0.124889  0.119575  0.244464\n",
       "All     0.494243  0.505757  1.000000"
      ]
     },
     "execution_count": 28,
     "metadata": {},
     "output_type": "execute_result"
    }
   ],
   "source": [
    "pd.crosstab(df.gender , df.event, margins=True , normalize=True)"
   ]
  },
  {
   "cell_type": "code",
   "execution_count": 29,
   "id": "27b2f4df",
   "metadata": {},
   "outputs": [
    {
     "data": {
      "text/plain": [
       "Text(0, 0.5, 'Frequency of turnover')"
      ]
     },
     "execution_count": 29,
     "metadata": {},
     "output_type": "execute_result"
    },
    {
     "data": {
      "image/png": "[encoded data removed]",
      "text/plain": [
       "<Figure size 432x288 with 1 Axes>"
      ]
     },
     "metadata": {
      "needs_background": "light"
     },
     "output_type": "display_data"
    }
   ],
   "source": [
    "pd.crosstab(df.gender,df.event).plot(kind='bar',color=('green','red'))\n",
    "plt.xticks(rotation='horizontal')\n",
    "plt.grid()\n",
    "plt.title('Gender wise Turnover frequency')\n",
    "plt.xlabel('Gender')\n",
    "plt.ylabel('Frequency of turnover')\n"
   ]
  },
  {
   "cell_type": "code",
   "execution_count": 30,
   "id": "bfbaf812",
   "metadata": {},
   "outputs": [
    {
     "data": {
      "image/png": "[encoded data removed]",
      "text/plain": [
       "<Figure size 360x216 with 1 Axes>"
      ]
     },
     "metadata": {
      "needs_background": "light"
     },
     "output_type": "display_data"
    }
   ],
   "source": [
    "fig_dims=(5,3)\n",
    "fig,ax=plt.subplots(figsize=fig_dims)\n",
    "fig,ax=plt.xticks(rotation='horizontal')\n",
    "fig,ax=plt.ylim(0,0.7)\n",
    "sns.barplot(x='gender',y='event',data=df,ci=None)\n",
    "\n",
    "ax=plt.gca()\n",
    "for p in ax.patches:\n",
    "    ax.text(p.get_x()+p.get_width()/2,p.get_height(),'%.2f' % float(p.get_height()),fontsize=12,color='black',ha='center',va='bottom')\n",
    "plt.savefig('gender.png',dpi=300)    "
   ]
  },
  {
   "cell_type": "markdown",
   "id": "975e75ce",
   "metadata": {},
   "source": [
    "### More female is terminated from the job than male."
   ]
  },
  {
   "cell_type": "markdown",
   "id": "b873d363",
   "metadata": {},
   "source": [
    "## Age"
   ]
  },
  {
   "cell_type": "code",
   "execution_count": 31,
   "id": "21daa118",
   "metadata": {},
   "outputs": [
    {
     "data": {
      "text/plain": [
       "f    436\n",
       "m    135\n",
       "Name: gender, dtype: int64"
      ]
     },
     "execution_count": 31,
     "metadata": {},
     "output_type": "execute_result"
    }
   ],
   "source": [
    "dr=df.groupby('event')\n",
    "dt=dr.get_group(1)\n",
    "dt['gender'].value_counts()\n",
    "#de=dt.groupby('gender')\n",
    "#t=de.get_group('m')\n",
    "#w=t['age'].value_counts()\n",
    "#dt['independ'].value_counts()"
   ]
  },
  {
   "cell_type": "code",
   "execution_count": 32,
   "id": "4170d230",
   "metadata": {},
   "outputs": [
    {
     "data": {
      "image/png": "[encoded data removed]",
      "text/plain": [
       "<Figure size 288x288 with 1 Axes>"
      ]
     },
     "metadata": {
      "needs_background": "light"
     },
     "output_type": "display_data"
    }
   ],
   "source": [
    "g=sns.catplot( y='age',x='event' , data=df  , kind='violin' , palette=['green','red'],height=4,legend=True)\n",
    "(g.set_axis_labels(\"\", \"Age\")\n",
    "  .set_xticklabels([\"Not-terminated\" , \"terminated\"]))\n",
    "\n",
    "plt.grid()\n",
    "plt.savefig('age.png',dpi=300)"
   ]
  },
  {
   "cell_type": "markdown",
   "id": "c7743172",
   "metadata": {},
   "source": [
    "## Industry"
   ]
  },
  {
   "cell_type": "code",
   "execution_count": 33,
   "id": "871abd78",
   "metadata": {},
   "outputs": [
    {
     "data": {
      "text/html": [
       "<div>\n",
       "<style scoped>\n",
       "    .dataframe tbody tr th:only-of-type {\n",
       "        vertical-align: middle;\n",
       "    }\n",
       "\n",
       "    .dataframe tbody tr th {\n",
       "        vertical-align: top;\n",
       "    }\n",
       "\n",
       "    .dataframe thead th {\n",
       "        text-align: right;\n",
       "    }\n",
       "</style>\n",
       "<table border=\"1\" class=\"dataframe\">\n",
       "  <thead>\n",
       "    <tr style=\"text-align: right;\">\n",
       "      <th>event</th>\n",
       "      <th>0</th>\n",
       "      <th>1</th>\n",
       "      <th>All</th>\n",
       "    </tr>\n",
       "    <tr>\n",
       "      <th>industry</th>\n",
       "      <th></th>\n",
       "      <th></th>\n",
       "      <th></th>\n",
       "    </tr>\n",
       "  </thead>\n",
       "  <tbody>\n",
       "    <tr>\n",
       "      <th>HoReCa</th>\n",
       "      <td>0.004429</td>\n",
       "      <td>0.005314</td>\n",
       "      <td>0.009743</td>\n",
       "    </tr>\n",
       "    <tr>\n",
       "      <th>Agriculture</th>\n",
       "      <td>0.004429</td>\n",
       "      <td>0.008857</td>\n",
       "      <td>0.013286</td>\n",
       "    </tr>\n",
       "    <tr>\n",
       "      <th>Banks</th>\n",
       "      <td>0.034544</td>\n",
       "      <td>0.066430</td>\n",
       "      <td>0.100974</td>\n",
       "    </tr>\n",
       "    <tr>\n",
       "      <th>Building</th>\n",
       "      <td>0.008857</td>\n",
       "      <td>0.027458</td>\n",
       "      <td>0.036315</td>\n",
       "    </tr>\n",
       "    <tr>\n",
       "      <th>Consult</th>\n",
       "      <td>0.025686</td>\n",
       "      <td>0.039858</td>\n",
       "      <td>0.065545</td>\n",
       "    </tr>\n",
       "    <tr>\n",
       "      <th>IT</th>\n",
       "      <td>0.077945</td>\n",
       "      <td>0.030115</td>\n",
       "      <td>0.108060</td>\n",
       "    </tr>\n",
       "    <tr>\n",
       "      <th>Mining</th>\n",
       "      <td>0.008857</td>\n",
       "      <td>0.012400</td>\n",
       "      <td>0.021258</td>\n",
       "    </tr>\n",
       "    <tr>\n",
       "      <th>Pharma</th>\n",
       "      <td>0.007972</td>\n",
       "      <td>0.009743</td>\n",
       "      <td>0.017715</td>\n",
       "    </tr>\n",
       "    <tr>\n",
       "      <th>PowerGeneration</th>\n",
       "      <td>0.020372</td>\n",
       "      <td>0.013286</td>\n",
       "      <td>0.033658</td>\n",
       "    </tr>\n",
       "    <tr>\n",
       "      <th>RealEstate</th>\n",
       "      <td>0.007086</td>\n",
       "      <td>0.004429</td>\n",
       "      <td>0.011515</td>\n",
       "    </tr>\n",
       "    <tr>\n",
       "      <th>Retail</th>\n",
       "      <td>0.135518</td>\n",
       "      <td>0.120461</td>\n",
       "      <td>0.255979</td>\n",
       "    </tr>\n",
       "    <tr>\n",
       "      <th>State</th>\n",
       "      <td>0.017715</td>\n",
       "      <td>0.031001</td>\n",
       "      <td>0.048716</td>\n",
       "    </tr>\n",
       "    <tr>\n",
       "      <th>Telecom</th>\n",
       "      <td>0.019486</td>\n",
       "      <td>0.012400</td>\n",
       "      <td>0.031887</td>\n",
       "    </tr>\n",
       "    <tr>\n",
       "      <th>etc</th>\n",
       "      <td>0.035430</td>\n",
       "      <td>0.047830</td>\n",
       "      <td>0.083260</td>\n",
       "    </tr>\n",
       "    <tr>\n",
       "      <th>manufacture</th>\n",
       "      <td>0.066430</td>\n",
       "      <td>0.062002</td>\n",
       "      <td>0.128432</td>\n",
       "    </tr>\n",
       "    <tr>\n",
       "      <th>transport</th>\n",
       "      <td>0.019486</td>\n",
       "      <td>0.014172</td>\n",
       "      <td>0.033658</td>\n",
       "    </tr>\n",
       "    <tr>\n",
       "      <th>All</th>\n",
       "      <td>0.494243</td>\n",
       "      <td>0.505757</td>\n",
       "      <td>1.000000</td>\n",
       "    </tr>\n",
       "  </tbody>\n",
       "</table>\n",
       "</div>"
      ],
      "text/plain": [
       "event                   0         1       All\n",
       "industry                                     \n",
       " HoReCa          0.004429  0.005314  0.009743\n",
       "Agriculture      0.004429  0.008857  0.013286\n",
       "Banks            0.034544  0.066430  0.100974\n",
       "Building         0.008857  0.027458  0.036315\n",
       "Consult          0.025686  0.039858  0.065545\n",
       "IT               0.077945  0.030115  0.108060\n",
       "Mining           0.008857  0.012400  0.021258\n",
       "Pharma           0.007972  0.009743  0.017715\n",
       "PowerGeneration  0.020372  0.013286  0.033658\n",
       "RealEstate       0.007086  0.004429  0.011515\n",
       "Retail           0.135518  0.120461  0.255979\n",
       "State            0.017715  0.031001  0.048716\n",
       "Telecom          0.019486  0.012400  0.031887\n",
       "etc              0.035430  0.047830  0.083260\n",
       "manufacture      0.066430  0.062002  0.128432\n",
       "transport        0.019486  0.014172  0.033658\n",
       "All              0.494243  0.505757  1.000000"
      ]
     },
     "execution_count": 33,
     "metadata": {},
     "output_type": "execute_result"
    }
   ],
   "source": [
    "pd.crosstab(df.industry , df.event,margins=True ,normalize=True)"
   ]
  },
  {
   "cell_type": "code",
   "execution_count": 34,
   "id": "94813bc6",
   "metadata": {},
   "outputs": [
    {
     "data": {
      "text/html": [
       "<div>\n",
       "<style scoped>\n",
       "    .dataframe tbody tr th:only-of-type {\n",
       "        vertical-align: middle;\n",
       "    }\n",
       "\n",
       "    .dataframe tbody tr th {\n",
       "        vertical-align: top;\n",
       "    }\n",
       "\n",
       "    .dataframe thead th {\n",
       "        text-align: right;\n",
       "    }\n",
       "</style>\n",
       "<table border=\"1\" class=\"dataframe\">\n",
       "  <thead>\n",
       "    <tr style=\"text-align: right;\">\n",
       "      <th></th>\n",
       "      <th>event</th>\n",
       "    </tr>\n",
       "    <tr>\n",
       "      <th>industry</th>\n",
       "      <th></th>\n",
       "    </tr>\n",
       "  </thead>\n",
       "  <tbody>\n",
       "    <tr>\n",
       "      <th>IT</th>\n",
       "      <td>0.278689</td>\n",
       "    </tr>\n",
       "    <tr>\n",
       "      <th>RealEstate</th>\n",
       "      <td>0.384615</td>\n",
       "    </tr>\n",
       "    <tr>\n",
       "      <th>Telecom</th>\n",
       "      <td>0.388889</td>\n",
       "    </tr>\n",
       "    <tr>\n",
       "      <th>PowerGeneration</th>\n",
       "      <td>0.394737</td>\n",
       "    </tr>\n",
       "    <tr>\n",
       "      <th>transport</th>\n",
       "      <td>0.421053</td>\n",
       "    </tr>\n",
       "    <tr>\n",
       "      <th>Retail</th>\n",
       "      <td>0.470588</td>\n",
       "    </tr>\n",
       "    <tr>\n",
       "      <th>manufacture</th>\n",
       "      <td>0.482759</td>\n",
       "    </tr>\n",
       "    <tr>\n",
       "      <th>HoReCa</th>\n",
       "      <td>0.545455</td>\n",
       "    </tr>\n",
       "    <tr>\n",
       "      <th>Pharma</th>\n",
       "      <td>0.550000</td>\n",
       "    </tr>\n",
       "    <tr>\n",
       "      <th>etc</th>\n",
       "      <td>0.574468</td>\n",
       "    </tr>\n",
       "    <tr>\n",
       "      <th>Mining</th>\n",
       "      <td>0.583333</td>\n",
       "    </tr>\n",
       "    <tr>\n",
       "      <th>Consult</th>\n",
       "      <td>0.608108</td>\n",
       "    </tr>\n",
       "    <tr>\n",
       "      <th>State</th>\n",
       "      <td>0.636364</td>\n",
       "    </tr>\n",
       "    <tr>\n",
       "      <th>Banks</th>\n",
       "      <td>0.657895</td>\n",
       "    </tr>\n",
       "    <tr>\n",
       "      <th>Agriculture</th>\n",
       "      <td>0.666667</td>\n",
       "    </tr>\n",
       "    <tr>\n",
       "      <th>Building</th>\n",
       "      <td>0.756098</td>\n",
       "    </tr>\n",
       "  </tbody>\n",
       "</table>\n",
       "</div>"
      ],
      "text/plain": [
       "                    event\n",
       "industry                 \n",
       "IT               0.278689\n",
       "RealEstate       0.384615\n",
       "Telecom          0.388889\n",
       "PowerGeneration  0.394737\n",
       "transport        0.421053\n",
       "Retail           0.470588\n",
       "manufacture      0.482759\n",
       " HoReCa          0.545455\n",
       "Pharma           0.550000\n",
       "etc              0.574468\n",
       "Mining           0.583333\n",
       "Consult          0.608108\n",
       "State            0.636364\n",
       "Banks            0.657895\n",
       "Agriculture      0.666667\n",
       "Building         0.756098"
      ]
     },
     "execution_count": 34,
     "metadata": {},
     "output_type": "execute_result"
    }
   ],
   "source": [
    "df[['industry' , 'event']].groupby('industry').mean().sort_values(by='event')"
   ]
  },
  {
   "cell_type": "markdown",
   "id": "f9538414",
   "metadata": {},
   "source": [
    "### % of employee in different industry who terminated from their job."
   ]
  },
  {
   "cell_type": "code",
   "execution_count": 35,
   "id": "5f8456fd",
   "metadata": {},
   "outputs": [
    {
     "data": {
      "image/png": "[encoded data removed]",
      "text/plain": [
       "<Figure size 504x216 with 1 Axes>"
      ]
     },
     "metadata": {
      "needs_background": "light"
     },
     "output_type": "display_data"
    }
   ],
   "source": [
    "fig_dim=(7,3)\n",
    "fig,ax=plt.subplots(figsize=fig_dim)\n",
    "fig,ax=plt.xticks(rotation='vertical')\n",
    "fig,ax=plt.ylim(0,0.9)\n",
    "sns.barplot(x='industry',y='event',data=df,ci=None)\n",
    "ax=plt.gca()\n",
    "for p in ax.patches:\n",
    "    ax.text(p.get_x()+p.get_width()/2,p.get_height(),'%.2f' % float(p.get_height()),fontsize=8,color='Black',ha='center',va='bottom')\n",
    "plt.savefig('industry.png',dpi=300)\n",
    "    "
   ]
  },
  {
   "cell_type": "code",
   "execution_count": 36,
   "id": "48b69efe",
   "metadata": {},
   "outputs": [
    {
     "data": {
      "text/plain": [
       "Text(0, 0.5, 'Frequency of turnover')"
      ]
     },
     "execution_count": 36,
     "metadata": {},
     "output_type": "execute_result"
    },
    {
     "data": {
      "image/png": "[encoded data removed]",
      "text/plain": [
       "<Figure size 720x360 with 1 Axes>"
      ]
     },
     "metadata": {
      "needs_background": "light"
     },
     "output_type": "display_data"
    }
   ],
   "source": [
    "pd.crosstab(df.industry , df.event ).plot(kind='bar',color=('green','red'),figsize=(10,5))\n",
    "plt.xticks(rotation='vertical')\n",
    "plt.grid()\n",
    "plt.title('Industry wise Turnover frequency')\n",
    "plt.xlabel('Industry')\n",
    "plt.ylabel('Frequency of turnover')\n"
   ]
  },
  {
   "cell_type": "markdown",
   "id": "4519010c",
   "metadata": {},
   "source": [
    "### In 'Building' most of the employees is terminated."
   ]
  },
  {
   "cell_type": "markdown",
   "id": "7b0975dc",
   "metadata": {},
   "source": [
    "### Traffic"
   ]
  },
  {
   "cell_type": "code",
   "execution_count": 37,
   "id": "7b43bdbf",
   "metadata": {},
   "outputs": [
    {
     "data": {
      "text/html": [
       "<div>\n",
       "<style scoped>\n",
       "    .dataframe tbody tr th:only-of-type {\n",
       "        vertical-align: middle;\n",
       "    }\n",
       "\n",
       "    .dataframe tbody tr th {\n",
       "        vertical-align: top;\n",
       "    }\n",
       "\n",
       "    .dataframe thead th {\n",
       "        text-align: right;\n",
       "    }\n",
       "</style>\n",
       "<table border=\"1\" class=\"dataframe\">\n",
       "  <thead>\n",
       "    <tr style=\"text-align: right;\">\n",
       "      <th>event</th>\n",
       "      <th>0</th>\n",
       "      <th>1</th>\n",
       "      <th>All</th>\n",
       "    </tr>\n",
       "    <tr>\n",
       "      <th>traffic</th>\n",
       "      <th></th>\n",
       "      <th></th>\n",
       "      <th></th>\n",
       "    </tr>\n",
       "  </thead>\n",
       "  <tbody>\n",
       "    <tr>\n",
       "      <th>KA</th>\n",
       "      <td>31</td>\n",
       "      <td>36</td>\n",
       "      <td>67</td>\n",
       "    </tr>\n",
       "    <tr>\n",
       "      <th>advert</th>\n",
       "      <td>20</td>\n",
       "      <td>13</td>\n",
       "      <td>33</td>\n",
       "    </tr>\n",
       "    <tr>\n",
       "      <th>empjs</th>\n",
       "      <td>118</td>\n",
       "      <td>130</td>\n",
       "      <td>248</td>\n",
       "    </tr>\n",
       "    <tr>\n",
       "      <th>friends</th>\n",
       "      <td>76</td>\n",
       "      <td>42</td>\n",
       "      <td>118</td>\n",
       "    </tr>\n",
       "    <tr>\n",
       "      <th>rabrecNErab</th>\n",
       "      <td>84</td>\n",
       "      <td>127</td>\n",
       "      <td>211</td>\n",
       "    </tr>\n",
       "    <tr>\n",
       "      <th>recNErab</th>\n",
       "      <td>20</td>\n",
       "      <td>19</td>\n",
       "      <td>39</td>\n",
       "    </tr>\n",
       "    <tr>\n",
       "      <th>referal</th>\n",
       "      <td>32</td>\n",
       "      <td>63</td>\n",
       "      <td>95</td>\n",
       "    </tr>\n",
       "    <tr>\n",
       "      <th>youjs</th>\n",
       "      <td>177</td>\n",
       "      <td>141</td>\n",
       "      <td>318</td>\n",
       "    </tr>\n",
       "    <tr>\n",
       "      <th>All</th>\n",
       "      <td>558</td>\n",
       "      <td>571</td>\n",
       "      <td>1129</td>\n",
       "    </tr>\n",
       "  </tbody>\n",
       "</table>\n",
       "</div>"
      ],
      "text/plain": [
       "event          0    1   All\n",
       "traffic                    \n",
       "KA            31   36    67\n",
       "advert        20   13    33\n",
       "empjs        118  130   248\n",
       "friends       76   42   118\n",
       "rabrecNErab   84  127   211\n",
       "recNErab      20   19    39\n",
       "referal       32   63    95\n",
       "youjs        177  141   318\n",
       "All          558  571  1129"
      ]
     },
     "execution_count": 37,
     "metadata": {},
     "output_type": "execute_result"
    }
   ],
   "source": [
    "pd.crosstab(df.traffic,df.event,margins=True)"
   ]
  },
  {
   "cell_type": "code",
   "execution_count": 38,
   "id": "befca766",
   "metadata": {},
   "outputs": [
    {
     "data": {
      "text/html": [
       "<div>\n",
       "<style scoped>\n",
       "    .dataframe tbody tr th:only-of-type {\n",
       "        vertical-align: middle;\n",
       "    }\n",
       "\n",
       "    .dataframe tbody tr th {\n",
       "        vertical-align: top;\n",
       "    }\n",
       "\n",
       "    .dataframe thead th {\n",
       "        text-align: right;\n",
       "    }\n",
       "</style>\n",
       "<table border=\"1\" class=\"dataframe\">\n",
       "  <thead>\n",
       "    <tr style=\"text-align: right;\">\n",
       "      <th></th>\n",
       "      <th>event</th>\n",
       "    </tr>\n",
       "    <tr>\n",
       "      <th>traffic</th>\n",
       "      <th></th>\n",
       "    </tr>\n",
       "  </thead>\n",
       "  <tbody>\n",
       "    <tr>\n",
       "      <th>friends</th>\n",
       "      <td>0.355932</td>\n",
       "    </tr>\n",
       "    <tr>\n",
       "      <th>advert</th>\n",
       "      <td>0.393939</td>\n",
       "    </tr>\n",
       "    <tr>\n",
       "      <th>youjs</th>\n",
       "      <td>0.443396</td>\n",
       "    </tr>\n",
       "    <tr>\n",
       "      <th>recNErab</th>\n",
       "      <td>0.487179</td>\n",
       "    </tr>\n",
       "    <tr>\n",
       "      <th>empjs</th>\n",
       "      <td>0.524194</td>\n",
       "    </tr>\n",
       "    <tr>\n",
       "      <th>KA</th>\n",
       "      <td>0.537313</td>\n",
       "    </tr>\n",
       "    <tr>\n",
       "      <th>rabrecNErab</th>\n",
       "      <td>0.601896</td>\n",
       "    </tr>\n",
       "    <tr>\n",
       "      <th>referal</th>\n",
       "      <td>0.663158</td>\n",
       "    </tr>\n",
       "  </tbody>\n",
       "</table>\n",
       "</div>"
      ],
      "text/plain": [
       "                event\n",
       "traffic              \n",
       "friends      0.355932\n",
       "advert       0.393939\n",
       "youjs        0.443396\n",
       "recNErab     0.487179\n",
       "empjs        0.524194\n",
       "KA           0.537313\n",
       "rabrecNErab  0.601896\n",
       "referal      0.663158"
      ]
     },
     "execution_count": 38,
     "metadata": {},
     "output_type": "execute_result"
    }
   ],
   "source": [
    "df[['traffic' , 'event']].groupby('traffic').mean().sort_values(by='event')"
   ]
  },
  {
   "cell_type": "code",
   "execution_count": 39,
   "id": "b1cbd25b",
   "metadata": {},
   "outputs": [
    {
     "data": {
      "image/png": "[encoded data removed]",
      "text/plain": [
       "<Figure size 360x216 with 1 Axes>"
      ]
     },
     "metadata": {
      "needs_background": "light"
     },
     "output_type": "display_data"
    }
   ],
   "source": [
    "fig_dim=(5,3)\n",
    "fig,ax=plt.subplots(figsize=fig_dim)\n",
    "fig,ax=plt.xticks(rotation='vertical')\n",
    "fig,ax=plt.ylim(0,0.9)\n",
    "sns.barplot(x='traffic',y='event',data=df,ci=None)\n",
    "ax=plt.gca()\n",
    "for p in ax.patches:\n",
    "    ax.text(p.get_x()+p.get_width()/2,p.get_height(),'%.2f' % float(p.get_height()),fontsize=8,color='Black',ha='center',va='bottom')\n",
    "plt.savefig('traffic.png',dpi=300)\n",
    "    "
   ]
  },
  {
   "cell_type": "code",
   "execution_count": 40,
   "id": "a6759f87",
   "metadata": {},
   "outputs": [
    {
     "data": {
      "text/plain": [
       "Text(0, 0.5, 'Frequency of turnover')"
      ]
     },
     "execution_count": 40,
     "metadata": {},
     "output_type": "execute_result"
    },
    {
     "data": {
      "image/png": "[encoded data removed]",
      "text/plain": [
       "<Figure size 720x360 with 1 Axes>"
      ]
     },
     "metadata": {
      "needs_background": "light"
     },
     "output_type": "display_data"
    }
   ],
   "source": [
    "pd.crosstab(df.traffic,df.event).plot(kind='bar',color=('green','red',),figsize=(10,5))\n",
    "plt.xticks(rotation='vertical')\n",
    "plt.grid()\n",
    "plt.title('Traffic wise Turnover frequency')\n",
    "plt.xlabel('Traffic')\n",
    "plt.ylabel('Frequency of turnover')"
   ]
  },
  {
   "cell_type": "markdown",
   "id": "14d69e5b",
   "metadata": {},
   "source": [
    "### Employee who knows about the job through referal are more likely to terminate."
   ]
  },
  {
   "cell_type": "markdown",
   "id": "d8bd300e",
   "metadata": {},
   "source": [
    "## Coach"
   ]
  },
  {
   "cell_type": "code",
   "execution_count": 41,
   "id": "a76ff2ff",
   "metadata": {},
   "outputs": [
    {
     "data": {
      "text/html": [
       "<div>\n",
       "<style scoped>\n",
       "    .dataframe tbody tr th:only-of-type {\n",
       "        vertical-align: middle;\n",
       "    }\n",
       "\n",
       "    .dataframe tbody tr th {\n",
       "        vertical-align: top;\n",
       "    }\n",
       "\n",
       "    .dataframe thead th {\n",
       "        text-align: right;\n",
       "    }\n",
       "</style>\n",
       "<table border=\"1\" class=\"dataframe\">\n",
       "  <thead>\n",
       "    <tr style=\"text-align: right;\">\n",
       "      <th>event</th>\n",
       "      <th>0</th>\n",
       "      <th>1</th>\n",
       "      <th>All</th>\n",
       "    </tr>\n",
       "    <tr>\n",
       "      <th>coach</th>\n",
       "      <th></th>\n",
       "      <th></th>\n",
       "      <th></th>\n",
       "    </tr>\n",
       "  </thead>\n",
       "  <tbody>\n",
       "    <tr>\n",
       "      <th>my head</th>\n",
       "      <td>169</td>\n",
       "      <td>145</td>\n",
       "      <td>314</td>\n",
       "    </tr>\n",
       "    <tr>\n",
       "      <th>no</th>\n",
       "      <td>332</td>\n",
       "      <td>351</td>\n",
       "      <td>683</td>\n",
       "    </tr>\n",
       "    <tr>\n",
       "      <th>yes</th>\n",
       "      <td>57</td>\n",
       "      <td>75</td>\n",
       "      <td>132</td>\n",
       "    </tr>\n",
       "    <tr>\n",
       "      <th>All</th>\n",
       "      <td>558</td>\n",
       "      <td>571</td>\n",
       "      <td>1129</td>\n",
       "    </tr>\n",
       "  </tbody>\n",
       "</table>\n",
       "</div>"
      ],
      "text/plain": [
       "event      0    1   All\n",
       "coach                  \n",
       "my head  169  145   314\n",
       "no       332  351   683\n",
       "yes       57   75   132\n",
       "All      558  571  1129"
      ]
     },
     "execution_count": 41,
     "metadata": {},
     "output_type": "execute_result"
    }
   ],
   "source": [
    "pd.crosstab(df.coach , df.event , margins=True )"
   ]
  },
  {
   "cell_type": "code",
   "execution_count": 42,
   "id": "012d05bd",
   "metadata": {},
   "outputs": [
    {
     "data": {
      "text/html": [
       "<div>\n",
       "<style scoped>\n",
       "    .dataframe tbody tr th:only-of-type {\n",
       "        vertical-align: middle;\n",
       "    }\n",
       "\n",
       "    .dataframe tbody tr th {\n",
       "        vertical-align: top;\n",
       "    }\n",
       "\n",
       "    .dataframe thead th {\n",
       "        text-align: right;\n",
       "    }\n",
       "</style>\n",
       "<table border=\"1\" class=\"dataframe\">\n",
       "  <thead>\n",
       "    <tr style=\"text-align: right;\">\n",
       "      <th></th>\n",
       "      <th>event</th>\n",
       "    </tr>\n",
       "    <tr>\n",
       "      <th>coach</th>\n",
       "      <th></th>\n",
       "    </tr>\n",
       "  </thead>\n",
       "  <tbody>\n",
       "    <tr>\n",
       "      <th>my head</th>\n",
       "      <td>0.461783</td>\n",
       "    </tr>\n",
       "    <tr>\n",
       "      <th>no</th>\n",
       "      <td>0.513909</td>\n",
       "    </tr>\n",
       "    <tr>\n",
       "      <th>yes</th>\n",
       "      <td>0.568182</td>\n",
       "    </tr>\n",
       "  </tbody>\n",
       "</table>\n",
       "</div>"
      ],
      "text/plain": [
       "            event\n",
       "coach            \n",
       "my head  0.461783\n",
       "no       0.513909\n",
       "yes      0.568182"
      ]
     },
     "execution_count": 42,
     "metadata": {},
     "output_type": "execute_result"
    }
   ],
   "source": [
    "df[['coach','event']].groupby('coach').mean().sort_values(by='event')"
   ]
  },
  {
   "cell_type": "code",
   "execution_count": 43,
   "id": "75eb30fd",
   "metadata": {},
   "outputs": [
    {
     "data": {
      "text/plain": [
       "Text(0, 0.5, 'Frequency of turnover')"
      ]
     },
     "execution_count": 43,
     "metadata": {},
     "output_type": "execute_result"
    },
    {
     "data": {
      "image/png": "[encoded data removed]",
      "text/plain": [
       "<Figure size 720x360 with 1 Axes>"
      ]
     },
     "metadata": {
      "needs_background": "light"
     },
     "output_type": "display_data"
    }
   ],
   "source": [
    "pd.crosstab(df.coach , df.event ).plot(kind='bar',color=('g','r'),figsize=(10,5))\n",
    "plt.xticks(rotation='horizontal')\n",
    "plt.grid()\n",
    "plt.title('Coach wise Turnover frequency')\n",
    "plt.xlabel('Coach')\n",
    "plt.ylabel('Frequency of turnover')\n"
   ]
  },
  {
   "cell_type": "code",
   "execution_count": 44,
   "id": "8d0c2e6e",
   "metadata": {},
   "outputs": [
    {
     "data": {
      "image/png": "[encoded data removed]",
      "text/plain": [
       "<Figure size 288x216 with 1 Axes>"
      ]
     },
     "metadata": {
      "needs_background": "light"
     },
     "output_type": "display_data"
    }
   ],
   "source": [
    "fig_dim=(4,3)\n",
    "fig,ax=plt.subplots(figsize=fig_dim)\n",
    "fig,ax=plt.xticks(rotation='horizontal')\n",
    "fig,ax=plt.ylim(0,0.7)\n",
    "sns.barplot(x='coach',y='event',data=df,ci=None)\n",
    "ax=plt.gca()\n",
    "for p in ax.patches:\n",
    "    ax.text(p.get_x()+p.get_width()/2,p.get_height(),'%.2f' % float(p.get_height()),fontsize=8,color='Black',ha='center',va='bottom')\n",
    "plt.savefig('coach.png',dpi=300)\n",
    "    "
   ]
  },
  {
   "cell_type": "markdown",
   "id": "48ed3113",
   "metadata": {},
   "source": [
    "### Employee having a coach is more likely to terminate."
   ]
  },
  {
   "cell_type": "markdown",
   "id": "837a1027",
   "metadata": {},
   "source": [
    "## head_gender"
   ]
  },
  {
   "cell_type": "code",
   "execution_count": 45,
   "id": "2c274db9",
   "metadata": {},
   "outputs": [
    {
     "data": {
      "text/html": [
       "<div>\n",
       "<style scoped>\n",
       "    .dataframe tbody tr th:only-of-type {\n",
       "        vertical-align: middle;\n",
       "    }\n",
       "\n",
       "    .dataframe tbody tr th {\n",
       "        vertical-align: top;\n",
       "    }\n",
       "\n",
       "    .dataframe thead th {\n",
       "        text-align: right;\n",
       "    }\n",
       "</style>\n",
       "<table border=\"1\" class=\"dataframe\">\n",
       "  <thead>\n",
       "    <tr style=\"text-align: right;\">\n",
       "      <th></th>\n",
       "      <th>event</th>\n",
       "    </tr>\n",
       "    <tr>\n",
       "      <th>head_gender</th>\n",
       "      <th></th>\n",
       "    </tr>\n",
       "  </thead>\n",
       "  <tbody>\n",
       "    <tr>\n",
       "      <th>f</th>\n",
       "      <td>0.484404</td>\n",
       "    </tr>\n",
       "    <tr>\n",
       "      <th>m</th>\n",
       "      <td>0.525685</td>\n",
       "    </tr>\n",
       "  </tbody>\n",
       "</table>\n",
       "</div>"
      ],
      "text/plain": [
       "                event\n",
       "head_gender          \n",
       "f            0.484404\n",
       "m            0.525685"
      ]
     },
     "execution_count": 45,
     "metadata": {},
     "output_type": "execute_result"
    }
   ],
   "source": [
    "df[['head_gender','event']].groupby('head_gender').mean().sort_values(by='event')"
   ]
  },
  {
   "cell_type": "code",
   "execution_count": 46,
   "id": "ead96630",
   "metadata": {},
   "outputs": [
    {
     "data": {
      "text/html": [
       "<div>\n",
       "<style scoped>\n",
       "    .dataframe tbody tr th:only-of-type {\n",
       "        vertical-align: middle;\n",
       "    }\n",
       "\n",
       "    .dataframe tbody tr th {\n",
       "        vertical-align: top;\n",
       "    }\n",
       "\n",
       "    .dataframe thead th {\n",
       "        text-align: right;\n",
       "    }\n",
       "</style>\n",
       "<table border=\"1\" class=\"dataframe\">\n",
       "  <thead>\n",
       "    <tr style=\"text-align: right;\">\n",
       "      <th>event</th>\n",
       "      <th>0</th>\n",
       "      <th>1</th>\n",
       "      <th>All</th>\n",
       "    </tr>\n",
       "    <tr>\n",
       "      <th>head_gender</th>\n",
       "      <th></th>\n",
       "      <th></th>\n",
       "      <th></th>\n",
       "    </tr>\n",
       "  </thead>\n",
       "  <tbody>\n",
       "    <tr>\n",
       "      <th>f</th>\n",
       "      <td>281</td>\n",
       "      <td>264</td>\n",
       "      <td>545</td>\n",
       "    </tr>\n",
       "    <tr>\n",
       "      <th>m</th>\n",
       "      <td>277</td>\n",
       "      <td>307</td>\n",
       "      <td>584</td>\n",
       "    </tr>\n",
       "    <tr>\n",
       "      <th>All</th>\n",
       "      <td>558</td>\n",
       "      <td>571</td>\n",
       "      <td>1129</td>\n",
       "    </tr>\n",
       "  </tbody>\n",
       "</table>\n",
       "</div>"
      ],
      "text/plain": [
       "event          0    1   All\n",
       "head_gender                \n",
       "f            281  264   545\n",
       "m            277  307   584\n",
       "All          558  571  1129"
      ]
     },
     "execution_count": 46,
     "metadata": {},
     "output_type": "execute_result"
    }
   ],
   "source": [
    "pd.crosstab(df.head_gender , df.event , margins=True )"
   ]
  },
  {
   "cell_type": "code",
   "execution_count": 47,
   "id": "3b2fc706",
   "metadata": {},
   "outputs": [
    {
     "data": {
      "text/plain": [
       "Text(0, 0.5, 'Frequency of turnover')"
      ]
     },
     "execution_count": 47,
     "metadata": {},
     "output_type": "execute_result"
    },
    {
     "data": {
      "image/png": "[encoded data removed]",
      "text/plain": [
       "<Figure size 360x216 with 1 Axes>"
      ]
     },
     "metadata": {
      "needs_background": "light"
     },
     "output_type": "display_data"
    }
   ],
   "source": [
    "pd.crosstab(df.head_gender , df.event ).plot(kind='bar',color=('g','r'),figsize=(5,3))\n",
    "plt.xticks(rotation='horizontal')\n",
    "plt.grid()\n",
    "plt.title('head_gender wise Turnover frequency')\n",
    "plt.xlabel('head_gender')\n",
    "plt.ylabel('Frequency of turnover')"
   ]
  },
  {
   "cell_type": "code",
   "execution_count": 48,
   "id": "2eafb46a",
   "metadata": {},
   "outputs": [
    {
     "data": {
      "image/png": "[encoded data removed]",
      "text/plain": [
       "<Figure size 216x216 with 1 Axes>"
      ]
     },
     "metadata": {
      "needs_background": "light"
     },
     "output_type": "display_data"
    }
   ],
   "source": [
    "fig_dim=(3,3)\n",
    "fig,ax=plt.subplots(figsize=fig_dim)\n",
    "fig,ax=plt.xticks(rotation='horizontal')\n",
    "fig,ax=plt.ylim(0,0.7)\n",
    "sns.barplot(x='head_gender',y='event',data=df,ci=None)\n",
    "ax=plt.gca()\n",
    "for p in ax.patches:\n",
    "    ax.text(p.get_x()+p.get_width()/2,p.get_height(),'%.2f' % float(p.get_height()),fontsize=8,color='Black',ha='center',va='bottom')\n",
    "plt.savefig('head_gender.png',dpi=300)\n",
    "    "
   ]
  },
  {
   "cell_type": "markdown",
   "id": "a7c5343a",
   "metadata": {},
   "source": [
    "### Employee with male head are slightly more likely to terminate from their job."
   ]
  },
  {
   "cell_type": "markdown",
   "id": "0b514a6d",
   "metadata": {},
   "source": [
    "## Greywage"
   ]
  },
  {
   "cell_type": "code",
   "execution_count": 49,
   "id": "155361a2",
   "metadata": {},
   "outputs": [
    {
     "data": {
      "text/html": [
       "<div>\n",
       "<style scoped>\n",
       "    .dataframe tbody tr th:only-of-type {\n",
       "        vertical-align: middle;\n",
       "    }\n",
       "\n",
       "    .dataframe tbody tr th {\n",
       "        vertical-align: top;\n",
       "    }\n",
       "\n",
       "    .dataframe thead th {\n",
       "        text-align: right;\n",
       "    }\n",
       "</style>\n",
       "<table border=\"1\" class=\"dataframe\">\n",
       "  <thead>\n",
       "    <tr style=\"text-align: right;\">\n",
       "      <th></th>\n",
       "      <th>event</th>\n",
       "    </tr>\n",
       "    <tr>\n",
       "      <th>greywage</th>\n",
       "      <th></th>\n",
       "    </tr>\n",
       "  </thead>\n",
       "  <tbody>\n",
       "    <tr>\n",
       "      <th>white</th>\n",
       "      <td>0.497006</td>\n",
       "    </tr>\n",
       "    <tr>\n",
       "      <th>grey</th>\n",
       "      <td>0.574803</td>\n",
       "    </tr>\n",
       "  </tbody>\n",
       "</table>\n",
       "</div>"
      ],
      "text/plain": [
       "             event\n",
       "greywage          \n",
       "white     0.497006\n",
       "grey      0.574803"
      ]
     },
     "execution_count": 49,
     "metadata": {},
     "output_type": "execute_result"
    }
   ],
   "source": [
    "df[['greywage','event']].groupby('greywage').mean().sort_values(by='event')"
   ]
  },
  {
   "cell_type": "code",
   "execution_count": 50,
   "id": "e9a6b466",
   "metadata": {},
   "outputs": [
    {
     "data": {
      "text/plain": [
       "Text(0, 0.5, 'Frequency of turnover')"
      ]
     },
     "execution_count": 50,
     "metadata": {},
     "output_type": "execute_result"
    },
    {
     "data": {
      "image/png": "[encoded data removed]",
      "text/plain": [
       "<Figure size 504x360 with 1 Axes>"
      ]
     },
     "metadata": {
      "needs_background": "light"
     },
     "output_type": "display_data"
    }
   ],
   "source": [
    "pd.crosstab(df.greywage , df.event ).plot(kind='bar',color=('g','r'),figsize=(7,5))\n",
    "plt.xticks(rotation='horizontal')\n",
    "plt.grid()\n",
    "plt.title('greywage wise Turnover frequency')\n",
    "plt.xlabel('greywage')\n",
    "plt.ylabel('Frequency of turnover')"
   ]
  },
  {
   "cell_type": "code",
   "execution_count": 51,
   "id": "8f9f4a3b",
   "metadata": {},
   "outputs": [
    {
     "data": {
      "image/png": "[encoded data removed]",
      "text/plain": [
       "<Figure size 216x216 with 1 Axes>"
      ]
     },
     "metadata": {
      "needs_background": "light"
     },
     "output_type": "display_data"
    }
   ],
   "source": [
    "fig_dim=(3,3)\n",
    "fig,ax=plt.subplots(figsize=fig_dim)\n",
    "fig,ax=plt.xticks(rotation='horizontal')\n",
    "fig,ax=plt.ylim(0,0.7)\n",
    "sns.barplot(x='greywage',y='event',data=df,ci=None)\n",
    "ax=plt.gca()\n",
    "for p in ax.patches:\n",
    "    ax.text(p.get_x()+p.get_width()/2,p.get_height(),'%.2f' % float(p.get_height()),fontsize=8,color='Black',ha='center',va='bottom')\n",
    "plt.savefig('greywage.png',dpi=300)"
   ]
  },
  {
   "cell_type": "markdown",
   "id": "790f4f9a",
   "metadata": {},
   "source": [
    "### Employees with grey wages are more likely to terminate from their job."
   ]
  },
  {
   "cell_type": "markdown",
   "id": "97d66fce",
   "metadata": {},
   "source": [
    "## Way"
   ]
  },
  {
   "cell_type": "code",
   "execution_count": 52,
   "id": "48ffdc46",
   "metadata": {},
   "outputs": [
    {
     "data": {
      "text/html": [
       "<div>\n",
       "<style scoped>\n",
       "    .dataframe tbody tr th:only-of-type {\n",
       "        vertical-align: middle;\n",
       "    }\n",
       "\n",
       "    .dataframe tbody tr th {\n",
       "        vertical-align: top;\n",
       "    }\n",
       "\n",
       "    .dataframe thead th {\n",
       "        text-align: right;\n",
       "    }\n",
       "</style>\n",
       "<table border=\"1\" class=\"dataframe\">\n",
       "  <thead>\n",
       "    <tr style=\"text-align: right;\">\n",
       "      <th>event</th>\n",
       "      <th>0</th>\n",
       "      <th>1</th>\n",
       "      <th>All</th>\n",
       "    </tr>\n",
       "    <tr>\n",
       "      <th>way</th>\n",
       "      <th></th>\n",
       "      <th></th>\n",
       "      <th></th>\n",
       "    </tr>\n",
       "  </thead>\n",
       "  <tbody>\n",
       "    <tr>\n",
       "      <th>bus</th>\n",
       "      <td>327</td>\n",
       "      <td>354</td>\n",
       "      <td>681</td>\n",
       "    </tr>\n",
       "    <tr>\n",
       "      <th>car</th>\n",
       "      <td>157</td>\n",
       "      <td>174</td>\n",
       "      <td>331</td>\n",
       "    </tr>\n",
       "    <tr>\n",
       "      <th>foot</th>\n",
       "      <td>74</td>\n",
       "      <td>43</td>\n",
       "      <td>117</td>\n",
       "    </tr>\n",
       "    <tr>\n",
       "      <th>All</th>\n",
       "      <td>558</td>\n",
       "      <td>571</td>\n",
       "      <td>1129</td>\n",
       "    </tr>\n",
       "  </tbody>\n",
       "</table>\n",
       "</div>"
      ],
      "text/plain": [
       "event    0    1   All\n",
       "way                  \n",
       "bus    327  354   681\n",
       "car    157  174   331\n",
       "foot    74   43   117\n",
       "All    558  571  1129"
      ]
     },
     "execution_count": 52,
     "metadata": {},
     "output_type": "execute_result"
    }
   ],
   "source": [
    "pd.crosstab(df.way , df.event,margins=True )"
   ]
  },
  {
   "cell_type": "code",
   "execution_count": 53,
   "id": "5677fdc3",
   "metadata": {},
   "outputs": [
    {
     "data": {
      "text/plain": [
       "Text(0, 0.5, 'Frequency of turnover')"
      ]
     },
     "execution_count": 53,
     "metadata": {},
     "output_type": "execute_result"
    },
    {
     "data": {
      "image/png": "[encoded data removed]",
      "text/plain": [
       "<Figure size 720x360 with 1 Axes>"
      ]
     },
     "metadata": {
      "needs_background": "light"
     },
     "output_type": "display_data"
    }
   ],
   "source": [
    "pd.crosstab(df.way , df.event).plot(kind='bar',color=('g','r'),figsize=(10,5))\n",
    "plt.xticks(rotation='horizontal')\n",
    "plt.grid()\n",
    "plt.title('Way wise Turnover frequency')\n",
    "plt.xlabel('Way')\n",
    "plt.ylabel('Frequency of turnover')"
   ]
  },
  {
   "cell_type": "code",
   "execution_count": 54,
   "id": "f5c4f06c",
   "metadata": {},
   "outputs": [
    {
     "data": {
      "text/html": [
       "<div>\n",
       "<style scoped>\n",
       "    .dataframe tbody tr th:only-of-type {\n",
       "        vertical-align: middle;\n",
       "    }\n",
       "\n",
       "    .dataframe tbody tr th {\n",
       "        vertical-align: top;\n",
       "    }\n",
       "\n",
       "    .dataframe thead th {\n",
       "        text-align: right;\n",
       "    }\n",
       "</style>\n",
       "<table border=\"1\" class=\"dataframe\">\n",
       "  <thead>\n",
       "    <tr style=\"text-align: right;\">\n",
       "      <th></th>\n",
       "      <th>event</th>\n",
       "    </tr>\n",
       "    <tr>\n",
       "      <th>way</th>\n",
       "      <th></th>\n",
       "    </tr>\n",
       "  </thead>\n",
       "  <tbody>\n",
       "    <tr>\n",
       "      <th>foot</th>\n",
       "      <td>0.367521</td>\n",
       "    </tr>\n",
       "    <tr>\n",
       "      <th>bus</th>\n",
       "      <td>0.519824</td>\n",
       "    </tr>\n",
       "    <tr>\n",
       "      <th>car</th>\n",
       "      <td>0.525680</td>\n",
       "    </tr>\n",
       "  </tbody>\n",
       "</table>\n",
       "</div>"
      ],
      "text/plain": [
       "         event\n",
       "way           \n",
       "foot  0.367521\n",
       "bus   0.519824\n",
       "car   0.525680"
      ]
     },
     "execution_count": 54,
     "metadata": {},
     "output_type": "execute_result"
    }
   ],
   "source": [
    "df[['way' , 'event']].groupby('way').mean().sort_values(by='event')"
   ]
  },
  {
   "cell_type": "code",
   "execution_count": 55,
   "id": "8f8f5d9b",
   "metadata": {},
   "outputs": [
    {
     "data": {
      "image/png": "[encoded data removed]",
      "text/plain": [
       "<Figure size 360x216 with 1 Axes>"
      ]
     },
     "metadata": {
      "needs_background": "light"
     },
     "output_type": "display_data"
    }
   ],
   "source": [
    "fig_dim=(5,3)\n",
    "fig,ax=plt.subplots(figsize=fig_dim)\n",
    "fig,ax=plt.xticks(rotation='horizontal')\n",
    "fig,ax=plt.ylim(0,0.6)\n",
    "sns.barplot(x='way',y='event',data=df,ci=None)\n",
    "ax=plt.gca()\n",
    "for p in ax.patches:\n",
    "    ax.text(p.get_x()+p.get_width()/2,p.get_height(),'%.2f' % float(p.get_height()),fontsize=8,color='Black',ha='center',va='bottom')\n",
    "plt.savefig('way.png')    \n"
   ]
  },
  {
   "cell_type": "markdown",
   "id": "db6c3b98",
   "metadata": {},
   "source": [
    "### 53% employee whose mode of transportation is car is terminated."
   ]
  },
  {
   "cell_type": "markdown",
   "id": "a6c3e3b8",
   "metadata": {},
   "source": [
    "## independ"
   ]
  },
  {
   "cell_type": "code",
   "execution_count": 56,
   "id": "1bc65e9c",
   "metadata": {},
   "outputs": [
    {
     "data": {
      "image/png": "[encoded data removed]",
      "text/plain": [
       "<Figure size 288x288 with 1 Axes>"
      ]
     },
     "metadata": {
      "needs_background": "light"
     },
     "output_type": "display_data"
    }
   ],
   "source": [
    "g=sns.catplot( y='independ',x='event' , data=df  , kind='violin' , palette=['green','red'] , height=4 , legend=True)\n",
    "(g.set_axis_labels(\"\", \"Independent\")\n",
    "  .set_xticklabels([\"Not-terminated\" , \"terminated\"]))\n",
    "\n",
    "plt.grid()\n",
    "plt.savefig('independ.png',dpi=300)"
   ]
  },
  {
   "cell_type": "markdown",
   "id": "124aa39b",
   "metadata": {},
   "source": [
    "####  Most of the employee who terminate from their job has a rating in the range 4.8 to 5.5"
   ]
  },
  {
   "cell_type": "markdown",
   "id": "8baa2dee",
   "metadata": {},
   "source": [
    "## Selfcontrol"
   ]
  },
  {
   "cell_type": "code",
   "execution_count": 57,
   "id": "74e7b618",
   "metadata": {},
   "outputs": [
    {
     "data": {
      "text/plain": [
       "4.1     156\n",
       "5.7     153\n",
       "6.4     152\n",
       "4.9     140\n",
       "7.2     135\n",
       "3.3      92\n",
       "8.0      85\n",
       "2.6      76\n",
       "8.7      59\n",
       "9.5      31\n",
       "1.8      26\n",
       "10.0     13\n",
       "1.0      11\n",
       "Name: selfcontrol, dtype: int64"
      ]
     },
     "execution_count": 57,
     "metadata": {},
     "output_type": "execute_result"
    }
   ],
   "source": [
    "df['selfcontrol'].value_counts()"
   ]
  },
  {
   "cell_type": "code",
   "execution_count": 58,
   "id": "6734414f",
   "metadata": {},
   "outputs": [
    {
     "data": {
      "text/html": [
       "<div>\n",
       "<style scoped>\n",
       "    .dataframe tbody tr th:only-of-type {\n",
       "        vertical-align: middle;\n",
       "    }\n",
       "\n",
       "    .dataframe tbody tr th {\n",
       "        vertical-align: top;\n",
       "    }\n",
       "\n",
       "    .dataframe thead th {\n",
       "        text-align: right;\n",
       "    }\n",
       "</style>\n",
       "<table border=\"1\" class=\"dataframe\">\n",
       "  <thead>\n",
       "    <tr style=\"text-align: right;\">\n",
       "      <th></th>\n",
       "      <th>event</th>\n",
       "    </tr>\n",
       "    <tr>\n",
       "      <th>selfcontrol</th>\n",
       "      <th></th>\n",
       "    </tr>\n",
       "  </thead>\n",
       "  <tbody>\n",
       "    <tr>\n",
       "      <th>8.7</th>\n",
       "      <td>0.406780</td>\n",
       "    </tr>\n",
       "    <tr>\n",
       "      <th>8.0</th>\n",
       "      <td>0.411765</td>\n",
       "    </tr>\n",
       "    <tr>\n",
       "      <th>9.5</th>\n",
       "      <td>0.451613</td>\n",
       "    </tr>\n",
       "    <tr>\n",
       "      <th>4.1</th>\n",
       "      <td>0.461538</td>\n",
       "    </tr>\n",
       "    <tr>\n",
       "      <th>6.4</th>\n",
       "      <td>0.493421</td>\n",
       "    </tr>\n",
       "    <tr>\n",
       "      <th>1.8</th>\n",
       "      <td>0.500000</td>\n",
       "    </tr>\n",
       "    <tr>\n",
       "      <th>2.6</th>\n",
       "      <td>0.500000</td>\n",
       "    </tr>\n",
       "    <tr>\n",
       "      <th>3.3</th>\n",
       "      <td>0.521739</td>\n",
       "    </tr>\n",
       "    <tr>\n",
       "      <th>7.2</th>\n",
       "      <td>0.525926</td>\n",
       "    </tr>\n",
       "    <tr>\n",
       "      <th>10.0</th>\n",
       "      <td>0.538462</td>\n",
       "    </tr>\n",
       "    <tr>\n",
       "      <th>5.7</th>\n",
       "      <td>0.549020</td>\n",
       "    </tr>\n",
       "    <tr>\n",
       "      <th>4.9</th>\n",
       "      <td>0.592857</td>\n",
       "    </tr>\n",
       "    <tr>\n",
       "      <th>1.0</th>\n",
       "      <td>0.636364</td>\n",
       "    </tr>\n",
       "  </tbody>\n",
       "</table>\n",
       "</div>"
      ],
      "text/plain": [
       "                event\n",
       "selfcontrol          \n",
       "8.7          0.406780\n",
       "8.0          0.411765\n",
       "9.5          0.451613\n",
       "4.1          0.461538\n",
       "6.4          0.493421\n",
       "1.8          0.500000\n",
       "2.6          0.500000\n",
       "3.3          0.521739\n",
       "7.2          0.525926\n",
       "10.0         0.538462\n",
       "5.7          0.549020\n",
       "4.9          0.592857\n",
       "1.0          0.636364"
      ]
     },
     "execution_count": 58,
     "metadata": {},
     "output_type": "execute_result"
    }
   ],
   "source": [
    "df[['selfcontrol' , 'event']].groupby('selfcontrol').mean().sort_values(by='event')"
   ]
  },
  {
   "cell_type": "code",
   "execution_count": 59,
   "id": "6f916784",
   "metadata": {},
   "outputs": [
    {
     "data": {
      "image/png": "[encoded data removed]",
      "text/plain": [
       "<Figure size 288x288 with 1 Axes>"
      ]
     },
     "metadata": {
      "needs_background": "light"
     },
     "output_type": "display_data"
    }
   ],
   "source": [
    "g=sns.catplot( y='selfcontrol',x='event' , data=df  , kind='violin' , palette=['green','red'] , height=4 , legend=True)\n",
    "(g.set_axis_labels(\"\", \"Selfcontrol\")\n",
    "  .set_xticklabels([\"Not-terminated\" , \"terminated\"]))\n",
    "\n",
    "plt.grid()\n",
    "plt.savefig('selfcontrol.png',dpi=300)"
   ]
  },
  {
   "cell_type": "markdown",
   "id": "4c65c4e8",
   "metadata": {},
   "source": [
    "### Most of the employees with rating  6 has terminated from their job."
   ]
  },
  {
   "cell_type": "markdown",
   "id": "21db9bbd",
   "metadata": {},
   "source": [
    "## Anxiety"
   ]
  },
  {
   "cell_type": "code",
   "execution_count": 60,
   "id": "7e82fbc6",
   "metadata": {},
   "outputs": [
    {
     "data": {
      "image/png": "[encoded data removed]",
      "text/plain": [
       "<Figure size 288x288 with 1 Axes>"
      ]
     },
     "metadata": {
      "needs_background": "light"
     },
     "output_type": "display_data"
    }
   ],
   "source": [
    "g=sns.catplot( y='anxiety',x='event' , data=df  , kind='violin' , palette=['green','red'] , height=4 , legend=True)\n",
    "(g.set_axis_labels(\"\", \"anxiety\")\n",
    "  .set_xticklabels([\"Not-terminated\" , \"terminated\"]))\n",
    "\n",
    "plt.grid()\n",
    "plt.savefig('anxiety.png',dpi=300)"
   ]
  },
  {
   "cell_type": "markdown",
   "id": "e7edb922",
   "metadata": {},
   "source": [
    "### Employee with anxiety rating around 6 are more likely to terminate from their job."
   ]
  },
  {
   "cell_type": "markdown",
   "id": "caaf3e32",
   "metadata": {},
   "source": [
    "### Kaplan-meier curve"
   ]
  },
  {
   "cell_type": "code",
   "execution_count": 61,
   "id": "7d167348",
   "metadata": {},
   "outputs": [
    {
     "data": {
      "image/png": "[encoded data removed]",
      "text/plain": [
       "<Figure size 720x504 with 1 Axes>"
      ]
     },
     "metadata": {
      "needs_background": "light"
     },
     "output_type": "display_data"
    },
    {
     "data": {
      "text/plain": [
       "<Figure size 432x288 with 0 Axes>"
      ]
     },
     "metadata": {},
     "output_type": "display_data"
    }
   ],
   "source": [
    "T = df['stag']\n",
    "E = df['event']\n",
    "km = KaplanMeierFitter() \n",
    "plt.figure(figsize=(10,7))\n",
    "km.fit(T, E,label='Kaplan Meier Estimate')\n",
    "km.plot(ci_show=True) ## ci_show is meant for Confidence interval\n",
    "plt.grid()\n",
    "plt.show()\n",
    "plt.savefig('km0.jpg',dpi=300)"
   ]
  },
  {
   "cell_type": "code",
   "execution_count": 62,
   "id": "12f3ea57",
   "metadata": {},
   "outputs": [
    {
     "data": {
      "text/plain": [
       "Others         289\n",
       "Retail         289\n",
       "manufacture    145\n",
       "IT             122\n",
       "Banks          114\n",
       "Consult         74\n",
       "State           55\n",
       "Building        41\n",
       "Name: industry, dtype: int64"
      ]
     },
     "execution_count": 62,
     "metadata": {},
     "output_type": "execute_result"
    }
   ],
   "source": [
    "df['industry']=df['industry'].replace({'PowerGeneration':'Pharma','Telecom':'Pharma','Agriculture':'Pharma','RealEstate':'Pharma','etc':'Pharma',' HoReCa':'Pharma',\n",
    "       'Mining':'Pharma', 'transport':'Pharma'})\n",
    "\n",
    "df['industry']=np.where(df['industry'] =='Pharma','Others', df['industry'])\n",
    "df['industry'].value_counts()"
   ]
  },
  {
   "cell_type": "code",
   "execution_count": 63,
   "id": "bb77905e",
   "metadata": {},
   "outputs": [
    {
     "data": {
      "text/plain": [
       "Index(['stag', 'event', 'gender', 'age', 'industry', 'traffic', 'coach',\n",
       "       'head_gender', 'greywage', 'way', 'independ', 'selfcontrol', 'anxiety',\n",
       "       'Year', 'Month', 'Date'],\n",
       "      dtype='object')"
      ]
     },
     "execution_count": 63,
     "metadata": {},
     "output_type": "execute_result"
    }
   ],
   "source": [
    "df.columns"
   ]
  },
  {
   "cell_type": "code",
   "execution_count": 64,
   "id": "1bdc8f7a",
   "metadata": {},
   "outputs": [],
   "source": [
    "def map_all(frame):\n",
    "    # Map Sex\n",
    "    frame['gender'] = frame.gender.map({'m': 0 ,  'f': 1}).astype(int) \n",
    "    # Map profession\n",
    "    #frame['profession'] = frame.profession.map({'HR' : 0 , 'IT': 1 , 'Consult':2 , 'etc':3 , 'Marketing': 4 ,'BusinessDevelopment' :5 , 'Others': 6}).astype(int) \n",
    "    # Map industry\n",
    "    frame['industry'] = frame.industry.map({'Building' : 0 , 'Consult': 1 , 'Banks':2 , 'Retail':3 , 'manufacture': 4 ,'State' :5 , 'IT':6,'Others': 7}).astype(int)  \n",
    "    # Map way\n",
    "    frame['way'] = frame.way.map({'bus' : 0 , 'car': 1 , 'foot':2}).astype(int)   \n",
    "    # Map traffic\n",
    "    frame['traffic'] = frame.traffic.map({'youjs' : 0 , 'empjs': 1 , 'rabrecNErab':2 , 'friends':3 , 'referal': 4 ,'KA' :5 , 'recNErab':6, 'advert':7}).astype(int)  \n",
    "    # Map greywage\n",
    "    frame['greywage'] = frame.greywage.map({'white' : 0 , 'grey': 1 }).astype(int) \n",
    "    # Map coach\n",
    "    frame['coach'] = frame.coach.map({'no' : 0 , 'yes': 1 , 'my head':2 }).astype(int) \n",
    "    # Map head_gender\n",
    "    frame['head_gender'] = frame.head_gender.map({'m' : 0 , 'f': 1 }).astype(int)  \n",
    "  "
   ]
  },
  {
   "cell_type": "code",
   "execution_count": 65,
   "id": "fe693b35",
   "metadata": {},
   "outputs": [],
   "source": [
    "map_all(df)"
   ]
  },
  {
   "cell_type": "code",
   "execution_count": 66,
   "id": "af8973cf",
   "metadata": {},
   "outputs": [
    {
     "data": {
      "image/png": "[encoded data removed]",
      "text/plain": [
       "<Figure size 504x360 with 1 Axes>"
      ]
     },
     "metadata": {
      "needs_background": "light"
     },
     "output_type": "display_data"
    },
    {
     "data": {
      "text/plain": [
       "<Figure size 432x288 with 0 Axes>"
      ]
     },
     "metadata": {},
     "output_type": "display_data"
    }
   ],
   "source": [
    "T = df['stag']\n",
    "E = df['event']\n",
    "\n",
    "km_2 = KaplanMeierFitter()\n",
    "\n",
    "groups = df['gender']   \n",
    "i1 = (groups == 0)   \n",
    "i2 = (groups == 1)  \n",
    "\n",
    "plt.figure(figsize=(7,5))\n",
    "ax=plt.subplot()\n",
    "\n",
    "## fit the model for 1st group\n",
    "km_2.fit(T[i1], E[i1], label='male')\n",
    "km_2.plot(ax=ax,ci_show=False)\n",
    "\n",
    "## fit the model for 2nd group\n",
    "km_2.fit(T[i2], E[i2], label='female')\n",
    "km_2.plot(ax=ax,ci_show=False)\n",
    "plt.grid()\n",
    "plt.show()\n",
    "plt.savefig('km1.png',dpi=300)\n",
    "\n"
   ]
  },
  {
   "cell_type": "code",
   "execution_count": 67,
   "id": "9361be44",
   "metadata": {},
   "outputs": [
    {
     "data": {
      "image/png": "[encoded data removed]",
      "text/plain": [
       "<Figure size 504x360 with 1 Axes>"
      ]
     },
     "metadata": {
      "needs_background": "light"
     },
     "output_type": "display_data"
    },
    {
     "data": {
      "text/plain": [
       "<Figure size 432x288 with 0 Axes>"
      ]
     },
     "metadata": {},
     "output_type": "display_data"
    }
   ],
   "source": [
    "km_3 = KaplanMeierFitter()\n",
    "\n",
    "groups=df['age']\n",
    "g1=(groups<=26)  \n",
    "g2=(groups>26) & (groups<=30)\n",
    "g3=(groups>30) & (groups<=36)\n",
    "g4=(groups>36)\n",
    "plt.figure(figsize=(7,5))\n",
    "ax=plt.subplot()\n",
    "\n",
    "## fit the model for 1st group\n",
    "km_3.fit(T[g1], E[g1], label='below age 26')\n",
    "km_3.plot(ax=ax,ci_show=False)\n",
    "\n",
    "## fit the model for 2nd group\n",
    "km_3.fit(T[g2], E[g2], label='age btw 26-30')\n",
    "km_3.plot(ax=ax,ci_show=False)\n",
    "\n",
    "km_3.fit(T[g3], E[g3], label='age btw 30-36 ')\n",
    "km_3.plot(ax=ax,ci_show=False)\n",
    "\n",
    "km_3.fit(T[g4], E[g4], label='above age 36')\n",
    "km_3.plot(ax=ax,ci_show=False)\n",
    "\n",
    "\n",
    "plt.grid()\n",
    "plt.show()\n",
    "plt.savefig('km2.png',dpi=300)"
   ]
  },
  {
   "cell_type": "code",
   "execution_count": null,
   "id": "cb323523",
   "metadata": {},
   "outputs": [],
   "source": []
  },
  {
   "cell_type": "code",
   "execution_count": 68,
   "id": "f3beba26",
   "metadata": {},
   "outputs": [
    {
     "data": {
      "image/png": "[encoded data removed]",
      "text/plain": [
       "<Figure size 504x360 with 1 Axes>"
      ]
     },
     "metadata": {
      "needs_background": "light"
     },
     "output_type": "display_data"
    },
    {
     "data": {
      "text/plain": [
       "<Figure size 432x288 with 0 Axes>"
      ]
     },
     "metadata": {},
     "output_type": "display_data"
    }
   ],
   "source": [
    "km_4 = KaplanMeierFitter()\n",
    "\n",
    "groups=df['industry']\n",
    "g1=(groups==0)  \n",
    "g2=(groups==1)\n",
    "g3=(groups==2)\n",
    "g4=(groups==3)\n",
    "g5=(groups==4)\n",
    "g6=(groups==5)\n",
    "g7=(groups==6)\n",
    "g8=(groups==7)\n",
    "\n",
    "plt.figure(figsize=(7,5))\n",
    "ax=plt.subplot()\n",
    "\n",
    "## fit the model for 1st group\n",
    "km_4.fit(T[g1], E[g1], label='Building')\n",
    "km_4.plot(ax=ax,ci_show=False)\n",
    "\n",
    "## fit the model for 2nd group\n",
    "km_4.fit(T[g2], E[g2], label='Consult')\n",
    "km_4.plot(ax=ax,ci_show=False)\n",
    "\n",
    "km_4.fit(T[g3], E[g3], label='Banks')\n",
    "km_4.plot(ax=ax,ci_show=False)\n",
    "\n",
    "km_4.fit(T[g4], E[g4], label='Retail')\n",
    "km_4.plot(ax=ax,ci_show=False)\n",
    "\n",
    "km_4.fit(T[g5], E[g5], label='manufacture')\n",
    "km_4.plot(ax=ax,ci_show=False)\n",
    "\n",
    "km_4.fit(T[g6], E[g6], label='State')\n",
    "km_4.plot(ax=ax,ci_show=False)\n",
    "\n",
    "km_4.fit(T[g7], E[g7], label='IT')\n",
    "km_4.plot(ax=ax,ci_show=False)\n",
    "\n",
    "km_4.fit(T[g8], E[g8], label='Others')\n",
    "km_4.plot(ax=ax,ci_show=False)\n",
    "\n",
    "plt.grid()\n",
    "plt.show()\n",
    "plt.savefig('km4.png',dpi=300)"
   ]
  },
  {
   "cell_type": "code",
   "execution_count": 69,
   "id": "4de0c8d1",
   "metadata": {},
   "outputs": [
    {
     "data": {
      "image/png": "[encoded data removed]",
      "text/plain": [
       "<Figure size 360x216 with 1 Axes>"
      ]
     },
     "metadata": {
      "needs_background": "light"
     },
     "output_type": "display_data"
    },
    {
     "data": {
      "text/plain": [
       "<Figure size 432x288 with 0 Axes>"
      ]
     },
     "metadata": {},
     "output_type": "display_data"
    }
   ],
   "source": [
    "km_6 = KaplanMeierFitter()\n",
    "\n",
    "groups=df['coach']\n",
    "g1=(groups==0)  \n",
    "g2=(groups==1)\n",
    "g3=(groups==2)\n",
    "\n",
    "\n",
    "plt.figure(figsize=(5,3))\n",
    "ax=plt.subplot()\n",
    "\n",
    "## fit the model for 1st group\n",
    "km_6.fit(T[g1], E[g1], label='no')\n",
    "km_6.plot(ax=ax,ci_show=False)\n",
    "\n",
    "## fit the model for 2nd group\n",
    "km_6.fit(T[g2], E[g2], label='yes')\n",
    "km_6.plot(ax=ax,ci_show=False)\n",
    "\n",
    "km_6.fit(T[g3], E[g3], label='my_head')\n",
    "km_6.plot(ax=ax,ci_show=False)\n",
    "\n",
    "\n",
    "plt.grid()\n",
    "plt.show()\n",
    "plt.savefig('km5.png',dpi=300)"
   ]
  },
  {
   "cell_type": "code",
   "execution_count": 70,
   "id": "984fa284",
   "metadata": {},
   "outputs": [
    {
     "data": {
      "image/png": "[encoded data removed]",
      "text/plain": [
       "<Figure size 360x216 with 1 Axes>"
      ]
     },
     "metadata": {
      "needs_background": "light"
     },
     "output_type": "display_data"
    },
    {
     "data": {
      "text/plain": [
       "<Figure size 432x288 with 0 Axes>"
      ]
     },
     "metadata": {},
     "output_type": "display_data"
    }
   ],
   "source": [
    "km_6 = KaplanMeierFitter()\n",
    "\n",
    "groups=df['head_gender']\n",
    "g1=(groups==0)  \n",
    "g2=(groups==1)\n",
    "\n",
    "plt.figure(figsize=(5,3))\n",
    "ax=plt.subplot()\n",
    "\n",
    "## fit the model for 1st group\n",
    "km_6.fit(T[g1], E[g1], label='m')\n",
    "km_6.plot(ax=ax,ci_show=False)\n",
    "\n",
    "## fit the model for 2nd group\n",
    "km_6.fit(T[g2], E[g2], label='f')\n",
    "km_6.plot(ax=ax,ci_show=False)\n",
    "\n",
    "plt.grid()\n",
    "plt.show()\n",
    "plt.savefig('km6.png',dpi=300)"
   ]
  },
  {
   "cell_type": "code",
   "execution_count": 71,
   "id": "87b435b0",
   "metadata": {},
   "outputs": [
    {
     "data": {
      "image/png": "[encoded data removed]",
      "text/plain": [
       "<Figure size 360x216 with 1 Axes>"
      ]
     },
     "metadata": {
      "needs_background": "light"
     },
     "output_type": "display_data"
    },
    {
     "data": {
      "text/plain": [
       "<Figure size 432x288 with 0 Axes>"
      ]
     },
     "metadata": {},
     "output_type": "display_data"
    }
   ],
   "source": [
    "km_6 = KaplanMeierFitter()\n",
    "\n",
    "groups=df['way']\n",
    "g1=(groups==0)  \n",
    "g2=(groups==1)\n",
    "g3=(groups==2)\n",
    "\n",
    "\n",
    "plt.figure(figsize=(5,3))\n",
    "ax=plt.subplot()\n",
    "\n",
    "## fit the model for 1st group\n",
    "km_6.fit(T[g1], E[g1], label='bus')\n",
    "km_6.plot(ax=ax,ci_show=False)\n",
    "\n",
    "## fit the model for 2nd group\n",
    "km_6.fit(T[g2], E[g2], label='car')\n",
    "km_6.plot(ax=ax,ci_show=False)\n",
    "\n",
    "km_6.fit(T[g3], E[g3], label='foot')\n",
    "km_6.plot(ax=ax,ci_show=False)\n",
    "\n",
    "\n",
    "plt.grid()\n",
    "plt.show()\n",
    "plt.savefig('km7.png',dpi=300)"
   ]
  },
  {
   "cell_type": "code",
   "execution_count": 72,
   "id": "e563aaea",
   "metadata": {},
   "outputs": [
    {
     "data": {
      "image/png": "[encoded data removed]",
      "text/plain": [
       "<Figure size 504x360 with 1 Axes>"
      ]
     },
     "metadata": {
      "needs_background": "light"
     },
     "output_type": "display_data"
    },
    {
     "data": {
      "text/plain": [
       "<Figure size 432x288 with 0 Axes>"
      ]
     },
     "metadata": {},
     "output_type": "display_data"
    }
   ],
   "source": [
    "km_7 = KaplanMeierFitter()\n",
    "\n",
    "groups=df['greywage']\n",
    "g1=(groups==0)  \n",
    "g2=(groups==1)\n",
    "\n",
    "plt.figure(figsize=(7,5))\n",
    "ax=plt.subplot()\n",
    "\n",
    "## fit the model for 1st group\n",
    "km_7.fit(T[g1], E[g1], label='white')\n",
    "km_7.plot(ax=ax,ci_show=False)\n",
    "\n",
    "## fit the model for 2nd group\n",
    "km_7.fit(T[g2], E[g2], label='grey')\n",
    "km_7.plot(ax=ax,ci_show=False)\n",
    "\n",
    "\n",
    "\n",
    "plt.grid()\n",
    "plt.show()\n",
    "plt.savefig('km8.png',dpi=300)"
   ]
  },
  {
   "cell_type": "code",
   "execution_count": 73,
   "id": "ad50cc71",
   "metadata": {},
   "outputs": [
    {
     "data": {
      "image/png": "[encoded data removed]",
      "text/plain": [
       "<Figure size 504x360 with 1 Axes>"
      ]
     },
     "metadata": {
      "needs_background": "light"
     },
     "output_type": "display_data"
    },
    {
     "data": {
      "text/plain": [
       "<Figure size 432x288 with 0 Axes>"
      ]
     },
     "metadata": {},
     "output_type": "display_data"
    }
   ],
   "source": [
    "km_8 = KaplanMeierFitter()\n",
    "\n",
    "groups=df['traffic']\n",
    "g1=(groups==0)  \n",
    "g2=(groups==1)\n",
    "g3=(groups==2)\n",
    "g4=(groups==3)\n",
    "g5=(groups==4)\n",
    "g6=(groups==5)\n",
    "g7=(groups==6)\n",
    "g8=(groups==7)\n",
    "\n",
    "\n",
    "plt.figure(figsize=(7,5))\n",
    "ax=plt.subplot()\n",
    "\n",
    "## fit the model for 1st group\n",
    "km_8.fit(T[g1], E[g1], label='youjs')\n",
    "km_8.plot(ax=ax,ci_show=False)\n",
    "\n",
    "## fit the model for 2nd group\n",
    "km_8.fit(T[g2], E[g2], label='empjs')\n",
    "km_8.plot(ax=ax,ci_show=False)\n",
    "\n",
    "km_8.fit(T[g3], E[g3], label='rabrecNErab')\n",
    "km_8.plot(ax=ax,ci_show=False)\n",
    "\n",
    "km_8.fit(T[g4], E[g4], label='friends')\n",
    "km_8.plot(ax=ax,ci_show=False)\n",
    "\n",
    "km_8.fit(T[g5], E[g5], label='referal')\n",
    "km_8.plot(ax=ax,ci_show=False)\n",
    "\n",
    "km_8.fit(T[g6], E[g6], label='KA')\n",
    "km_8.plot(ax=ax,ci_show=False)\n",
    "\n",
    "km_8.fit(T[g7], E[g7], label='recNErab')\n",
    "km_8.plot(ax=ax,ci_show=False)\n",
    "\n",
    "km_8.fit(T[g8], E[g8], label='advert')\n",
    "km_8.plot(ax=ax,ci_show=False)\n",
    "plt.grid()\n",
    "plt.show()\n",
    "plt.savefig('km9.png',dpi=300)"
   ]
  },
  {
   "cell_type": "code",
   "execution_count": 74,
   "id": "87ac28b6",
   "metadata": {},
   "outputs": [
    {
     "data": {
      "image/png": "[encoded data removed]",
      "text/plain": [
       "<Figure size 360x216 with 1 Axes>"
      ]
     },
     "metadata": {
      "needs_background": "light"
     },
     "output_type": "display_data"
    },
    {
     "data": {
      "text/plain": [
       "<Figure size 432x288 with 0 Axes>"
      ]
     },
     "metadata": {},
     "output_type": "display_data"
    }
   ],
   "source": [
    "km_3 = KaplanMeierFitter()\n",
    "\n",
    "groups=df['independ']\n",
    "g1=(groups<=4.1)  \n",
    "g2=(groups>4.1) & (groups<=5.5)\n",
    "g3=(groups>5.5) & (groups<=6.9)\n",
    "g4=(groups>6.9)\n",
    "plt.figure(figsize=(5,3))\n",
    "ax=plt.subplot()\n",
    "\n",
    "## fit the model for 1st group\n",
    "km_3.fit(T[g1], E[g1], label='below 4.1')\n",
    "km_3.plot(ax=ax,ci_show=False)\n",
    "\n",
    "## fit the model for 2nd group\n",
    "km_3.fit(T[g2], E[g2], label='btw 4.1-5.5')\n",
    "km_3.plot(ax=ax,ci_show=False)\n",
    "\n",
    "km_3.fit(T[g3], E[g3], label='btw 5.5-6.9')\n",
    "km_3.plot(ax=ax,ci_show=False)\n",
    "\n",
    "km_3.fit(T[g4], E[g4], label='above 6.9')\n",
    "km_3.plot(ax=ax,ci_show=False)\n",
    "\n",
    "\n",
    "plt.grid()\n",
    "plt.show()\n",
    "plt.savefig('km10.png',dpi=300)"
   ]
  },
  {
   "cell_type": "code",
   "execution_count": 75,
   "id": "2b7f46c0",
   "metadata": {},
   "outputs": [
    {
     "data": {
      "image/png": "[encoded data removed]",
      "text/plain": [
       "<Figure size 360x216 with 1 Axes>"
      ]
     },
     "metadata": {
      "needs_background": "light"
     },
     "output_type": "display_data"
    },
    {
     "data": {
      "text/plain": [
       "<Figure size 432x288 with 0 Axes>"
      ]
     },
     "metadata": {},
     "output_type": "display_data"
    }
   ],
   "source": [
    "km_3 = KaplanMeierFitter()\n",
    "\n",
    "groups=df['selfcontrol']\n",
    "g1=(groups<=4.1)  \n",
    "g2=(groups>4.1) & (groups<=5.7)\n",
    "g3=(groups>5.7) & (groups<=7.2)\n",
    "g4=(groups>7.2)\n",
    "plt.figure(figsize=(5,3))\n",
    "ax=plt.subplot()\n",
    "\n",
    "## fit the model for 1st group\n",
    "km_3.fit(T[g1], E[g1], label='below 4.1')\n",
    "km_3.plot(ax=ax,ci_show=False)\n",
    "\n",
    "## fit the model for 2nd group\n",
    "km_3.fit(T[g2], E[g2], label='btw 4.1-5.7')\n",
    "km_3.plot(ax=ax,ci_show=False)\n",
    "\n",
    "km_3.fit(T[g3], E[g3], label='btw 5.7-7.2 ')\n",
    "km_3.plot(ax=ax,ci_show=False)\n",
    "\n",
    "km_3.fit(T[g4], E[g4], label='above 7.2')\n",
    "km_3.plot(ax=ax,ci_show=False)\n",
    "\n",
    "\n",
    "plt.grid()\n",
    "plt.show()\n",
    "plt.savefig('km11.png',dpi=300)"
   ]
  },
  {
   "cell_type": "code",
   "execution_count": 76,
   "id": "2e7b5226",
   "metadata": {},
   "outputs": [
    {
     "data": {
      "image/png": "[encoded data removed]",
      "text/plain": [
       "<Figure size 360x216 with 1 Axes>"
      ]
     },
     "metadata": {
      "needs_background": "light"
     },
     "output_type": "display_data"
    },
    {
     "data": {
      "text/plain": [
       "<Figure size 432x288 with 0 Axes>"
      ]
     },
     "metadata": {},
     "output_type": "display_data"
    }
   ],
   "source": [
    "km_3 = KaplanMeierFitter()\n",
    "\n",
    "groups=df['anxiety']\n",
    "g1=(groups<=4.8)  \n",
    "g2=(groups>4.8) & (groups<=5.6)\n",
    "g3=(groups>5.6) & (groups<=7.1)\n",
    "g4=(groups>7.1)\n",
    "plt.figure(figsize=(5,3))\n",
    "ax=plt.subplot()\n",
    "\n",
    "## fit the model for 1st group\n",
    "km_3.fit(T[g1], E[g1], label='below 4.8')\n",
    "km_3.plot(ax=ax,ci_show=False)\n",
    "\n",
    "## fit the model for 2nd group\n",
    "km_3.fit(T[g2], E[g2], label='btw 4.8-5.6')\n",
    "km_3.plot(ax=ax,ci_show=False)\n",
    "\n",
    "km_3.fit(T[g3], E[g3], label='btw 5.6-7.1 ')\n",
    "km_3.plot(ax=ax,ci_show=False)\n",
    "\n",
    "km_3.fit(T[g4], E[g4], label='above 7.1')\n",
    "km_3.plot(ax=ax,ci_show=False)\n",
    "\n",
    "\n",
    "plt.grid()\n",
    "plt.show()\n",
    "plt.savefig('km12.png',dpi=300)"
   ]
  },
  {
   "cell_type": "code",
   "execution_count": 77,
   "id": "5d37e72f",
   "metadata": {},
   "outputs": [
    {
     "data": {
      "text/html": [
       "<div>\n",
       "<style scoped>\n",
       "    .dataframe tbody tr th:only-of-type {\n",
       "        vertical-align: middle;\n",
       "    }\n",
       "\n",
       "    .dataframe tbody tr th {\n",
       "        vertical-align: top;\n",
       "    }\n",
       "\n",
       "    .dataframe thead th {\n",
       "        text-align: right;\n",
       "    }\n",
       "</style>\n",
       "<table border=\"1\" class=\"dataframe\">\n",
       "  <tbody>\n",
       "    <tr>\n",
       "      <th>model</th>\n",
       "      <td>lifelines.CoxPHFitter</td>\n",
       "    </tr>\n",
       "    <tr>\n",
       "      <th>duration col</th>\n",
       "      <td>'stag'</td>\n",
       "    </tr>\n",
       "    <tr>\n",
       "      <th>event col</th>\n",
       "      <td>'event'</td>\n",
       "    </tr>\n",
       "    <tr>\n",
       "      <th>penalizer</th>\n",
       "      <td>0.1</td>\n",
       "    </tr>\n",
       "    <tr>\n",
       "      <th>l1 ratio</th>\n",
       "      <td>0.0</td>\n",
       "    </tr>\n",
       "    <tr>\n",
       "      <th>baseline estimation</th>\n",
       "      <td>breslow</td>\n",
       "    </tr>\n",
       "    <tr>\n",
       "      <th>number of observations</th>\n",
       "      <td>1129</td>\n",
       "    </tr>\n",
       "    <tr>\n",
       "      <th>number of events observed</th>\n",
       "      <td>571</td>\n",
       "    </tr>\n",
       "    <tr>\n",
       "      <th>partial log-likelihood</th>\n",
       "      <td>-3437.93</td>\n",
       "    </tr>\n",
       "    <tr>\n",
       "      <th>time fit was run</th>\n",
       "      <td>2022-09-06 04:26:34 UTC</td>\n",
       "    </tr>\n",
       "  </tbody>\n",
       "</table>\n",
       "</div><table border=\"1\" class=\"dataframe\">\n",
       "  <thead>\n",
       "    <tr style=\"text-align: right;\">\n",
       "      <th style=\"min-width: 12px;\"></th>\n",
       "      <th style=\"min-width: 12px;\">coef</th>\n",
       "      <th style=\"min-width: 12px;\">exp(coef)</th>\n",
       "      <th style=\"min-width: 12px;\">se(coef)</th>\n",
       "      <th style=\"min-width: 12px;\">coef lower 95%</th>\n",
       "      <th style=\"min-width: 12px;\">coef upper 95%</th>\n",
       "      <th style=\"min-width: 12px;\">exp(coef) lower 95%</th>\n",
       "      <th style=\"min-width: 12px;\">exp(coef) upper 95%</th>\n",
       "      <th style=\"min-width: 12px;\">cmp to</th>\n",
       "      <th style=\"min-width: 12px;\">z</th>\n",
       "      <th style=\"min-width: 12px;\">p</th>\n",
       "      <th style=\"min-width: 12px;\">-log2(p)</th>\n",
       "    </tr>\n",
       "  </thead>\n",
       "  <tbody>\n",
       "    <tr>\n",
       "      <th>gender</th>\n",
       "      <td>0.07</td>\n",
       "      <td>1.08</td>\n",
       "      <td>0.10</td>\n",
       "      <td>-0.11</td>\n",
       "      <td>0.26</td>\n",
       "      <td>0.89</td>\n",
       "      <td>1.30</td>\n",
       "      <td>0.00</td>\n",
       "      <td>0.78</td>\n",
       "      <td>0.43</td>\n",
       "      <td>1.21</td>\n",
       "    </tr>\n",
       "    <tr>\n",
       "      <th>age</th>\n",
       "      <td>0.02</td>\n",
       "      <td>1.02</td>\n",
       "      <td>0.01</td>\n",
       "      <td>0.01</td>\n",
       "      <td>0.03</td>\n",
       "      <td>1.01</td>\n",
       "      <td>1.03</td>\n",
       "      <td>0.00</td>\n",
       "      <td>2.85</td>\n",
       "      <td>&lt;0.005</td>\n",
       "      <td>7.85</td>\n",
       "    </tr>\n",
       "    <tr>\n",
       "      <th>industry</th>\n",
       "      <td>-0.05</td>\n",
       "      <td>0.95</td>\n",
       "      <td>0.02</td>\n",
       "      <td>-0.09</td>\n",
       "      <td>-0.01</td>\n",
       "      <td>0.92</td>\n",
       "      <td>0.99</td>\n",
       "      <td>0.00</td>\n",
       "      <td>-2.66</td>\n",
       "      <td>0.01</td>\n",
       "      <td>7.01</td>\n",
       "    </tr>\n",
       "    <tr>\n",
       "      <th>traffic</th>\n",
       "      <td>-0.07</td>\n",
       "      <td>0.93</td>\n",
       "      <td>0.02</td>\n",
       "      <td>-0.11</td>\n",
       "      <td>-0.03</td>\n",
       "      <td>0.90</td>\n",
       "      <td>0.97</td>\n",
       "      <td>0.00</td>\n",
       "      <td>-3.25</td>\n",
       "      <td>&lt;0.005</td>\n",
       "      <td>9.77</td>\n",
       "    </tr>\n",
       "    <tr>\n",
       "      <th>coach</th>\n",
       "      <td>-0.03</td>\n",
       "      <td>0.97</td>\n",
       "      <td>0.05</td>\n",
       "      <td>-0.12</td>\n",
       "      <td>0.06</td>\n",
       "      <td>0.89</td>\n",
       "      <td>1.06</td>\n",
       "      <td>0.00</td>\n",
       "      <td>-0.73</td>\n",
       "      <td>0.47</td>\n",
       "      <td>1.10</td>\n",
       "    </tr>\n",
       "    <tr>\n",
       "      <th>head_gender</th>\n",
       "      <td>-0.04</td>\n",
       "      <td>0.96</td>\n",
       "      <td>0.08</td>\n",
       "      <td>-0.20</td>\n",
       "      <td>0.11</td>\n",
       "      <td>0.82</td>\n",
       "      <td>1.12</td>\n",
       "      <td>0.00</td>\n",
       "      <td>-0.55</td>\n",
       "      <td>0.58</td>\n",
       "      <td>0.78</td>\n",
       "    </tr>\n",
       "    <tr>\n",
       "      <th>greywage</th>\n",
       "      <td>0.43</td>\n",
       "      <td>1.54</td>\n",
       "      <td>0.12</td>\n",
       "      <td>0.19</td>\n",
       "      <td>0.67</td>\n",
       "      <td>1.21</td>\n",
       "      <td>1.95</td>\n",
       "      <td>0.00</td>\n",
       "      <td>3.56</td>\n",
       "      <td>&lt;0.005</td>\n",
       "      <td>11.37</td>\n",
       "    </tr>\n",
       "    <tr>\n",
       "      <th>way</th>\n",
       "      <td>-0.16</td>\n",
       "      <td>0.86</td>\n",
       "      <td>0.06</td>\n",
       "      <td>-0.28</td>\n",
       "      <td>-0.04</td>\n",
       "      <td>0.76</td>\n",
       "      <td>0.96</td>\n",
       "      <td>0.00</td>\n",
       "      <td>-2.58</td>\n",
       "      <td>0.01</td>\n",
       "      <td>6.67</td>\n",
       "    </tr>\n",
       "    <tr>\n",
       "      <th>independ</th>\n",
       "      <td>-0.00</td>\n",
       "      <td>1.00</td>\n",
       "      <td>0.02</td>\n",
       "      <td>-0.05</td>\n",
       "      <td>0.05</td>\n",
       "      <td>0.95</td>\n",
       "      <td>1.05</td>\n",
       "      <td>0.00</td>\n",
       "      <td>-0.03</td>\n",
       "      <td>0.98</td>\n",
       "      <td>0.03</td>\n",
       "    </tr>\n",
       "    <tr>\n",
       "      <th>selfcontrol</th>\n",
       "      <td>-0.06</td>\n",
       "      <td>0.94</td>\n",
       "      <td>0.02</td>\n",
       "      <td>-0.10</td>\n",
       "      <td>-0.02</td>\n",
       "      <td>0.91</td>\n",
       "      <td>0.98</td>\n",
       "      <td>0.00</td>\n",
       "      <td>-2.87</td>\n",
       "      <td>&lt;0.005</td>\n",
       "      <td>7.93</td>\n",
       "    </tr>\n",
       "    <tr>\n",
       "      <th>anxiety</th>\n",
       "      <td>-0.04</td>\n",
       "      <td>0.96</td>\n",
       "      <td>0.03</td>\n",
       "      <td>-0.09</td>\n",
       "      <td>0.01</td>\n",
       "      <td>0.91</td>\n",
       "      <td>1.01</td>\n",
       "      <td>0.00</td>\n",
       "      <td>-1.63</td>\n",
       "      <td>0.10</td>\n",
       "      <td>3.27</td>\n",
       "    </tr>\n",
       "    <tr>\n",
       "      <th>Year</th>\n",
       "      <td>0.07</td>\n",
       "      <td>1.07</td>\n",
       "      <td>0.07</td>\n",
       "      <td>-0.07</td>\n",
       "      <td>0.21</td>\n",
       "      <td>0.93</td>\n",
       "      <td>1.23</td>\n",
       "      <td>0.00</td>\n",
       "      <td>0.93</td>\n",
       "      <td>0.35</td>\n",
       "      <td>1.50</td>\n",
       "    </tr>\n",
       "    <tr>\n",
       "      <th>Month</th>\n",
       "      <td>0.01</td>\n",
       "      <td>1.01</td>\n",
       "      <td>0.01</td>\n",
       "      <td>-0.02</td>\n",
       "      <td>0.03</td>\n",
       "      <td>0.98</td>\n",
       "      <td>1.03</td>\n",
       "      <td>0.00</td>\n",
       "      <td>0.46</td>\n",
       "      <td>0.64</td>\n",
       "      <td>0.63</td>\n",
       "    </tr>\n",
       "    <tr>\n",
       "      <th>Date</th>\n",
       "      <td>0.01</td>\n",
       "      <td>1.01</td>\n",
       "      <td>0.00</td>\n",
       "      <td>-0.00</td>\n",
       "      <td>0.01</td>\n",
       "      <td>1.00</td>\n",
       "      <td>1.01</td>\n",
       "      <td>0.00</td>\n",
       "      <td>1.17</td>\n",
       "      <td>0.24</td>\n",
       "      <td>2.04</td>\n",
       "    </tr>\n",
       "  </tbody>\n",
       "</table><br><div>\n",
       "<style scoped>\n",
       "    .dataframe tbody tr th:only-of-type {\n",
       "        vertical-align: middle;\n",
       "    }\n",
       "\n",
       "    .dataframe tbody tr th {\n",
       "        vertical-align: top;\n",
       "    }\n",
       "\n",
       "    .dataframe thead th {\n",
       "        text-align: right;\n",
       "    }\n",
       "</style>\n",
       "<table border=\"1\" class=\"dataframe\">\n",
       "  <tbody>\n",
       "    <tr>\n",
       "      <th>Concordance</th>\n",
       "      <td>0.62</td>\n",
       "    </tr>\n",
       "    <tr>\n",
       "      <th>Partial AIC</th>\n",
       "      <td>6903.87</td>\n",
       "    </tr>\n",
       "    <tr>\n",
       "      <th>log-likelihood ratio test</th>\n",
       "      <td>64.74 on 14 df</td>\n",
       "    </tr>\n",
       "    <tr>\n",
       "      <th>-log2(p) of ll-ratio test</th>\n",
       "      <td>25.81</td>\n",
       "    </tr>\n",
       "  </tbody>\n",
       "</table>\n",
       "</div>"
      ],
      "text/latex": [
       "\\begin{tabular}{lrrrrrrrrrrr}\n",
       "\\toprule\n",
       "{} &  coef &  exp(coef) &  se(coef) &  coef lower 95\\% &  coef upper 95\\% &  exp(coef) lower 95\\% &  exp(coef) upper 95\\% &  cmp to &     z &    p &  -log2(p) \\\\\n",
       "covariate   &       &            &           &                 &                 &                      &                      &         &       &      &           \\\\\n",
       "\\midrule\n",
       "gender      &  0.07 &       1.08 &      0.10 &           -0.11 &            0.26 &                 0.89 &                 1.30 &    0.00 &  0.78 & 0.43 &      1.21 \\\\\n",
       "age         &  0.02 &       1.02 &      0.01 &            0.01 &            0.03 &                 1.01 &                 1.03 &    0.00 &  2.85 & 0.00 &      7.85 \\\\\n",
       "industry    & -0.05 &       0.95 &      0.02 &           -0.09 &           -0.01 &                 0.92 &                 0.99 &    0.00 & -2.66 & 0.01 &      7.01 \\\\\n",
       "traffic     & -0.07 &       0.93 &      0.02 &           -0.11 &           -0.03 &                 0.90 &                 0.97 &    0.00 & -3.25 & 0.00 &      9.77 \\\\\n",
       "coach       & -0.03 &       0.97 &      0.05 &           -0.12 &            0.06 &                 0.89 &                 1.06 &    0.00 & -0.73 & 0.47 &      1.10 \\\\\n",
       "head\\_gender & -0.04 &       0.96 &      0.08 &           -0.20 &            0.11 &                 0.82 &                 1.12 &    0.00 & -0.55 & 0.58 &      0.78 \\\\\n",
       "greywage    &  0.43 &       1.54 &      0.12 &            0.19 &            0.67 &                 1.21 &                 1.95 &    0.00 &  3.56 & 0.00 &     11.37 \\\\\n",
       "way         & -0.16 &       0.86 &      0.06 &           -0.28 &           -0.04 &                 0.76 &                 0.96 &    0.00 & -2.58 & 0.01 &      6.67 \\\\\n",
       "independ    & -0.00 &       1.00 &      0.02 &           -0.05 &            0.05 &                 0.95 &                 1.05 &    0.00 & -0.03 & 0.98 &      0.03 \\\\\n",
       "selfcontrol & -0.06 &       0.94 &      0.02 &           -0.10 &           -0.02 &                 0.91 &                 0.98 &    0.00 & -2.87 & 0.00 &      7.93 \\\\\n",
       "anxiety     & -0.04 &       0.96 &      0.03 &           -0.09 &            0.01 &                 0.91 &                 1.01 &    0.00 & -1.63 & 0.10 &      3.27 \\\\\n",
       "Year        &  0.07 &       1.07 &      0.07 &           -0.07 &            0.21 &                 0.93 &                 1.23 &    0.00 &  0.93 & 0.35 &      1.50 \\\\\n",
       "Month       &  0.01 &       1.01 &      0.01 &           -0.02 &            0.03 &                 0.98 &                 1.03 &    0.00 &  0.46 & 0.64 &      0.63 \\\\\n",
       "Date        &  0.01 &       1.01 &      0.00 &           -0.00 &            0.01 &                 1.00 &                 1.01 &    0.00 &  1.17 & 0.24 &      2.04 \\\\\n",
       "\\bottomrule\n",
       "\\end{tabular}\n"
      ],
      "text/plain": [
       "<lifelines.CoxPHFitter: fitted with 1129 total observations, 558 right-censored observations>\n",
       "             duration col = 'stag'\n",
       "                event col = 'event'\n",
       "                penalizer = 0.1\n",
       "                 l1 ratio = 0.0\n",
       "      baseline estimation = breslow\n",
       "   number of observations = 1129\n",
       "number of events observed = 571\n",
       "   partial log-likelihood = -3437.93\n",
       "         time fit was run = 2022-09-06 04:26:34 UTC\n",
       "\n",
       "---\n",
       "              coef  exp(coef)   se(coef)   coef lower 95%   coef upper 95%  exp(coef) lower 95%  exp(coef) upper 95%\n",
       "covariate                                                                                                           \n",
       "gender        0.07       1.08       0.10            -0.11             0.26                 0.89                 1.30\n",
       "age           0.02       1.02       0.01             0.01             0.03                 1.01                 1.03\n",
       "industry     -0.05       0.95       0.02            -0.09            -0.01                 0.92                 0.99\n",
       "traffic      -0.07       0.93       0.02            -0.11            -0.03                 0.90                 0.97\n",
       "coach        -0.03       0.97       0.05            -0.12             0.06                 0.89                 1.06\n",
       "head_gender  -0.04       0.96       0.08            -0.20             0.11                 0.82                 1.12\n",
       "greywage      0.43       1.54       0.12             0.19             0.67                 1.21                 1.95\n",
       "way          -0.16       0.86       0.06            -0.28            -0.04                 0.76                 0.96\n",
       "independ     -0.00       1.00       0.02            -0.05             0.05                 0.95                 1.05\n",
       "selfcontrol  -0.06       0.94       0.02            -0.10            -0.02                 0.91                 0.98\n",
       "anxiety      -0.04       0.96       0.03            -0.09             0.01                 0.91                 1.01\n",
       "Year          0.07       1.07       0.07            -0.07             0.21                 0.93                 1.23\n",
       "Month         0.01       1.01       0.01            -0.02             0.03                 0.98                 1.03\n",
       "Date          0.01       1.01       0.00            -0.00             0.01                 1.00                 1.01\n",
       "\n",
       "              cmp to     z      p   -log2(p)\n",
       "covariate                                   \n",
       "gender          0.00  0.78   0.43       1.21\n",
       "age             0.00  2.85 <0.005       7.85\n",
       "industry        0.00 -2.66   0.01       7.01\n",
       "traffic         0.00 -3.25 <0.005       9.77\n",
       "coach           0.00 -0.73   0.47       1.10\n",
       "head_gender     0.00 -0.55   0.58       0.78\n",
       "greywage        0.00  3.56 <0.005      11.37\n",
       "way             0.00 -2.58   0.01       6.67\n",
       "independ        0.00 -0.03   0.98       0.03\n",
       "selfcontrol     0.00 -2.87 <0.005       7.93\n",
       "anxiety         0.00 -1.63   0.10       3.27\n",
       "Year            0.00  0.93   0.35       1.50\n",
       "Month           0.00  0.46   0.64       0.63\n",
       "Date            0.00  1.17   0.24       2.04\n",
       "---\n",
       "Concordance = 0.62\n",
       "Partial AIC = 6903.87\n",
       "log-likelihood ratio test = 64.74 on 14 df\n",
       "-log2(p) of ll-ratio test = 25.81"
      ]
     },
     "metadata": {},
     "output_type": "display_data"
    }
   ],
   "source": [
    "# Create Model\n",
    "cph = CoxPHFitter(penalizer=0.1)\n",
    "\n",
    "# Fit the data to train the model\n",
    "cph.fit(df, 'stag', event_col='event')\n",
    "\n",
    "# Have a look at the significance of the features\n",
    "cph.print_summary()\n"
   ]
  },
  {
   "cell_type": "code",
   "execution_count": 78,
   "id": "1bbc34b4",
   "metadata": {},
   "outputs": [
    {
     "data": {
      "text/plain": [
       "<AxesSubplot:xlabel='log(HR) (95% CI)'>"
      ]
     },
     "execution_count": 78,
     "metadata": {},
     "output_type": "execute_result"
    },
    {
     "data": {
      "image/png": "[encoded data removed]",
      "text/plain": [
       "<Figure size 432x288 with 1 Axes>"
      ]
     },
     "metadata": {
      "needs_background": "light"
     },
     "output_type": "display_data"
    }
   ],
   "source": [
    "cph.plot()"
   ]
  },
  {
   "cell_type": "code",
   "execution_count": 79,
   "id": "4187dc7a",
   "metadata": {},
   "outputs": [],
   "source": [
    "def map_all(frame):\n",
    "    # Map age\n",
    "    #age varies from 18 to 58, therefore 4 categories map to range of 10.\n",
    "    frame.loc[frame.age <= 26 , 'age'] = 0\n",
    "    frame.loc[(frame.age >26) & (frame.age<=30) , 'age'] = 1\n",
    "    frame.loc[(frame.age >30) & (frame.age<=36) , 'age'] = 2\n",
    "    frame.loc[(frame.age >36) , 'age'] = 3\n",
    "    \n",
    "    \n",
    "    # Map independ\n",
    "    # independ varies from 1 to 10 and we will map it depending upon the quartile variation.\n",
    "    # i.e 25% -> 4.1 , 50% -> 5.5 , 75% -> 6.9\n",
    "    frame.loc[(frame.independ <= 4.1) , 'independ'] = 0\n",
    "    frame.loc[(frame.independ > 4.1) & (frame.independ <= 5.5) , 'independ'] = 1\n",
    "    frame.loc[(frame.independ > 5.5) & (frame.independ <= 6.9) , 'independ'] = 2\n",
    "    frame.loc[(frame.independ > 6.9) , 'independ'] = 3\n",
    "\n",
    "     # Map self control\n",
    "    # selfcontrol varies from 1 to 10 and we will map it depending upon the quartile variation.\n",
    "    # i.e 25% -> 4.1 , 50% -> 5.7 , 75% -> 7.2\n",
    "    frame.loc[(frame.selfcontrol <= 4.1) , 'selfcontrol'] = 0\n",
    "    frame.loc[(frame.selfcontrol > 4.1) & (frame.selfcontrol <= 5.7) , 'selfcontrol'] = 1\n",
    "    frame.loc[(frame.selfcontrol > 5.7) & (frame.selfcontrol <= 7.2) , 'selfcontrol'] = 2\n",
    "    frame.loc[(frame.selfcontrol > 7.2) , 'selfcontrol'] = 3\n",
    "\n",
    "    # Map anxiety\n",
    "    # anxiety varies from 1 to 10 and we will map it depending upon the quartile variation.\n",
    "    # i.e 25% -> 4.8 , 50% -> 5.6 , 75% -> 7.1\n",
    "    frame.loc[(frame.anxiety <= 4.8) , 'anxiety'] = 0\n",
    "    frame.loc[(frame.anxiety > 4.8) & (frame.anxiety <= 5.6) , 'anxiety'] = 1\n",
    "    frame.loc[(frame.anxiety > 5.6) & (frame.anxiety <= 7.1) , 'anxiety'] = 2\n",
    "    frame.loc[(frame.anxiety > 7.1) , 'anxiety'] = 3\n",
    "    \n",
    "\n",
    "    # Map stag\n",
    "    # stag varies from 0.394250513 to 179.449692 and we will map it depending upon the quartile variation.\n",
    "    # i.e 25% ->11.72895277  , 50% ->24.3449692 , 75% ->51.31827515 \n",
    "    frame.loc[(frame.stag <=11.72895277 ) , 'stag'] = 0\n",
    "    frame.loc[(frame.stag >11.72895277 ) & (frame.stag <24.3449692) , 'stag'] = 1\n",
    "    frame.loc[(frame.stag>24.3449692 ) & (frame.stag <=51.31827515 ) , 'stag'] = 2\n",
    "    frame.loc[(frame.stag >51.31827515 ) , 'stag'] = 3\n",
    "\n",
    "\n",
    "    \n",
    "    frame.loc[(frame.Year ==2012 ) , 'Year'] = 0\n",
    "    frame.loc[(frame.Year ==2013 ) , 'Year'] = 1\n",
    "    frame.loc[(frame.Year ==2014 ) , 'Year'] = 2\n",
    "    \n",
    "    \n",
    "    frame.loc[(frame.Month <=3 ) , 'Month'] = 0\n",
    "    frame.loc[(frame.Month >3 ) & (frame.Month <= 6) , 'Month'] = 1\n",
    "    frame.loc[(frame.Month>6 ) & (frame.Month <= 10) , 'Month'] = 2\n",
    "    frame.loc[(frame.Month >10 ) , 'Month'] = 3\n",
    "    \n",
    "    \n",
    "    frame.loc[(frame.Date <=8 ) , 'Date'] = 0\n",
    "    frame.loc[(frame.Date >8 ) & (frame.Date <=16) , 'Date'] = 1\n",
    "    frame.loc[(frame.Date >16 ) & (frame.Date <=23 ) , 'Date'] = 2\n",
    "    frame.loc[(frame.Date >23 ) , 'Date'] = 3"
   ]
  },
  {
   "cell_type": "code",
   "execution_count": 80,
   "id": "69db6819",
   "metadata": {},
   "outputs": [
    {
     "data": {
      "text/plain": [
       "stag           float64\n",
       "event            int64\n",
       "gender           int32\n",
       "age            float64\n",
       "industry         int32\n",
       "traffic          int32\n",
       "coach            int32\n",
       "head_gender      int32\n",
       "greywage         int32\n",
       "way              int32\n",
       "independ       float64\n",
       "selfcontrol    float64\n",
       "anxiety        float64\n",
       "Year             int32\n",
       "Month            int32\n",
       "Date             int32\n",
       "dtype: object"
      ]
     },
     "execution_count": 80,
     "metadata": {},
     "output_type": "execute_result"
    }
   ],
   "source": [
    "df.dtypes"
   ]
  },
  {
   "cell_type": "code",
   "execution_count": 81,
   "id": "3d1cecf0",
   "metadata": {},
   "outputs": [],
   "source": [
    "X=df.drop(['stag'],axis=1)##independent features\n",
    "y=df['stag']##dependent features"
   ]
  },
  {
   "cell_type": "code",
   "execution_count": 82,
   "id": "d7883135",
   "metadata": {},
   "outputs": [
    {
     "name": "stdout",
     "output_type": "stream",
     "text": [
      "(790, 15) (339, 15) (790,) (339,)\n"
     ]
    },
    {
     "data": {
      "text/plain": [
       "stag           float64\n",
       "event            int64\n",
       "gender           int32\n",
       "age            float64\n",
       "industry         int32\n",
       "traffic          int32\n",
       "coach            int32\n",
       "head_gender      int32\n",
       "greywage         int32\n",
       "way              int32\n",
       "independ       float64\n",
       "selfcontrol    float64\n",
       "anxiety        float64\n",
       "Year             int32\n",
       "Month            int32\n",
       "Date             int32\n",
       "dtype: object"
      ]
     },
     "execution_count": 82,
     "metadata": {},
     "output_type": "execute_result"
    }
   ],
   "source": [
    "from sklearn.model_selection import train_test_split\n",
    "x_train, x_test, y_train, y_test = train_test_split(X, y, test_size=0.30, random_state=66)\n",
    "print(x_train.shape,x_test.shape,y_train.shape,y_test.shape)\n",
    "df.dtypes"
   ]
  },
  {
   "cell_type": "code",
   "execution_count": 83,
   "id": "64a84d14",
   "metadata": {},
   "outputs": [
    {
     "name": "stdout",
     "output_type": "stream",
     "text": [
      "-1103.343149947636\n"
     ]
    }
   ],
   "source": [
    "from sklearn.linear_model import LinearRegression\n",
    "from sklearn.model_selection import cross_val_score\n",
    "\n",
    "lin_regressor=LinearRegression()\n",
    "mse=cross_val_score(lin_regressor,X,y,scoring='neg_mean_squared_error',cv=5)\n",
    "mean_mse=np.mean(mse)\n",
    "print(mean_mse)"
   ]
  },
  {
   "cell_type": "code",
   "execution_count": 84,
   "id": "52b42630",
   "metadata": {},
   "outputs": [
    {
     "name": "stdout",
     "output_type": "stream",
     "text": [
      "{'alpha': 100}\n",
      "-1096.7640532120379\n"
     ]
    }
   ],
   "source": [
    "from sklearn.linear_model import Ridge\n",
    "from sklearn.model_selection import GridSearchCV\n",
    "\n",
    "ridge=Ridge()\n",
    "parameters={'alpha':[1e-15,1e-10,1e-8,1e-3,1e-2,1,5,10,20,30,35,40,45,50,55,100]}\n",
    "ridge_regressor=GridSearchCV(ridge,parameters,scoring='neg_mean_squared_error',cv=5)\n",
    "ridge_regressor.fit(X,y)\n",
    "print(ridge_regressor.best_params_)\n",
    "print(ridge_regressor.best_score_)"
   ]
  },
  {
   "cell_type": "code",
   "execution_count": 85,
   "id": "ade0922d",
   "metadata": {},
   "outputs": [
    {
     "name": "stdout",
     "output_type": "stream",
     "text": [
      "{'alpha': 1}\n",
      "-1098.891550712509\n"
     ]
    }
   ],
   "source": [
    "from sklearn.linear_model import Lasso\n",
    "from sklearn.model_selection import GridSearchCV\n",
    "lasso=Lasso()\n",
    "parameters={'alpha':[1e-15,1e-10,1e-8,1e-3,1e-2,1,5,10,20,30,35,40,45,50,55,100]}\n",
    "lasso_regressor=GridSearchCV(lasso,parameters,scoring='neg_mean_squared_error',cv=5)\n",
    "\n",
    "lasso_regressor.fit(X,y)\n",
    "print(lasso_regressor.best_params_)\n",
    "print(lasso_regressor.best_score_)"
   ]
  },
  {
   "cell_type": "code",
   "execution_count": 86,
   "id": "5cd33461",
   "metadata": {},
   "outputs": [],
   "source": [
    "prediction_lasso=lasso_regressor.predict(x_test)\n",
    "prediction_ridge=ridge_regressor.predict(x_test)"
   ]
  },
  {
   "cell_type": "code",
   "execution_count": 87,
   "id": "74fe152c",
   "metadata": {},
   "outputs": [
    {
     "data": {
      "text/plain": [
       "454     32.459959\n",
       "117     27.367556\n",
       "22      22.472279\n",
       "971     19.942505\n",
       "551     15.408624\n",
       "          ...    \n",
       "968      5.749487\n",
       "596      2.365503\n",
       "699     15.178645\n",
       "709    116.731006\n",
       "464      5.782341\n",
       "Name: stag, Length: 339, dtype: float64"
      ]
     },
     "execution_count": 87,
     "metadata": {},
     "output_type": "execute_result"
    }
   ],
   "source": [
    "y_test"
   ]
  },
  {
   "cell_type": "code",
   "execution_count": 88,
   "id": "a18fcdf7",
   "metadata": {},
   "outputs": [
    {
     "data": {
      "text/plain": [
       "<AxesSubplot:xlabel='stag', ylabel='Density'>"
      ]
     },
     "execution_count": 88,
     "metadata": {},
     "output_type": "execute_result"
    },
    {
     "data": {
      "image/png": "[encoded data removed]",
      "text/plain": [
       "<Figure size 432x288 with 1 Axes>"
      ]
     },
     "metadata": {
      "needs_background": "light"
     },
     "output_type": "display_data"
    }
   ],
   "source": [
    "import seaborn as sns\n",
    "\n",
    "sns.distplot(y_test-prediction_lasso)"
   ]
  },
  {
   "cell_type": "code",
   "execution_count": 89,
   "id": "144478fa",
   "metadata": {},
   "outputs": [
    {
     "data": {
      "text/plain": [
       "<AxesSubplot:xlabel='stag', ylabel='Density'>"
      ]
     },
     "execution_count": 89,
     "metadata": {},
     "output_type": "execute_result"
    },
    {
     "data": {
      "image/png": "[encoded data removed]",
      "text/plain": [
       "<Figure size 432x288 with 1 Axes>"
      ]
     },
     "metadata": {
      "needs_background": "light"
     },
     "output_type": "display_data"
    }
   ],
   "source": [
    "import seaborn as sns\n",
    "\n",
    "sns.distplot(y_test-prediction_ridge)"
   ]
  },
  {
   "cell_type": "code",
   "execution_count": null,
   "id": "cf5731fe",
   "metadata": {},
   "outputs": [],
   "source": []
  }
 ],
 "metadata": {
  "kernelspec": {
   "display_name": "Python 3 (ipykernel)",
   "language": "python",
   "name": "python3"
  },
  "language_info": {
   "codemirror_mode": {
    "name": "ipython",
    "version": 3
   },
   "file_extension": ".py",
   "mimetype": "text/x-python",
   "name": "python",
   "nbconvert_exporter": "python",
   "pygments_lexer": "ipython3",
   "version": "3.9.1"
  },
  "varInspector": {
   "cols": {
    "lenName": 16,
    "lenType": 16,
    "lenVar": 40
   },
   "kernels_config": {
    "python": {
     "delete_cmd_postfix": "",
     "delete_cmd_prefix": "del ",
     "library": "var_list.py",
     "varRefreshCmd": "print(var_dic_list())"
    },
    "r": {
     "delete_cmd_postfix": ") ",
     "delete_cmd_prefix": "rm(",
     "library": "var_list.r",
     "varRefreshCmd": "cat(var_dic_list()) "
    }
   },
   "types_to_exclude": [
    "module",
    "function",
    "builtin_function_or_method",
    "instance",
    "_Feature"
   ],
   "window_display": false
  }
 },
 "nbformat": 4,
 "nbformat_minor": 5
}
