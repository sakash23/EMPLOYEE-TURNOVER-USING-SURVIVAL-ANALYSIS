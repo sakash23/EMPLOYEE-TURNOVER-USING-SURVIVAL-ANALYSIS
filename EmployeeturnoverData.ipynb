{
 "cells": [
  {
   "attachments": {},
   "cell_type": "markdown",
   "id": "1c00198e",
   "metadata": {},
   "source": [
    "# EMPLOYEE TURNOVER USING SURVIVAL ANALYSIS"
   ]
  },
  {
   "cell_type": "markdown",
   "id": "e0f92dd6",
   "metadata": {},
   "source": [
    "# Importing Libraries"
   ]
  },
  {
   "cell_type": "code",
   "execution_count": 1,
   "id": "7d284895",
   "metadata": {},
   "outputs": [],
   "source": [
    "pip install sklearn"
   ]
  },
  {
   "cell_type": "code",
   "execution_count": 6,
   "id": "0b8ded1d",
   "metadata": {
    "scrolled": false
   },
   "outputs": [
    {
     "name": "stdout",
     "output_type": "stream",
     "text": [
      "Collecting pandas-profiling\n",
      "  Downloading pandas_profiling-3.2.0-py2.py3-none-any.whl (262 kB)\n",
      "Collecting phik>=0.11.1\n",
      "  Downloading phik-0.12.2-cp38-cp38-win_amd64.whl (677 kB)\n",
      "Collecting missingno>=0.4.2\n",
      "  Downloading missingno-0.5.1-py3-none-any.whl (8.7 kB)\n",
      "Collecting tangled-up-in-unicode==0.2.0\n",
      "  Downloading tangled_up_in_unicode-0.2.0-py3-none-any.whl (4.7 MB)\n",
      "Collecting markupsafe~=2.1.1\n",
      "  Downloading MarkupSafe-2.1.1-cp38-cp38-win_amd64.whl (17 kB)\n",
      "Requirement already satisfied: numpy>=1.16.0 in c:\\users\\akash sharma\\anaconda3\\lib\\site-packages (from pandas-profiling) (1.19.2)\n",
      "Requirement already satisfied: matplotlib>=3.2.0 in c:\\users\\akash sharma\\anaconda3\\lib\\site-packages (from pandas-profiling) (3.3.2)\n",
      "Requirement already satisfied: PyYAML>=5.0.0 in c:\\users\\akash sharma\\anaconda3\\lib\\site-packages (from pandas-profiling) (5.3.1)\n",
      "Requirement already satisfied: tqdm>=4.48.2 in c:\\users\\akash sharma\\anaconda3\\lib\\site-packages (from pandas-profiling) (4.50.2)\n",
      "Requirement already satisfied: seaborn>=0.10.1 in c:\\users\\akash sharma\\anaconda3\\lib\\site-packages (from pandas-profiling) (0.11.0)\n",
      "Collecting htmlmin>=0.1.12\n",
      "  Downloading htmlmin-0.1.12.tar.gz (19 kB)\n",
      "Requirement already satisfied: requests>=2.24.0 in c:\\users\\akash sharma\\anaconda3\\lib\\site-packages (from pandas-profiling) (2.24.0)\n",
      "Collecting pydantic>=1.8.1\n",
      "  Downloading pydantic-1.9.1-cp38-cp38-win_amd64.whl (2.1 MB)\n",
      "Collecting visions[type_image_path]==0.7.4\n",
      "  Downloading visions-0.7.4-py3-none-any.whl (102 kB)\n",
      "Requirement already satisfied: pandas!=1.0.0,!=1.0.1,!=1.0.2,!=1.1.0,>=0.25.3 in c:\\users\\akash sharma\\anaconda3\\lib\\site-packages (from pandas-profiling) (1.1.3)\n",
      "Requirement already satisfied: jinja2>=2.11.1 in c:\\users\\akash sharma\\anaconda3\\lib\\site-packages (from pandas-profiling) (2.11.2)\n",
      "Collecting joblib~=1.1.0\n",
      "  Downloading joblib-1.1.0-py2.py3-none-any.whl (306 kB)\n",
      "Requirement already satisfied: scipy>=1.4.1 in c:\\users\\akash sharma\\anaconda3\\lib\\site-packages (from pandas-profiling) (1.5.2)\n",
      "Collecting multimethod>=1.4\n",
      "  Downloading multimethod-1.8-py3-none-any.whl (9.8 kB)\n",
      "Requirement already satisfied: kiwisolver>=1.0.1 in c:\\users\\akash sharma\\anaconda3\\lib\\site-packages (from matplotlib>=3.2.0->pandas-profiling) (1.3.0)\n",
      "Requirement already satisfied: certifi>=2020.06.20 in c:\\users\\akash sharma\\anaconda3\\lib\\site-packages (from matplotlib>=3.2.0->pandas-profiling) (2020.6.20)\n",
      "Requirement already satisfied: python-dateutil>=2.1 in c:\\users\\akash sharma\\anaconda3\\lib\\site-packages (from matplotlib>=3.2.0->pandas-profiling) (2.8.1)\n",
      "Requirement already satisfied: cycler>=0.10 in c:\\users\\akash sharma\\anaconda3\\lib\\site-packages (from matplotlib>=3.2.0->pandas-profiling) (0.10.0)\n",
      "Requirement already satisfied: pillow>=6.2.0 in c:\\users\\akash sharma\\anaconda3\\lib\\site-packages (from matplotlib>=3.2.0->pandas-profiling) (8.0.1)\n",
      "Requirement already satisfied: pyparsing!=2.0.4,!=2.1.2,!=2.1.6,>=2.0.3 in c:\\users\\akash sharma\\anaconda3\\lib\\site-packages (from matplotlib>=3.2.0->pandas-profiling) (2.4.7)\n",
      "Requirement already satisfied: urllib3!=1.25.0,!=1.25.1,<1.26,>=1.21.1 in c:\\users\\akash sharma\\anaconda3\\lib\\site-packages (from requests>=2.24.0->pandas-profiling) (1.25.11)\n",
      "Requirement already satisfied: idna<3,>=2.5 in c:\\users\\akash sharma\\anaconda3\\lib\\site-packages (from requests>=2.24.0->pandas-profiling) (2.10)\n",
      "Requirement already satisfied: chardet<4,>=3.0.2 in c:\\users\\akash sharma\\anaconda3\\lib\\site-packages (from requests>=2.24.0->pandas-profiling) (3.0.4)\n",
      "Requirement already satisfied: typing-extensions>=3.7.4.3 in c:\\users\\akash sharma\\anaconda3\\lib\\site-packages (from pydantic>=1.8.1->pandas-profiling) (3.7.4.3)\n",
      "Requirement already satisfied: networkx>=2.4 in c:\\users\\akash sharma\\anaconda3\\lib\\site-packages (from visions[type_image_path]==0.7.4->pandas-profiling) (2.5)\n",
      "Requirement already satisfied: attrs>=19.3.0 in c:\\users\\akash sharma\\anaconda3\\lib\\site-packages (from visions[type_image_path]==0.7.4->pandas-profiling) (20.3.0)\n",
      "Collecting imagehash; extra == \"type_image_path\"\n",
      "  Downloading ImageHash-4.2.1.tar.gz (812 kB)\n",
      "Requirement already satisfied: pytz>=2017.2 in c:\\users\\akash sharma\\anaconda3\\lib\\site-packages (from pandas!=1.0.0,!=1.0.1,!=1.0.2,!=1.1.0,>=0.25.3->pandas-profiling) (2020.1)\n",
      "Requirement already satisfied: six>=1.5 in c:\\users\\akash sharma\\anaconda3\\lib\\site-packages (from python-dateutil>=2.1->matplotlib>=3.2.0->pandas-profiling) (1.15.0)\n",
      "Requirement already satisfied: decorator>=4.3.0 in c:\\users\\akash sharma\\anaconda3\\lib\\site-packages (from networkx>=2.4->visions[type_image_path]==0.7.4->pandas-profiling) (4.4.2)\n",
      "Requirement already satisfied: PyWavelets in c:\\users\\akash sharma\\anaconda3\\lib\\site-packages (from imagehash; extra == \"type_image_path\"->visions[type_image_path]==0.7.4->pandas-profiling) (1.1.1)\n",
      "Building wheels for collected packages: htmlmin, imagehash\n",
      "  Building wheel for htmlmin (setup.py): started\n",
      "  Building wheel for htmlmin (setup.py): finished with status 'done'\n",
      "  Created wheel for htmlmin: filename=htmlmin-0.1.12-py3-none-any.whl size=27091 sha256=704a41c58e0ad5025f12e0c04abc0b0866f5822b7d3eeaa7bc8f39240afa2e8a\n",
      "  Stored in directory: c:\\users\\akash sharma\\appdata\\local\\pip\\cache\\wheels\\23\\14\\6e\\4be5bfeeb027f4939a01764b48edd5996acf574b0913fe5243\n",
      "  Building wheel for imagehash (setup.py): started\n",
      "  Building wheel for imagehash (setup.py): finished with status 'done'\n",
      "  Created wheel for imagehash: filename=ImageHash-4.2.1-py2.py3-none-any.whl size=295204 sha256=5079f3cc0c1dffe683989c8b547081662becd7d3c6f6fc8449c28d1950f059a2\n",
      "  Stored in directory: c:\\users\\akash sharma\\appdata\\local\\pip\\cache\\wheels\\48\\a1\\7f\\096c1269d6bf78d4768180602579b35a1e8cb1250bb4b40c74\n",
      "Successfully built htmlmin imagehash\n",
      "Installing collected packages: joblib, phik, missingno, tangled-up-in-unicode, markupsafe, htmlmin, pydantic, multimethod, imagehash, visions, pandas-profiling\n",
      "  Attempting uninstall: joblib\n",
      "    Found existing installation: joblib 0.17.0\n",
      "    Uninstalling joblib-0.17.0:\n",
      "      Successfully uninstalled joblib-0.17.0\n",
      "  Attempting uninstall: markupsafe\n",
      "    Found existing installation: MarkupSafe 1.1.1\n",
      "    Uninstalling MarkupSafe-1.1.1:\n",
      "      Successfully uninstalled MarkupSafe-1.1.1\n",
      "Successfully installed htmlmin-0.1.12 imagehash-4.2.1 joblib-1.1.0 markupsafe-2.1.1 missingno-0.5.1 multimethod-1.8 pandas-profiling-3.2.0 phik-0.12.2 pydantic-1.9.1 tangled-up-in-unicode-0.2.0 visions-0.7.4\n"
     ]
    }
   ],
   "source": [
    "!pip install pandas-profiling\n"
   ]
  },
  {
   "cell_type": "markdown",
   "id": "1e959dea",
   "metadata": {},
   "source": [
    "#Before installing pandas profiling module, you should have install Microsoft visual studio 2019 in your desktop > Modify > Workloads > Desktop development with C++ then download and install all the files that it will suggest ,otherwise you will be getting an error.\n",
    "Use this link : https://visualstudio.microsoft.com/downloads/ (Download the community version)"
   ]
  },
  {
   "cell_type": "code",
   "execution_count": 3,
   "id": "f122f610",
   "metadata": {},
   "outputs": [
    {
     "name": "stdout",
     "output_type": "stream",
     "text": [
      "Note: you may need to restart the kernel to use updated packages.\n"
     ]
    },
    {
     "name": "stderr",
     "output_type": "stream",
     "text": [
      "'C:\\Users\\Akash' is not recognized as an internal or external command,\n",
      "operable program or batch file.\n"
     ]
    }
   ],
   "source": [
    "pip install seaborn\n"
   ]
  },
  {
   "cell_type": "code",
   "execution_count": 4,
   "id": "c05fec66",
   "metadata": {},
   "outputs": [
    {
     "name": "stdout",
     "output_type": "stream",
     "text": [
      "Note: you may need to restart the kernel to use updated packages.\n"
     ]
    },
    {
     "name": "stderr",
     "output_type": "stream",
     "text": [
      "'C:\\Users\\Akash' is not recognized as an internal or external command,\n",
      "operable program or batch file.\n"
     ]
    }
   ],
   "source": [
    "pip install lifelines"
   ]
  },
  {
   "cell_type": "code",
   "execution_count": 5,
   "id": "a93e36b4",
   "metadata": {},
   "outputs": [
    {
     "ename": "ModuleNotFoundError",
     "evalue": "No module named 'pandas_profiling'",
     "output_type": "error",
     "traceback": [
      "\u001b[1;31m---------------------------------------------------------------------------\u001b[0m",
      "\u001b[1;31mModuleNotFoundError\u001b[0m                       Traceback (most recent call last)",
      "\u001b[1;32m<ipython-input-5-32ff31ea9136>\u001b[0m in \u001b[0;36m<module>\u001b[1;34m\u001b[0m\n\u001b[0;32m      3\u001b[0m \u001b[1;32mimport\u001b[0m \u001b[0mmatplotlib\u001b[0m\u001b[1;33m.\u001b[0m\u001b[0mpyplot\u001b[0m \u001b[1;32mas\u001b[0m \u001b[0mplt\u001b[0m\u001b[1;33m\u001b[0m\u001b[1;33m\u001b[0m\u001b[0m\n\u001b[0;32m      4\u001b[0m \u001b[1;32mimport\u001b[0m \u001b[0mseaborn\u001b[0m \u001b[1;32mas\u001b[0m \u001b[0msns\u001b[0m\u001b[1;33m\u001b[0m\u001b[1;33m\u001b[0m\u001b[0m\n\u001b[1;32m----> 5\u001b[1;33m \u001b[1;32mimport\u001b[0m \u001b[0mpandas_profiling\u001b[0m\u001b[1;33m\u001b[0m\u001b[1;33m\u001b[0m\u001b[0m\n\u001b[0m\u001b[0;32m      6\u001b[0m \u001b[1;32mimport\u001b[0m \u001b[0mstatistics\u001b[0m\u001b[1;33m\u001b[0m\u001b[1;33m\u001b[0m\u001b[0m\n\u001b[0;32m      7\u001b[0m \u001b[1;33m\u001b[0m\u001b[0m\n",
      "\u001b[1;31mModuleNotFoundError\u001b[0m: No module named 'pandas_profiling'"
     ]
    }
   ],
   "source": [
    "import numpy as np\n",
    "import pandas as pd\n",
    "import matplotlib.pyplot as plt\n",
    "import seaborn as sns\n",
    "import pandas_profiling\n",
    "import statistics\n",
    "\n",
    "from lifelines import CoxPHFitter\n",
    "from lifelines import KaplanMeierFitter\n",
    "\n",
    "\n",
    "from sklearn.model_selection import train_test_split\n",
    "from sklearn.linear_model import LinearRegression\n",
    "from sklearn.linear_model import Ridge\n",
    "from sklearn.linear_model import Lasso\n",
    "from sklearn.model_selection import GridSearchCV\n",
    "\n",
    "import warnings\n",
    "warnings.filterwarnings('ignore')\n",
    "\n"
   ]
  },
  {
   "cell_type": "markdown",
   "id": "d63d9615",
   "metadata": {},
   "source": [
    "# Importing the data file"
   ]
  },
  {
   "cell_type": "code",
   "execution_count": null,
   "id": "28b24c50",
   "metadata": {},
   "outputs": [],
   "source": [
    "df=pd.read_excel(\"turnover-Data set Mentee 1.xlsx\")\n",
    "df.head(5)"
   ]
  },
  {
   "cell_type": "code",
   "execution_count": null,
   "id": "64e0782e",
   "metadata": {},
   "outputs": [],
   "source": [
    "df['Joining date']=df['Joining date'].astype(str)"
   ]
  },
  {
   "cell_type": "code",
   "execution_count": null,
   "id": "37f74593",
   "metadata": {},
   "outputs": [],
   "source": [
    "df[['Unnamed: 17','Unnamed: 18','Unnamed: 19']]=df['Joining date'].str.split('-',expand=True)"
   ]
  },
  {
   "cell_type": "code",
   "execution_count": null,
   "id": "20073d3a",
   "metadata": {},
   "outputs": [],
   "source": [
    "df.rename(columns={'Unnamed: 17' : 'Year','Unnamed: 18' : 'Month','Unnamed: 19' : 'Date'},inplace=True)"
   ]
  },
  {
   "cell_type": "code",
   "execution_count": null,
   "id": "9c615bc8",
   "metadata": {},
   "outputs": [],
   "source": [
    "df.dtypes"
   ]
  },
  {
   "cell_type": "code",
   "execution_count": null,
   "id": "7e00c255",
   "metadata": {},
   "outputs": [],
   "source": [
    "df['Year']=df['Year'].astype(int)\n",
    "df['Month']=df['Month'].astype(int)\n",
    "df['Date']=df['Date'].astype(int)"
   ]
  },
  {
   "cell_type": "code",
   "execution_count": null,
   "id": "b50772a6",
   "metadata": {},
   "outputs": [],
   "source": [
    "df.dtypes"
   ]
  },
  {
   "cell_type": "markdown",
   "id": "acc0f94b",
   "metadata": {},
   "source": [
    "# Data Description\n",
    "\n",
    "- stag : The duration of stay (in weeks) of an employee in a job.<br>\n",
    "\n",
    "- event : 0 - The employee is not terminated from the job.<br>\n",
    "     1 - The employee is terminated from the job.<br>\n",
    "          \n",
    "- gender : The gender of the employee.<br>\n",
    "\n",
    "- age : The age of the employee.It varies from 18yrs - 58yrs.<br>\n",
    "\n",
    "- industry : The name of the industry in which the employee works.<br>\n",
    "Retail           - 289<br>\n",
    "manufacture      - 145<br>\n",
    "IT               - 122<br>\n",
    "Banks            - 114<br>\n",
    "etc              -  94<br>\n",
    "Consult          -  74<br>\n",
    "State            -  55<br>\n",
    "Building         -  41<br>\n",
    "transport        -  38<br>\n",
    "PowerGeneration  -  38<br>\n",
    "Telecom          -  36<br>\n",
    "Mining           -  24<br>\n",
    "Pharma           -  20<br>\n",
    "Agriculture      -  15<br>\n",
    "RealEstate       -  13<br>\n",
    "HoReCa          -  11<br>\n",
    "    \n",
    "- profession : The name of the profession that the employee does<br>\n",
    "HR                  - 757<br>\n",
    "IT                  -  74<br>\n",
    "Sales               -  66<br>\n",
    "etc                 -  37<br>\n",
    "Marketing           -  31<br>\n",
    "BusinessDevelopment -  27<br>\n",
    "Consult             -  25<br>\n",
    "Commercial          -  23<br>\n",
    "manage              -  22<br>\n",
    "Finanñe             -  17<br>\n",
    "Engineer            -  15<br>\n",
    "Teaching            -  12<br>\n",
    "Accounting          -  10<br>\n",
    "Law                 -   7<br>\n",
    "PR                  -   6<br>\n",
    "\n",
    "- traffic : Different sources from where the employees get their job.<br>\n",
    "youjs        - 318<br>\n",
    "empjs        - 248<br>\n",
    "rabrecNErab  - 211<br>\n",
    "friends      - 118<br>\n",
    "referal      -  95<br>\n",
    "KA           -  67<br>\n",
    "recNErab     -  39<br>\n",
    "advert       -  33<br>\n",
    "\n",
    "- coach\t: Whether the employee has a coach during/before their job period.<br>\n",
    "no        - 683<br>\n",
    "my head   - 314<br>\n",
    "yes       - 132<br>\n",
    "\n",
    "- head_gender : Gender of the head manager provided to each employee.<br>\n",
    "m   - 584<br>\n",
    "f   - 545<br>\n",
    "\n",
    "- greywage : Type of wages i.e white(without any black money) and grey(with black money)<br>\n",
    "white   - 1002<br>\n",
    "grey    -  127<br>\n",
    "\n",
    "- way : The mode of transportation of employee.<br>\n",
    "bus   -  681<br>\n",
    "car   -  331<br>\n",
    "foot  -  117<br>\n",
    "\n",
    "- extraversion : The extraversion rating of employee out of 10. <br>\n",
    "\n",
    "- independ : The independ rating of employee out of 10.<br>\n",
    "\n",
    "- selfcontrol : The selfcontrol rating of employee out of 10.<br>\n",
    "\n",
    "- anxiety : The anxiety rating of employee out of 10.<br>\n",
    "\n",
    "- novator : The novator rating of employee out of 10.<br>\n",
    "\n",
    "- Joining date  : The date of joining of employees.The data is of 2 years from 17/1/2012 to 17/1/2014.<br>\n",
    "\n",
    "- Year : The year of joining.\n",
    "\n",
    "- Month : The month of joining.\n",
    "\n",
    "- Date : The date of joining.\n",
    "\n",
    "- Variable type  :<br> \n",
    " Numeric : stag, age, extraversion, independ,\n",
    "  selfcontrol, anxiety, novator, Year, Month, Date (10)<br>\n",
    "  \n",
    " Categorical :  event, gender, industry, profession, traffic,\n",
    "  coach, head_gender, greywage, way (9)<br> \n",
    "  \n",
    " DateTime : Joining date(1)\n",
    "   \n",
    "- Target Variable : stag  "
   ]
  },
  {
   "cell_type": "code",
   "execution_count": null,
   "id": "13d143b6",
   "metadata": {},
   "outputs": [],
   "source": [
    "df.shape"
   ]
  },
  {
   "cell_type": "markdown",
   "id": "3db39761",
   "metadata": {},
   "source": [
    "# Data Exploration"
   ]
  },
  {
   "cell_type": "code",
   "execution_count": null,
   "id": "2b5a175c",
   "metadata": {},
   "outputs": [],
   "source": [
    "df.event.value_counts()"
   ]
  },
  {
   "cell_type": "markdown",
   "id": "70545934",
   "metadata": {},
   "source": [
    "###  There are 571 employees terminated and 558 employees stayed in the job. We have 571 non-censored data and 558 censored data. "
   ]
  },
  {
   "cell_type": "code",
   "execution_count": null,
   "id": "8b5aac49",
   "metadata": {},
   "outputs": [],
   "source": [
    "df.event.value_counts(normalize=True)"
   ]
  },
  {
   "cell_type": "markdown",
   "id": "db80f257",
   "metadata": {},
   "source": [
    "### 49%  of the employee stayed in the job and 51%  of the employee terminated from the job."
   ]
  },
  {
   "cell_type": "code",
   "execution_count": null,
   "id": "0ac0a110",
   "metadata": {},
   "outputs": [],
   "source": [
    "df.groupby('event').mean()"
   ]
  },
  {
   "cell_type": "code",
   "execution_count": null,
   "id": "5e3cdb70",
   "metadata": {},
   "outputs": [],
   "source": [
    "dt=df.groupby(by='event')\n",
    "dr=dt.get_group(1)\n",
    "dr['age'].value_counts()"
   ]
  },
  {
   "cell_type": "code",
   "execution_count": null,
   "id": "bfdf693e",
   "metadata": {
    "scrolled": true
   },
   "outputs": [],
   "source": [
    "#pandas_profiling.ProfileReport(df)"
   ]
  },
  {
   "cell_type": "markdown",
   "id": "bb767059",
   "metadata": {},
   "source": [
    "### Joining Date is not useful as we already have the information in other columns.So we will remove it.\n",
    "###  There is no missing and duplicate value in our data."
   ]
  },
  {
   "cell_type": "code",
   "execution_count": null,
   "id": "5b8d718d",
   "metadata": {},
   "outputs": [],
   "source": [
    "df.drop(['extraversion','novator','profession','Joining date'],axis=1,inplace=True)"
   ]
  },
  {
   "cell_type": "code",
   "execution_count": null,
   "id": "c944cfef",
   "metadata": {},
   "outputs": [],
   "source": [
    "df.dtypes"
   ]
  },
  {
   "cell_type": "code",
   "execution_count": null,
   "id": "bf574829",
   "metadata": {},
   "outputs": [],
   "source": [
    "df.columns"
   ]
  },
  {
   "cell_type": "code",
   "execution_count": null,
   "id": "947c74f4",
   "metadata": {},
   "outputs": [],
   "source": [
    "df.describe()"
   ]
  },
  {
   "cell_type": "code",
   "execution_count": null,
   "id": "49132de6",
   "metadata": {},
   "outputs": [],
   "source": [
    "df.shape"
   ]
  },
  {
   "cell_type": "code",
   "execution_count": null,
   "id": "0f1bcc32",
   "metadata": {},
   "outputs": [],
   "source": [
    "num_bins = 14\n",
    "df.hist(bins=num_bins, figsize=(20,15))\n",
    "plt.show()"
   ]
  },
  {
   "cell_type": "markdown",
   "id": "549fd87d",
   "metadata": {},
   "source": [
    "# Data Visualization"
   ]
  },
  {
   "cell_type": "markdown",
   "id": "bcfa8b3f",
   "metadata": {},
   "source": [
    "## Gender"
   ]
  },
  {
   "cell_type": "code",
   "execution_count": null,
   "id": "7771d4ed",
   "metadata": {},
   "outputs": [],
   "source": [
    "df['gender'].value_counts()"
   ]
  },
  {
   "cell_type": "code",
   "execution_count": null,
   "id": "5a160f0e",
   "metadata": {},
   "outputs": [],
   "source": [
    "df[['gender' , 'event']].groupby('gender').mean().sort_values(by='event')"
   ]
  },
  {
   "cell_type": "markdown",
   "id": "1d4bcd7a",
   "metadata": {},
   "source": [
    "### The % of female employee terminated  is slightly more than males."
   ]
  },
  {
   "cell_type": "code",
   "execution_count": null,
   "id": "413f3847",
   "metadata": {},
   "outputs": [],
   "source": [
    "pd.crosstab(df.gender , df.event, margins=True , normalize=True)"
   ]
  },
  {
   "cell_type": "code",
   "execution_count": null,
   "id": "27b2f4df",
   "metadata": {},
   "outputs": [],
   "source": [
    "pd.crosstab(df.gender,df.event).plot(kind='bar',color=('green','red'))\n",
    "plt.xticks(rotation='horizontal')\n",
    "plt.grid()\n",
    "plt.title('Gender wise Turnover frequency')\n",
    "plt.xlabel('Gender')\n",
    "plt.ylabel('Frequency of turnover')\n"
   ]
  },
  {
   "cell_type": "code",
   "execution_count": null,
   "id": "bfbaf812",
   "metadata": {},
   "outputs": [],
   "source": [
    "fig_dims=(5,3)\n",
    "fig,ax=plt.subplots(figsize=fig_dims)\n",
    "fig,ax=plt.xticks(rotation='horizontal')\n",
    "fig,ax=plt.ylim(0,0.7)\n",
    "sns.barplot(x='gender',y='event',data=df,ci=None)\n",
    "\n",
    "ax=plt.gca()\n",
    "for p in ax.patches:\n",
    "    ax.text(p.get_x()+p.get_width()/2,p.get_height(),'%.2f' % float(p.get_height()),fontsize=12,color='black',ha='center',va='bottom')\n",
    "plt.savefig('gender.png',dpi=300)    "
   ]
  },
  {
   "cell_type": "markdown",
   "id": "975e75ce",
   "metadata": {},
   "source": [
    "### More female is terminated from the job than male."
   ]
  },
  {
   "cell_type": "markdown",
   "id": "b873d363",
   "metadata": {},
   "source": [
    "## Age"
   ]
  },
  {
   "cell_type": "code",
   "execution_count": null,
   "id": "21daa118",
   "metadata": {},
   "outputs": [],
   "source": [
    "dr=df.groupby('event')\n",
    "dt=dr.get_group(1)\n",
    "dt['gender'].value_counts()\n",
    "#de=dt.groupby('gender')\n",
    "#t=de.get_group('m')\n",
    "#w=t['age'].value_counts()\n",
    "#dt['independ'].value_counts()"
   ]
  },
  {
   "cell_type": "code",
   "execution_count": null,
   "id": "4170d230",
   "metadata": {},
   "outputs": [],
   "source": [
    "g=sns.catplot( y='age',x='event' , data=df  , kind='violin' , palette=['green','red'],height=4,legend=True)\n",
    "(g.set_axis_labels(\"\", \"Age\")\n",
    "  .set_xticklabels([\"Not-terminated\" , \"terminated\"]))\n",
    "\n",
    "plt.grid()\n",
    "plt.savefig('age.png',dpi=300)"
   ]
  },
  {
   "cell_type": "markdown",
   "id": "c7743172",
   "metadata": {},
   "source": [
    "## Industry"
   ]
  },
  {
   "cell_type": "code",
   "execution_count": null,
   "id": "871abd78",
   "metadata": {},
   "outputs": [],
   "source": [
    "pd.crosstab(df.industry , df.event,margins=True ,normalize=True)"
   ]
  },
  {
   "cell_type": "code",
   "execution_count": null,
   "id": "94813bc6",
   "metadata": {},
   "outputs": [],
   "source": [
    "df[['industry' , 'event']].groupby('industry').mean().sort_values(by='event')"
   ]
  },
  {
   "cell_type": "markdown",
   "id": "f9538414",
   "metadata": {},
   "source": [
    "### % of employee in different industry who terminated from their job."
   ]
  },
  {
   "cell_type": "code",
   "execution_count": null,
   "id": "5f8456fd",
   "metadata": {},
   "outputs": [],
   "source": [
    "fig_dim=(7,3)\n",
    "fig,ax=plt.subplots(figsize=fig_dim)\n",
    "fig,ax=plt.xticks(rotation='vertical')\n",
    "fig,ax=plt.ylim(0,0.9)\n",
    "sns.barplot(x='industry',y='event',data=df,ci=None)\n",
    "ax=plt.gca()\n",
    "for p in ax.patches:\n",
    "    ax.text(p.get_x()+p.get_width()/2,p.get_height(),'%.2f' % float(p.get_height()),fontsize=8,color='Black',ha='center',va='bottom')\n",
    "plt.savefig('industry.png',dpi=300)\n",
    "    "
   ]
  },
  {
   "cell_type": "code",
   "execution_count": null,
   "id": "48b69efe",
   "metadata": {},
   "outputs": [],
   "source": [
    "pd.crosstab(df.industry , df.event ).plot(kind='bar',color=('green','red'),figsize=(10,5))\n",
    "plt.xticks(rotation='vertical')\n",
    "plt.grid()\n",
    "plt.title('Industry wise Turnover frequency')\n",
    "plt.xlabel('Industry')\n",
    "plt.ylabel('Frequency of turnover')\n"
   ]
  },
  {
   "cell_type": "markdown",
   "id": "4519010c",
   "metadata": {},
   "source": [
    "### In 'Building' most of the employees is terminated."
   ]
  },
  {
   "cell_type": "markdown",
   "id": "7b0975dc",
   "metadata": {},
   "source": [
    "### Traffic"
   ]
  },
  {
   "cell_type": "code",
   "execution_count": null,
   "id": "7b43bdbf",
   "metadata": {},
   "outputs": [],
   "source": [
    "pd.crosstab(df.traffic,df.event,margins=True)"
   ]
  },
  {
   "cell_type": "code",
   "execution_count": null,
   "id": "befca766",
   "metadata": {},
   "outputs": [],
   "source": [
    "df[['traffic' , 'event']].groupby('traffic').mean().sort_values(by='event')"
   ]
  },
  {
   "cell_type": "code",
   "execution_count": null,
   "id": "b1cbd25b",
   "metadata": {},
   "outputs": [],
   "source": [
    "fig_dim=(5,3)\n",
    "fig,ax=plt.subplots(figsize=fig_dim)\n",
    "fig,ax=plt.xticks(rotation='vertical')\n",
    "fig,ax=plt.ylim(0,0.9)\n",
    "sns.barplot(x='traffic',y='event',data=df,ci=None)\n",
    "ax=plt.gca()\n",
    "for p in ax.patches:\n",
    "    ax.text(p.get_x()+p.get_width()/2,p.get_height(),'%.2f' % float(p.get_height()),fontsize=8,color='Black',ha='center',va='bottom')\n",
    "plt.savefig('traffic.png',dpi=300)\n",
    "    "
   ]
  },
  {
   "cell_type": "code",
   "execution_count": null,
   "id": "a6759f87",
   "metadata": {},
   "outputs": [],
   "source": [
    "pd.crosstab(df.traffic,df.event).plot(kind='bar',color=('green','red',),figsize=(10,5))\n",
    "plt.xticks(rotation='vertical')\n",
    "plt.grid()\n",
    "plt.title('Traffic wise Turnover frequency')\n",
    "plt.xlabel('Traffic')\n",
    "plt.ylabel('Frequency of turnover')"
   ]
  },
  {
   "cell_type": "markdown",
   "id": "14d69e5b",
   "metadata": {},
   "source": [
    "### Employee who knows about the job through referal are more likely to terminate."
   ]
  },
  {
   "cell_type": "markdown",
   "id": "d8bd300e",
   "metadata": {},
   "source": [
    "## Coach"
   ]
  },
  {
   "cell_type": "code",
   "execution_count": null,
   "id": "a76ff2ff",
   "metadata": {},
   "outputs": [],
   "source": [
    "pd.crosstab(df.coach , df.event , margins=True )"
   ]
  },
  {
   "cell_type": "code",
   "execution_count": null,
   "id": "012d05bd",
   "metadata": {},
   "outputs": [],
   "source": [
    "df[['coach','event']].groupby('coach').mean().sort_values(by='event')"
   ]
  },
  {
   "cell_type": "code",
   "execution_count": null,
   "id": "75eb30fd",
   "metadata": {},
   "outputs": [],
   "source": [
    "pd.crosstab(df.coach , df.event ).plot(kind='bar',color=('g','r'),figsize=(10,5))\n",
    "plt.xticks(rotation='horizontal')\n",
    "plt.grid()\n",
    "plt.title('Coach wise Turnover frequency')\n",
    "plt.xlabel('Coach')\n",
    "plt.ylabel('Frequency of turnover')\n"
   ]
  },
  {
   "cell_type": "code",
   "execution_count": null,
   "id": "8d0c2e6e",
   "metadata": {},
   "outputs": [],
   "source": [
    "fig_dim=(4,3)\n",
    "fig,ax=plt.subplots(figsize=fig_dim)\n",
    "fig,ax=plt.xticks(rotation='horizontal')\n",
    "fig,ax=plt.ylim(0,0.7)\n",
    "sns.barplot(x='coach',y='event',data=df,ci=None)\n",
    "ax=plt.gca()\n",
    "for p in ax.patches:\n",
    "    ax.text(p.get_x()+p.get_width()/2,p.get_height(),'%.2f' % float(p.get_height()),fontsize=8,color='Black',ha='center',va='bottom')\n",
    "plt.savefig('coach.png',dpi=300)\n",
    "    "
   ]
  },
  {
   "cell_type": "markdown",
   "id": "48ed3113",
   "metadata": {},
   "source": [
    "### Employee having a coach is more likely to terminate."
   ]
  },
  {
   "cell_type": "markdown",
   "id": "837a1027",
   "metadata": {},
   "source": [
    "## head_gender"
   ]
  },
  {
   "cell_type": "code",
   "execution_count": null,
   "id": "2c274db9",
   "metadata": {},
   "outputs": [],
   "source": [
    "df[['head_gender','event']].groupby('head_gender').mean().sort_values(by='event')"
   ]
  },
  {
   "cell_type": "code",
   "execution_count": null,
   "id": "ead96630",
   "metadata": {},
   "outputs": [],
   "source": [
    "pd.crosstab(df.head_gender , df.event , margins=True )"
   ]
  },
  {
   "cell_type": "code",
   "execution_count": null,
   "id": "3b2fc706",
   "metadata": {},
   "outputs": [],
   "source": [
    "pd.crosstab(df.head_gender , df.event ).plot(kind='bar',color=('g','r'),figsize=(5,3))\n",
    "plt.xticks(rotation='horizontal')\n",
    "plt.grid()\n",
    "plt.title('head_gender wise Turnover frequency')\n",
    "plt.xlabel('head_gender')\n",
    "plt.ylabel('Frequency of turnover')"
   ]
  },
  {
   "cell_type": "code",
   "execution_count": null,
   "id": "2eafb46a",
   "metadata": {},
   "outputs": [],
   "source": [
    "fig_dim=(3,3)\n",
    "fig,ax=plt.subplots(figsize=fig_dim)\n",
    "fig,ax=plt.xticks(rotation='horizontal')\n",
    "fig,ax=plt.ylim(0,0.7)\n",
    "sns.barplot(x='head_gender',y='event',data=df,ci=None)\n",
    "ax=plt.gca()\n",
    "for p in ax.patches:\n",
    "    ax.text(p.get_x()+p.get_width()/2,p.get_height(),'%.2f' % float(p.get_height()),fontsize=8,color='Black',ha='center',va='bottom')\n",
    "plt.savefig('head_gender.png',dpi=300)\n",
    "    "
   ]
  },
  {
   "cell_type": "markdown",
   "id": "a7c5343a",
   "metadata": {},
   "source": [
    "### Employee with male head are slightly more likely to terminate from their job."
   ]
  },
  {
   "cell_type": "markdown",
   "id": "0b514a6d",
   "metadata": {},
   "source": [
    "## Greywage"
   ]
  },
  {
   "cell_type": "code",
   "execution_count": null,
   "id": "155361a2",
   "metadata": {},
   "outputs": [],
   "source": [
    "df[['greywage','event']].groupby('greywage').mean().sort_values(by='event')"
   ]
  },
  {
   "cell_type": "code",
   "execution_count": null,
   "id": "e9a6b466",
   "metadata": {},
   "outputs": [],
   "source": [
    "pd.crosstab(df.greywage , df.event ).plot(kind='bar',color=('g','r'),figsize=(7,5))\n",
    "plt.xticks(rotation='horizontal')\n",
    "plt.grid()\n",
    "plt.title('greywage wise Turnover frequency')\n",
    "plt.xlabel('greywage')\n",
    "plt.ylabel('Frequency of turnover')"
   ]
  },
  {
   "cell_type": "code",
   "execution_count": null,
   "id": "8f9f4a3b",
   "metadata": {},
   "outputs": [],
   "source": [
    "fig_dim=(3,3)\n",
    "fig,ax=plt.subplots(figsize=fig_dim)\n",
    "fig,ax=plt.xticks(rotation='horizontal')\n",
    "fig,ax=plt.ylim(0,0.7)\n",
    "sns.barplot(x='greywage',y='event',data=df,ci=None)\n",
    "ax=plt.gca()\n",
    "for p in ax.patches:\n",
    "    ax.text(p.get_x()+p.get_width()/2,p.get_height(),'%.2f' % float(p.get_height()),fontsize=8,color='Black',ha='center',va='bottom')\n",
    "plt.savefig('greywage.png',dpi=300)"
   ]
  },
  {
   "cell_type": "markdown",
   "id": "790f4f9a",
   "metadata": {},
   "source": [
    "### Employees with grey wages are more likely to terminate from their job."
   ]
  },
  {
   "cell_type": "markdown",
   "id": "97d66fce",
   "metadata": {},
   "source": [
    "## Way"
   ]
  },
  {
   "cell_type": "code",
   "execution_count": null,
   "id": "48ffdc46",
   "metadata": {},
   "outputs": [],
   "source": [
    "pd.crosstab(df.way , df.event,margins=True )"
   ]
  },
  {
   "cell_type": "code",
   "execution_count": null,
   "id": "5677fdc3",
   "metadata": {},
   "outputs": [],
   "source": [
    "pd.crosstab(df.way , df.event).plot(kind='bar',color=('g','r'),figsize=(10,5))\n",
    "plt.xticks(rotation='horizontal')\n",
    "plt.grid()\n",
    "plt.title('Way wise Turnover frequency')\n",
    "plt.xlabel('Way')\n",
    "plt.ylabel('Frequency of turnover')"
   ]
  },
  {
   "cell_type": "code",
   "execution_count": null,
   "id": "f5c4f06c",
   "metadata": {},
   "outputs": [],
   "source": [
    "df[['way' , 'event']].groupby('way').mean().sort_values(by='event')"
   ]
  },
  {
   "cell_type": "code",
   "execution_count": null,
   "id": "8f8f5d9b",
   "metadata": {},
   "outputs": [],
   "source": [
    "fig_dim=(5,3)\n",
    "fig,ax=plt.subplots(figsize=fig_dim)\n",
    "fig,ax=plt.xticks(rotation='horizontal')\n",
    "fig,ax=plt.ylim(0,0.6)\n",
    "sns.barplot(x='way',y='event',data=df,ci=None)\n",
    "ax=plt.gca()\n",
    "for p in ax.patches:\n",
    "    ax.text(p.get_x()+p.get_width()/2,p.get_height(),'%.2f' % float(p.get_height()),fontsize=8,color='Black',ha='center',va='bottom')\n",
    "plt.savefig('way.png')    \n"
   ]
  },
  {
   "cell_type": "markdown",
   "id": "db6c3b98",
   "metadata": {},
   "source": [
    "### 53% employee whose mode of transportation is car is terminated."
   ]
  },
  {
   "cell_type": "markdown",
   "id": "a6c3e3b8",
   "metadata": {},
   "source": [
    "## independ"
   ]
  },
  {
   "cell_type": "code",
   "execution_count": null,
   "id": "1bc65e9c",
   "metadata": {},
   "outputs": [],
   "source": [
    "g=sns.catplot( y='independ',x='event' , data=df  , kind='violin' , palette=['green','red'] , height=4 , legend=True)\n",
    "(g.set_axis_labels(\"\", \"Independent\")\n",
    "  .set_xticklabels([\"Not-terminated\" , \"terminated\"]))\n",
    "\n",
    "plt.grid()\n",
    "plt.savefig('independ.png',dpi=300)"
   ]
  },
  {
   "cell_type": "markdown",
   "id": "124aa39b",
   "metadata": {},
   "source": [
    "####  Most of the employee who terminate from their job has a rating in the range 4.8 to 5.5"
   ]
  },
  {
   "cell_type": "markdown",
   "id": "8baa2dee",
   "metadata": {},
   "source": [
    "## Selfcontrol"
   ]
  },
  {
   "cell_type": "code",
   "execution_count": null,
   "id": "74e7b618",
   "metadata": {},
   "outputs": [],
   "source": [
    "df['selfcontrol'].value_counts()"
   ]
  },
  {
   "cell_type": "code",
   "execution_count": null,
   "id": "6734414f",
   "metadata": {},
   "outputs": [],
   "source": [
    "df[['selfcontrol' , 'event']].groupby('selfcontrol').mean().sort_values(by='event')"
   ]
  },
  {
   "cell_type": "code",
   "execution_count": null,
   "id": "6f916784",
   "metadata": {},
   "outputs": [],
   "source": [
    "g=sns.catplot( y='selfcontrol',x='event' , data=df  , kind='violin' , palette=['green','red'] , height=4 , legend=True)\n",
    "(g.set_axis_labels(\"\", \"Selfcontrol\")\n",
    "  .set_xticklabels([\"Not-terminated\" , \"terminated\"]))\n",
    "\n",
    "plt.grid()\n",
    "plt.savefig('selfcontrol.png',dpi=300)"
   ]
  },
  {
   "cell_type": "markdown",
   "id": "4c65c4e8",
   "metadata": {},
   "source": [
    "### Most of the employees with rating  6 has terminated from their job."
   ]
  },
  {
   "cell_type": "markdown",
   "id": "21db9bbd",
   "metadata": {},
   "source": [
    "## Anxiety"
   ]
  },
  {
   "cell_type": "code",
   "execution_count": null,
   "id": "7e82fbc6",
   "metadata": {},
   "outputs": [],
   "source": [
    "g=sns.catplot( y='anxiety',x='event' , data=df  , kind='violin' , palette=['green','red'] , height=4 , legend=True)\n",
    "(g.set_axis_labels(\"\", \"anxiety\")\n",
    "  .set_xticklabels([\"Not-terminated\" , \"terminated\"]))\n",
    "\n",
    "plt.grid()\n",
    "plt.savefig('anxiety.png',dpi=300)"
   ]
  },
  {
   "cell_type": "markdown",
   "id": "e7edb922",
   "metadata": {},
   "source": [
    "### Employee with anxiety rating around 6 are more likely to terminate from their job."
   ]
  },
  {
   "cell_type": "markdown",
   "id": "caaf3e32",
   "metadata": {},
   "source": [
    "### Kaplan-meier curve"
   ]
  },
  {
   "cell_type": "code",
   "execution_count": null,
   "id": "7d167348",
   "metadata": {},
   "outputs": [],
   "source": [
    "T = df['stag']\n",
    "E = df['event']\n",
    "km = KaplanMeierFitter() \n",
    "plt.figure(figsize=(10,7))\n",
    "km.fit(T, E,label='Kaplan Meier Estimate')\n",
    "km.plot(ci_show=True) ## ci_show is meant for Confidence interval\n",
    "plt.grid()\n",
    "plt.show()\n",
    "plt.savefig('km0.jpg',dpi=300)"
   ]
  },
  {
   "cell_type": "code",
   "execution_count": null,
   "id": "12f3ea57",
   "metadata": {},
   "outputs": [],
   "source": [
    "df['industry']=df['industry'].replace({'PowerGeneration':'Pharma','Telecom':'Pharma','Agriculture':'Pharma','RealEstate':'Pharma','etc':'Pharma',' HoReCa':'Pharma',\n",
    "       'Mining':'Pharma', 'transport':'Pharma'})\n",
    "\n",
    "df['industry']=np.where(df['industry'] =='Pharma','Others', df['industry'])\n",
    "df['industry'].value_counts()"
   ]
  },
  {
   "cell_type": "code",
   "execution_count": null,
   "id": "bb77905e",
   "metadata": {},
   "outputs": [],
   "source": [
    "df.columns"
   ]
  },
  {
   "cell_type": "code",
   "execution_count": null,
   "id": "1bdc8f7a",
   "metadata": {},
   "outputs": [],
   "source": [
    "def map_all(frame):\n",
    "    # Map Sex\n",
    "    frame['gender'] = frame.gender.map({'m': 0 ,  'f': 1}).astype(int) \n",
    "    # Map profession\n",
    "    #frame['profession'] = frame.profession.map({'HR' : 0 , 'IT': 1 , 'Consult':2 , 'etc':3 , 'Marketing': 4 ,'BusinessDevelopment' :5 , 'Others': 6}).astype(int) \n",
    "    # Map industry\n",
    "    frame['industry'] = frame.industry.map({'Building' : 0 , 'Consult': 1 , 'Banks':2 , 'Retail':3 , 'manufacture': 4 ,'State' :5 , 'IT':6,'Others': 7}).astype(int)  \n",
    "    # Map way\n",
    "    frame['way'] = frame.way.map({'bus' : 0 , 'car': 1 , 'foot':2}).astype(int)   \n",
    "    # Map traffic\n",
    "    frame['traffic'] = frame.traffic.map({'youjs' : 0 , 'empjs': 1 , 'rabrecNErab':2 , 'friends':3 , 'referal': 4 ,'KA' :5 , 'recNErab':6, 'advert':7}).astype(int)  \n",
    "    # Map greywage\n",
    "    frame['greywage'] = frame.greywage.map({'white' : 0 , 'grey': 1 }).astype(int) \n",
    "    # Map coach\n",
    "    frame['coach'] = frame.coach.map({'no' : 0 , 'yes': 1 , 'my head':2 }).astype(int) \n",
    "    # Map head_gender\n",
    "    frame['head_gender'] = frame.head_gender.map({'m' : 0 , 'f': 1 }).astype(int)  \n",
    "  "
   ]
  },
  {
   "cell_type": "code",
   "execution_count": null,
   "id": "fe693b35",
   "metadata": {},
   "outputs": [],
   "source": [
    "map_all(df)"
   ]
  },
  {
   "cell_type": "code",
   "execution_count": null,
   "id": "af8973cf",
   "metadata": {},
   "outputs": [],
   "source": [
    "T = df['stag']\n",
    "E = df['event']\n",
    "\n",
    "km_2 = KaplanMeierFitter()\n",
    "\n",
    "groups = df['gender']   \n",
    "i1 = (groups == 0)   \n",
    "i2 = (groups == 1)  \n",
    "\n",
    "plt.figure(figsize=(7,5))\n",
    "ax=plt.subplot()\n",
    "\n",
    "## fit the model for 1st group\n",
    "km_2.fit(T[i1], E[i1], label='male')\n",
    "km_2.plot(ax=ax,ci_show=False)\n",
    "\n",
    "## fit the model for 2nd group\n",
    "km_2.fit(T[i2], E[i2], label='female')\n",
    "km_2.plot(ax=ax,ci_show=False)\n",
    "plt.grid()\n",
    "plt.show()\n",
    "plt.savefig('km1.png',dpi=300)\n",
    "\n"
   ]
  },
  {
   "cell_type": "code",
   "execution_count": null,
   "id": "9361be44",
   "metadata": {},
   "outputs": [],
   "source": [
    "km_3 = KaplanMeierFitter()\n",
    "\n",
    "groups=df['age']\n",
    "g1=(groups<=26)  \n",
    "g2=(groups>26) & (groups<=30)\n",
    "g3=(groups>30) & (groups<=36)\n",
    "g4=(groups>36)\n",
    "plt.figure(figsize=(7,5))\n",
    "ax=plt.subplot()\n",
    "\n",
    "## fit the model for 1st group\n",
    "km_3.fit(T[g1], E[g1], label='below age 26')\n",
    "km_3.plot(ax=ax,ci_show=False)\n",
    "\n",
    "## fit the model for 2nd group\n",
    "km_3.fit(T[g2], E[g2], label='age btw 26-30')\n",
    "km_3.plot(ax=ax,ci_show=False)\n",
    "\n",
    "km_3.fit(T[g3], E[g3], label='age btw 30-36 ')\n",
    "km_3.plot(ax=ax,ci_show=False)\n",
    "\n",
    "km_3.fit(T[g4], E[g4], label='above age 36')\n",
    "km_3.plot(ax=ax,ci_show=False)\n",
    "\n",
    "\n",
    "plt.grid()\n",
    "plt.show()\n",
    "plt.savefig('km2.png',dpi=300)"
   ]
  },
  {
   "cell_type": "code",
   "execution_count": null,
   "id": "cb323523",
   "metadata": {},
   "outputs": [],
   "source": []
  },
  {
   "cell_type": "code",
   "execution_count": null,
   "id": "f3beba26",
   "metadata": {},
   "outputs": [],
   "source": [
    "km_4 = KaplanMeierFitter()\n",
    "\n",
    "groups=df['industry']\n",
    "g1=(groups==0)  \n",
    "g2=(groups==1)\n",
    "g3=(groups==2)\n",
    "g4=(groups==3)\n",
    "g5=(groups==4)\n",
    "g6=(groups==5)\n",
    "g7=(groups==6)\n",
    "g8=(groups==7)\n",
    "\n",
    "plt.figure(figsize=(7,5))\n",
    "ax=plt.subplot()\n",
    "\n",
    "## fit the model for 1st group\n",
    "km_4.fit(T[g1], E[g1], label='Building')\n",
    "km_4.plot(ax=ax,ci_show=False)\n",
    "\n",
    "## fit the model for 2nd group\n",
    "km_4.fit(T[g2], E[g2], label='Consult')\n",
    "km_4.plot(ax=ax,ci_show=False)\n",
    "\n",
    "km_4.fit(T[g3], E[g3], label='Banks')\n",
    "km_4.plot(ax=ax,ci_show=False)\n",
    "\n",
    "km_4.fit(T[g4], E[g4], label='Retail')\n",
    "km_4.plot(ax=ax,ci_show=False)\n",
    "\n",
    "km_4.fit(T[g5], E[g5], label='manufacture')\n",
    "km_4.plot(ax=ax,ci_show=False)\n",
    "\n",
    "km_4.fit(T[g6], E[g6], label='State')\n",
    "km_4.plot(ax=ax,ci_show=False)\n",
    "\n",
    "km_4.fit(T[g7], E[g7], label='IT')\n",
    "km_4.plot(ax=ax,ci_show=False)\n",
    "\n",
    "km_4.fit(T[g8], E[g8], label='Others')\n",
    "km_4.plot(ax=ax,ci_show=False)\n",
    "\n",
    "plt.grid()\n",
    "plt.show()\n",
    "plt.savefig('km4.png',dpi=300)"
   ]
  },
  {
   "cell_type": "code",
   "execution_count": null,
   "id": "4de0c8d1",
   "metadata": {},
   "outputs": [],
   "source": [
    "km_6 = KaplanMeierFitter()\n",
    "\n",
    "groups=df['coach']\n",
    "g1=(groups==0)  \n",
    "g2=(groups==1)\n",
    "g3=(groups==2)\n",
    "\n",
    "\n",
    "plt.figure(figsize=(5,3))\n",
    "ax=plt.subplot()\n",
    "\n",
    "## fit the model for 1st group\n",
    "km_6.fit(T[g1], E[g1], label='no')\n",
    "km_6.plot(ax=ax,ci_show=False)\n",
    "\n",
    "## fit the model for 2nd group\n",
    "km_6.fit(T[g2], E[g2], label='yes')\n",
    "km_6.plot(ax=ax,ci_show=False)\n",
    "\n",
    "km_6.fit(T[g3], E[g3], label='my_head')\n",
    "km_6.plot(ax=ax,ci_show=False)\n",
    "\n",
    "\n",
    "plt.grid()\n",
    "plt.show()\n",
    "plt.savefig('km5.png',dpi=300)"
   ]
  },
  {
   "cell_type": "code",
   "execution_count": null,
   "id": "984fa284",
   "metadata": {},
   "outputs": [],
   "source": [
    "km_6 = KaplanMeierFitter()\n",
    "\n",
    "groups=df['head_gender']\n",
    "g1=(groups==0)  \n",
    "g2=(groups==1)\n",
    "\n",
    "plt.figure(figsize=(5,3))\n",
    "ax=plt.subplot()\n",
    "\n",
    "## fit the model for 1st group\n",
    "km_6.fit(T[g1], E[g1], label='m')\n",
    "km_6.plot(ax=ax,ci_show=False)\n",
    "\n",
    "## fit the model for 2nd group\n",
    "km_6.fit(T[g2], E[g2], label='f')\n",
    "km_6.plot(ax=ax,ci_show=False)\n",
    "\n",
    "plt.grid()\n",
    "plt.show()\n",
    "plt.savefig('km6.png',dpi=300)"
   ]
  },
  {
   "cell_type": "code",
   "execution_count": null,
   "id": "87b435b0",
   "metadata": {},
   "outputs": [],
   "source": [
    "km_6 = KaplanMeierFitter()\n",
    "\n",
    "groups=df['way']\n",
    "g1=(groups==0)  \n",
    "g2=(groups==1)\n",
    "g3=(groups==2)\n",
    "\n",
    "\n",
    "plt.figure(figsize=(5,3))\n",
    "ax=plt.subplot()\n",
    "\n",
    "## fit the model for 1st group\n",
    "km_6.fit(T[g1], E[g1], label='bus')\n",
    "km_6.plot(ax=ax,ci_show=False)\n",
    "\n",
    "## fit the model for 2nd group\n",
    "km_6.fit(T[g2], E[g2], label='car')\n",
    "km_6.plot(ax=ax,ci_show=False)\n",
    "\n",
    "km_6.fit(T[g3], E[g3], label='foot')\n",
    "km_6.plot(ax=ax,ci_show=False)\n",
    "\n",
    "\n",
    "plt.grid()\n",
    "plt.show()\n",
    "plt.savefig('km7.png',dpi=300)"
   ]
  },
  {
   "cell_type": "code",
   "execution_count": null,
   "id": "e563aaea",
   "metadata": {},
   "outputs": [],
   "source": [
    "km_7 = KaplanMeierFitter()\n",
    "\n",
    "groups=df['greywage']\n",
    "g1=(groups==0)  \n",
    "g2=(groups==1)\n",
    "\n",
    "plt.figure(figsize=(7,5))\n",
    "ax=plt.subplot()\n",
    "\n",
    "## fit the model for 1st group\n",
    "km_7.fit(T[g1], E[g1], label='white')\n",
    "km_7.plot(ax=ax,ci_show=False)\n",
    "\n",
    "## fit the model for 2nd group\n",
    "km_7.fit(T[g2], E[g2], label='grey')\n",
    "km_7.plot(ax=ax,ci_show=False)\n",
    "\n",
    "\n",
    "\n",
    "plt.grid()\n",
    "plt.show()\n",
    "plt.savefig('km8.png',dpi=300)"
   ]
  },
  {
   "cell_type": "code",
   "execution_count": null,
   "id": "ad50cc71",
   "metadata": {},
   "outputs": [],
   "source": [
    "km_8 = KaplanMeierFitter()\n",
    "\n",
    "groups=df['traffic']\n",
    "g1=(groups==0)  \n",
    "g2=(groups==1)\n",
    "g3=(groups==2)\n",
    "g4=(groups==3)\n",
    "g5=(groups==4)\n",
    "g6=(groups==5)\n",
    "g7=(groups==6)\n",
    "g8=(groups==7)\n",
    "\n",
    "\n",
    "plt.figure(figsize=(7,5))\n",
    "ax=plt.subplot()\n",
    "\n",
    "## fit the model for 1st group\n",
    "km_8.fit(T[g1], E[g1], label='youjs')\n",
    "km_8.plot(ax=ax,ci_show=False)\n",
    "\n",
    "## fit the model for 2nd group\n",
    "km_8.fit(T[g2], E[g2], label='empjs')\n",
    "km_8.plot(ax=ax,ci_show=False)\n",
    "\n",
    "km_8.fit(T[g3], E[g3], label='rabrecNErab')\n",
    "km_8.plot(ax=ax,ci_show=False)\n",
    "\n",
    "km_8.fit(T[g4], E[g4], label='friends')\n",
    "km_8.plot(ax=ax,ci_show=False)\n",
    "\n",
    "km_8.fit(T[g5], E[g5], label='referal')\n",
    "km_8.plot(ax=ax,ci_show=False)\n",
    "\n",
    "km_8.fit(T[g6], E[g6], label='KA')\n",
    "km_8.plot(ax=ax,ci_show=False)\n",
    "\n",
    "km_8.fit(T[g7], E[g7], label='recNErab')\n",
    "km_8.plot(ax=ax,ci_show=False)\n",
    "\n",
    "km_8.fit(T[g8], E[g8], label='advert')\n",
    "km_8.plot(ax=ax,ci_show=False)\n",
    "plt.grid()\n",
    "plt.show()\n",
    "plt.savefig('km9.png',dpi=300)"
   ]
  },
  {
   "cell_type": "code",
   "execution_count": null,
   "id": "87ac28b6",
   "metadata": {},
   "outputs": [],
   "source": [
    "km_3 = KaplanMeierFitter()\n",
    "\n",
    "groups=df['independ']\n",
    "g1=(groups<=4.1)  \n",
    "g2=(groups>4.1) & (groups<=5.5)\n",
    "g3=(groups>5.5) & (groups<=6.9)\n",
    "g4=(groups>6.9)\n",
    "plt.figure(figsize=(5,3))\n",
    "ax=plt.subplot()\n",
    "\n",
    "## fit the model for 1st group\n",
    "km_3.fit(T[g1], E[g1], label='below 4.1')\n",
    "km_3.plot(ax=ax,ci_show=False)\n",
    "\n",
    "## fit the model for 2nd group\n",
    "km_3.fit(T[g2], E[g2], label='btw 4.1-5.5')\n",
    "km_3.plot(ax=ax,ci_show=False)\n",
    "\n",
    "km_3.fit(T[g3], E[g3], label='btw 5.5-6.9')\n",
    "km_3.plot(ax=ax,ci_show=False)\n",
    "\n",
    "km_3.fit(T[g4], E[g4], label='above 6.9')\n",
    "km_3.plot(ax=ax,ci_show=False)\n",
    "\n",
    "\n",
    "plt.grid()\n",
    "plt.show()\n",
    "plt.savefig('km10.png',dpi=300)"
   ]
  },
  {
   "cell_type": "code",
   "execution_count": null,
   "id": "2b7f46c0",
   "metadata": {},
   "outputs": [],
   "source": [
    "km_3 = KaplanMeierFitter()\n",
    "\n",
    "groups=df['selfcontrol']\n",
    "g1=(groups<=4.1)  \n",
    "g2=(groups>4.1) & (groups<=5.7)\n",
    "g3=(groups>5.7) & (groups<=7.2)\n",
    "g4=(groups>7.2)\n",
    "plt.figure(figsize=(5,3))\n",
    "ax=plt.subplot()\n",
    "\n",
    "## fit the model for 1st group\n",
    "km_3.fit(T[g1], E[g1], label='below 4.1')\n",
    "km_3.plot(ax=ax,ci_show=False)\n",
    "\n",
    "## fit the model for 2nd group\n",
    "km_3.fit(T[g2], E[g2], label='btw 4.1-5.7')\n",
    "km_3.plot(ax=ax,ci_show=False)\n",
    "\n",
    "km_3.fit(T[g3], E[g3], label='btw 5.7-7.2 ')\n",
    "km_3.plot(ax=ax,ci_show=False)\n",
    "\n",
    "km_3.fit(T[g4], E[g4], label='above 7.2')\n",
    "km_3.plot(ax=ax,ci_show=False)\n",
    "\n",
    "\n",
    "plt.grid()\n",
    "plt.show()\n",
    "plt.savefig('km11.png',dpi=300)"
   ]
  },
  {
   "cell_type": "code",
   "execution_count": null,
   "id": "2e7b5226",
   "metadata": {},
   "outputs": [],
   "source": [
    "km_3 = KaplanMeierFitter()\n",
    "\n",
    "groups=df['anxiety']\n",
    "g1=(groups<=4.8)  \n",
    "g2=(groups>4.8) & (groups<=5.6)\n",
    "g3=(groups>5.6) & (groups<=7.1)\n",
    "g4=(groups>7.1)\n",
    "plt.figure(figsize=(5,3))\n",
    "ax=plt.subplot()\n",
    "\n",
    "## fit the model for 1st group\n",
    "km_3.fit(T[g1], E[g1], label='below 4.8')\n",
    "km_3.plot(ax=ax,ci_show=False)\n",
    "\n",
    "## fit the model for 2nd group\n",
    "km_3.fit(T[g2], E[g2], label='btw 4.8-5.6')\n",
    "km_3.plot(ax=ax,ci_show=False)\n",
    "\n",
    "km_3.fit(T[g3], E[g3], label='btw 5.6-7.1 ')\n",
    "km_3.plot(ax=ax,ci_show=False)\n",
    "\n",
    "km_3.fit(T[g4], E[g4], label='above 7.1')\n",
    "km_3.plot(ax=ax,ci_show=False)\n",
    "\n",
    "\n",
    "plt.grid()\n",
    "plt.show()\n",
    "plt.savefig('km12.png',dpi=300)"
   ]
  },
  {
   "cell_type": "code",
   "execution_count": null,
   "id": "5d37e72f",
   "metadata": {},
   "outputs": [],
   "source": [
    "# Create Model\n",
    "cph = CoxPHFitter(penalizer=0.1)\n",
    "\n",
    "# Fit the data to train the model\n",
    "cph.fit(df, 'stag', event_col='event')\n",
    "\n",
    "# Have a look at the significance of the features\n",
    "cph.print_summary()\n"
   ]
  },
  {
   "cell_type": "code",
   "execution_count": null,
   "id": "1bbc34b4",
   "metadata": {},
   "outputs": [],
   "source": [
    "cph.plot()"
   ]
  },
  {
   "cell_type": "code",
   "execution_count": null,
   "id": "4187dc7a",
   "metadata": {},
   "outputs": [],
   "source": [
    "def map_all(frame):\n",
    "    # Map age\n",
    "    #age varies from 18 to 58, therefore 4 categories map to range of 10.\n",
    "    frame.loc[frame.age <= 26 , 'age'] = 0\n",
    "    frame.loc[(frame.age >26) & (frame.age<=30) , 'age'] = 1\n",
    "    frame.loc[(frame.age >30) & (frame.age<=36) , 'age'] = 2\n",
    "    frame.loc[(frame.age >36) , 'age'] = 3\n",
    "    \n",
    "    \n",
    "    # Map independ\n",
    "    # independ varies from 1 to 10 and we will map it depending upon the quartile variation.\n",
    "    # i.e 25% -> 4.1 , 50% -> 5.5 , 75% -> 6.9\n",
    "    frame.loc[(frame.independ <= 4.1) , 'independ'] = 0\n",
    "    frame.loc[(frame.independ > 4.1) & (frame.independ <= 5.5) , 'independ'] = 1\n",
    "    frame.loc[(frame.independ > 5.5) & (frame.independ <= 6.9) , 'independ'] = 2\n",
    "    frame.loc[(frame.independ > 6.9) , 'independ'] = 3\n",
    "\n",
    "     # Map self control\n",
    "    # selfcontrol varies from 1 to 10 and we will map it depending upon the quartile variation.\n",
    "    # i.e 25% -> 4.1 , 50% -> 5.7 , 75% -> 7.2\n",
    "    frame.loc[(frame.selfcontrol <= 4.1) , 'selfcontrol'] = 0\n",
    "    frame.loc[(frame.selfcontrol > 4.1) & (frame.selfcontrol <= 5.7) , 'selfcontrol'] = 1\n",
    "    frame.loc[(frame.selfcontrol > 5.7) & (frame.selfcontrol <= 7.2) , 'selfcontrol'] = 2\n",
    "    frame.loc[(frame.selfcontrol > 7.2) , 'selfcontrol'] = 3\n",
    "\n",
    "    # Map anxiety\n",
    "    # anxiety varies from 1 to 10 and we will map it depending upon the quartile variation.\n",
    "    # i.e 25% -> 4.8 , 50% -> 5.6 , 75% -> 7.1\n",
    "    frame.loc[(frame.anxiety <= 4.8) , 'anxiety'] = 0\n",
    "    frame.loc[(frame.anxiety > 4.8) & (frame.anxiety <= 5.6) , 'anxiety'] = 1\n",
    "    frame.loc[(frame.anxiety > 5.6) & (frame.anxiety <= 7.1) , 'anxiety'] = 2\n",
    "    frame.loc[(frame.anxiety > 7.1) , 'anxiety'] = 3\n",
    "    \n",
    "\n",
    "    # Map stag\n",
    "    # stag varies from 0.394250513 to 179.449692 and we will map it depending upon the quartile variation.\n",
    "    # i.e 25% ->11.72895277  , 50% ->24.3449692 , 75% ->51.31827515 \n",
    "    frame.loc[(frame.stag <=11.72895277 ) , 'stag'] = 0\n",
    "    frame.loc[(frame.stag >11.72895277 ) & (frame.stag <24.3449692) , 'stag'] = 1\n",
    "    frame.loc[(frame.stag>24.3449692 ) & (frame.stag <=51.31827515 ) , 'stag'] = 2\n",
    "    frame.loc[(frame.stag >51.31827515 ) , 'stag'] = 3\n",
    "\n",
    "\n",
    "    \n",
    "    frame.loc[(frame.Year ==2012 ) , 'Year'] = 0\n",
    "    frame.loc[(frame.Year ==2013 ) , 'Year'] = 1\n",
    "    frame.loc[(frame.Year ==2014 ) , 'Year'] = 2\n",
    "    \n",
    "    \n",
    "    frame.loc[(frame.Month <=3 ) , 'Month'] = 0\n",
    "    frame.loc[(frame.Month >3 ) & (frame.Month <= 6) , 'Month'] = 1\n",
    "    frame.loc[(frame.Month>6 ) & (frame.Month <= 10) , 'Month'] = 2\n",
    "    frame.loc[(frame.Month >10 ) , 'Month'] = 3\n",
    "    \n",
    "    \n",
    "    frame.loc[(frame.Date <=8 ) , 'Date'] = 0\n",
    "    frame.loc[(frame.Date >8 ) & (frame.Date <=16) , 'Date'] = 1\n",
    "    frame.loc[(frame.Date >16 ) & (frame.Date <=23 ) , 'Date'] = 2\n",
    "    frame.loc[(frame.Date >23 ) , 'Date'] = 3"
   ]
  },
  {
   "cell_type": "code",
   "execution_count": null,
   "id": "69db6819",
   "metadata": {},
   "outputs": [],
   "source": [
    "df.dtypes"
   ]
  },
  {
   "cell_type": "code",
   "execution_count": null,
   "id": "3d1cecf0",
   "metadata": {},
   "outputs": [],
   "source": [
    "X=df.drop(['stag'],axis=1)##independent features\n",
    "y=df['stag']##dependent features"
   ]
  },
  {
   "cell_type": "code",
   "execution_count": null,
   "id": "d7883135",
   "metadata": {},
   "outputs": [],
   "source": [
    "from sklearn.model_selection import train_test_split\n",
    "x_train, x_test, y_train, y_test = train_test_split(X, y, test_size=0.30, random_state=66)\n",
    "print(x_train.shape,x_test.shape,y_train.shape,y_test.shape)\n",
    "df.dtypes"
   ]
  },
  {
   "cell_type": "code",
   "execution_count": null,
   "id": "64a84d14",
   "metadata": {},
   "outputs": [],
   "source": [
    "from sklearn.linear_model import LinearRegression\n",
    "from sklearn.model_selection import cross_val_score\n",
    "\n",
    "lin_regressor=LinearRegression()\n",
    "mse=cross_val_score(lin_regressor,X,y,scoring='neg_mean_squared_error',cv=5)\n",
    "mean_mse=np.mean(mse)\n",
    "print(mean_mse)"
   ]
  },
  {
   "cell_type": "code",
   "execution_count": null,
   "id": "52b42630",
   "metadata": {},
   "outputs": [],
   "source": [
    "from sklearn.linear_model import Ridge\n",
    "from sklearn.model_selection import GridSearchCV\n",
    "\n",
    "ridge=Ridge()\n",
    "parameters={'alpha':[1e-15,1e-10,1e-8,1e-3,1e-2,1,5,10,20,30,35,40,45,50,55,100]}\n",
    "ridge_regressor=GridSearchCV(ridge,parameters,scoring='neg_mean_squared_error',cv=5)\n",
    "ridge_regressor.fit(X,y)\n",
    "print(ridge_regressor.best_params_)\n",
    "print(ridge_regressor.best_score_)"
   ]
  },
  {
   "cell_type": "code",
   "execution_count": null,
   "id": "ade0922d",
   "metadata": {},
   "outputs": [],
   "source": [
    "from sklearn.linear_model import Lasso\n",
    "from sklearn.model_selection import GridSearchCV\n",
    "lasso=Lasso()\n",
    "parameters={'alpha':[1e-15,1e-10,1e-8,1e-3,1e-2,1,5,10,20,30,35,40,45,50,55,100]}\n",
    "lasso_regressor=GridSearchCV(lasso,parameters,scoring='neg_mean_squared_error',cv=5)\n",
    "\n",
    "lasso_regressor.fit(X,y)\n",
    "print(lasso_regressor.best_params_)\n",
    "print(lasso_regressor.best_score_)"
   ]
  },
  {
   "cell_type": "code",
   "execution_count": null,
   "id": "5cd33461",
   "metadata": {},
   "outputs": [],
   "source": [
    "prediction_lasso=lasso_regressor.predict(x_test)\n",
    "prediction_ridge=ridge_regressor.predict(x_test)"
   ]
  },
  {
   "cell_type": "code",
   "execution_count": null,
   "id": "74fe152c",
   "metadata": {},
   "outputs": [],
   "source": [
    "y_test"
   ]
  },
  {
   "cell_type": "code",
   "execution_count": null,
   "id": "a18fcdf7",
   "metadata": {},
   "outputs": [],
   "source": [
    "import seaborn as sns\n",
    "\n",
    "sns.distplot(y_test-prediction_lasso)"
   ]
  },
  {
   "cell_type": "code",
   "execution_count": null,
   "id": "144478fa",
   "metadata": {},
   "outputs": [],
   "source": [
    "import seaborn as sns\n",
    "\n",
    "sns.distplot(y_test-prediction_ridge)"
   ]
  },
  {
   "cell_type": "code",
   "execution_count": null,
   "id": "cf5731fe",
   "metadata": {},
   "outputs": [],
   "source": []
  }
 ],
 "metadata": {
  "kernelspec": {
   "display_name": "Python 3 (ipykernel)",
   "language": "python",
   "name": "python3"
  },
  "language_info": {
   "codemirror_mode": {
    "name": "ipython",
    "version": 3
   },
   "file_extension": ".py",
   "mimetype": "text/x-python",
   "name": "python",
   "nbconvert_exporter": "python",
   "pygments_lexer": "ipython3",
   "version": "3.9.12"
  },
  "varInspector": {
   "cols": {
    "lenName": 16,
    "lenType": 16,
    "lenVar": 40
   },
   "kernels_config": {
    "python": {
     "delete_cmd_postfix": "",
     "delete_cmd_prefix": "del ",
     "library": "var_list.py",
     "varRefreshCmd": "print(var_dic_list())"
    },
    "r": {
     "delete_cmd_postfix": ") ",
     "delete_cmd_prefix": "rm(",
     "library": "var_list.r",
     "varRefreshCmd": "cat(var_dic_list()) "
    }
   },
   "types_to_exclude": [
    "module",
    "function",
    "builtin_function_or_method",
    "instance",
    "_Feature"
   ],
   "window_display": false
  }
 },
 "nbformat": 4,
 "nbformat_minor": 5
}
